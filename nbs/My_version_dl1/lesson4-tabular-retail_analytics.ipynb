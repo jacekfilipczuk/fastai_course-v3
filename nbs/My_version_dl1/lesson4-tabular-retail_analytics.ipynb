{
 "cells": [
  {
   "cell_type": "markdown",
   "metadata": {},
   "source": [
    "# Tabular models"
   ]
  },
  {
   "cell_type": "code",
   "execution_count": 18,
   "metadata": {
    "ExecuteTime": {
     "end_time": "2020-05-05T10:54:41.324164Z",
     "start_time": "2020-05-05T10:54:41.321207Z"
    }
   },
   "outputs": [],
   "source": [
    "from fastai.tabular import *\n",
    "from datetime import datetime, timedelta\n",
    "from tqdm import tqdm"
   ]
  },
  {
   "cell_type": "markdown",
   "metadata": {},
   "source": [
    "Tabular data should be in a Pandas `DataFrame`."
   ]
  },
  {
   "cell_type": "code",
   "execution_count": 34,
   "metadata": {
    "ExecuteTime": {
     "end_time": "2020-05-05T11:29:23.601961Z",
     "start_time": "2020-05-05T11:29:23.462242Z"
    }
   },
   "outputs": [],
   "source": [
    "path = Path('../../data/retail_dataset')\n",
    "df_feature = pd.read_csv(path/'Features data set.csv')\n",
    "df_sales = pd.read_csv(path/'sales data-set.csv')\n",
    "df_stores = pd.read_csv(path/'stores data-set.csv')"
   ]
  },
  {
   "cell_type": "code",
   "execution_count": 35,
   "metadata": {
    "ExecuteTime": {
     "end_time": "2020-05-05T11:29:23.935386Z",
     "start_time": "2020-05-05T11:29:23.750173Z"
    }
   },
   "outputs": [
    {
     "data": {
      "text/html": [
       "<div>\n",
       "<style scoped>\n",
       "    .dataframe tbody tr th:only-of-type {\n",
       "        vertical-align: middle;\n",
       "    }\n",
       "\n",
       "    .dataframe tbody tr th {\n",
       "        vertical-align: top;\n",
       "    }\n",
       "\n",
       "    .dataframe thead th {\n",
       "        text-align: right;\n",
       "    }\n",
       "</style>\n",
       "<table border=\"1\" class=\"dataframe\">\n",
       "  <thead>\n",
       "    <tr style=\"text-align: right;\">\n",
       "      <th></th>\n",
       "      <th>Store</th>\n",
       "      <th>Type</th>\n",
       "      <th>Size</th>\n",
       "      <th>Date</th>\n",
       "      <th>Temperature</th>\n",
       "      <th>Fuel_Price</th>\n",
       "      <th>MarkDown1</th>\n",
       "      <th>MarkDown2</th>\n",
       "      <th>MarkDown3</th>\n",
       "      <th>MarkDown4</th>\n",
       "      <th>MarkDown5</th>\n",
       "      <th>CPI</th>\n",
       "      <th>Unemployment</th>\n",
       "      <th>IsHolidayduplicate_</th>\n",
       "      <th>Dept</th>\n",
       "      <th>Weekly_Sales</th>\n",
       "      <th>IsHoliday</th>\n",
       "    </tr>\n",
       "  </thead>\n",
       "  <tbody>\n",
       "    <tr>\n",
       "      <th>0</th>\n",
       "      <td>1</td>\n",
       "      <td>A</td>\n",
       "      <td>151315</td>\n",
       "      <td>05/02/2010</td>\n",
       "      <td>42.31</td>\n",
       "      <td>2.572</td>\n",
       "      <td>NaN</td>\n",
       "      <td>NaN</td>\n",
       "      <td>NaN</td>\n",
       "      <td>NaN</td>\n",
       "      <td>NaN</td>\n",
       "      <td>211.096358</td>\n",
       "      <td>8.106</td>\n",
       "      <td>False</td>\n",
       "      <td>1.0</td>\n",
       "      <td>24924.50</td>\n",
       "      <td>False</td>\n",
       "    </tr>\n",
       "    <tr>\n",
       "      <th>1</th>\n",
       "      <td>1</td>\n",
       "      <td>A</td>\n",
       "      <td>151315</td>\n",
       "      <td>05/02/2010</td>\n",
       "      <td>42.31</td>\n",
       "      <td>2.572</td>\n",
       "      <td>NaN</td>\n",
       "      <td>NaN</td>\n",
       "      <td>NaN</td>\n",
       "      <td>NaN</td>\n",
       "      <td>NaN</td>\n",
       "      <td>211.096358</td>\n",
       "      <td>8.106</td>\n",
       "      <td>False</td>\n",
       "      <td>2.0</td>\n",
       "      <td>50605.27</td>\n",
       "      <td>False</td>\n",
       "    </tr>\n",
       "    <tr>\n",
       "      <th>2</th>\n",
       "      <td>1</td>\n",
       "      <td>A</td>\n",
       "      <td>151315</td>\n",
       "      <td>05/02/2010</td>\n",
       "      <td>42.31</td>\n",
       "      <td>2.572</td>\n",
       "      <td>NaN</td>\n",
       "      <td>NaN</td>\n",
       "      <td>NaN</td>\n",
       "      <td>NaN</td>\n",
       "      <td>NaN</td>\n",
       "      <td>211.096358</td>\n",
       "      <td>8.106</td>\n",
       "      <td>False</td>\n",
       "      <td>3.0</td>\n",
       "      <td>13740.12</td>\n",
       "      <td>False</td>\n",
       "    </tr>\n",
       "  </tbody>\n",
       "</table>\n",
       "</div>"
      ],
      "text/plain": [
       "   Store Type    Size        Date  Temperature  Fuel_Price  MarkDown1  \\\n",
       "0      1    A  151315  05/02/2010        42.31       2.572        NaN   \n",
       "1      1    A  151315  05/02/2010        42.31       2.572        NaN   \n",
       "2      1    A  151315  05/02/2010        42.31       2.572        NaN   \n",
       "\n",
       "   MarkDown2  MarkDown3  MarkDown4  MarkDown5         CPI  Unemployment  \\\n",
       "0        NaN        NaN        NaN        NaN  211.096358         8.106   \n",
       "1        NaN        NaN        NaN        NaN  211.096358         8.106   \n",
       "2        NaN        NaN        NaN        NaN  211.096358         8.106   \n",
       "\n",
       "   IsHolidayduplicate_  Dept  Weekly_Sales IsHoliday  \n",
       "0                False   1.0      24924.50     False  \n",
       "1                False   2.0      50605.27     False  \n",
       "2                False   3.0      13740.12     False  "
      ]
     },
     "execution_count": 35,
     "metadata": {},
     "output_type": "execute_result"
    }
   ],
   "source": [
    "df_temp = df_stores.join(df_feature.set_index('Store'), on='Store')\n",
    "df = df_temp.join(df_sales.set_index(['Store','Date']), on=['Store','Date'], lsuffix='duplicate_')\n",
    "df.dropna(subset=['Weekly_Sales'], inplace=True)\n",
    "df.reset_index(inplace=True, drop=True)\n",
    "df.head(3)"
   ]
  },
  {
   "cell_type": "code",
   "execution_count": 36,
   "metadata": {
    "ExecuteTime": {
     "end_time": "2020-05-05T11:29:24.218388Z",
     "start_time": "2020-05-05T11:29:24.211812Z"
    }
   },
   "outputs": [
    {
     "data": {
      "text/plain": [
       "(421570, 17)"
      ]
     },
     "execution_count": 36,
     "metadata": {},
     "output_type": "execute_result"
    }
   ],
   "source": [
    "df.shape"
   ]
  },
  {
   "cell_type": "code",
   "execution_count": 37,
   "metadata": {
    "ExecuteTime": {
     "end_time": "2020-05-05T11:29:24.706598Z",
     "start_time": "2020-05-05T11:29:24.632695Z"
    },
    "scrolled": true
   },
   "outputs": [
    {
     "data": {
      "text/plain": [
       "Store                       0\n",
       "Type                        0\n",
       "Size                        0\n",
       "Date                        0\n",
       "Temperature                 0\n",
       "Fuel_Price                  0\n",
       "MarkDown1              270889\n",
       "MarkDown2              310322\n",
       "MarkDown3              284479\n",
       "MarkDown4              286603\n",
       "MarkDown5              270138\n",
       "CPI                         0\n",
       "Unemployment                0\n",
       "IsHolidayduplicate_         0\n",
       "Dept                        0\n",
       "Weekly_Sales                0\n",
       "IsHoliday                   0\n",
       "dtype: int64"
      ]
     },
     "execution_count": 37,
     "metadata": {},
     "output_type": "execute_result"
    }
   ],
   "source": [
    "df.isnull().sum()"
   ]
  },
  {
   "cell_type": "code",
   "execution_count": 38,
   "metadata": {
    "ExecuteTime": {
     "end_time": "2020-05-05T11:29:25.042975Z",
     "start_time": "2020-05-05T11:29:25.035031Z"
    }
   },
   "outputs": [],
   "source": [
    "# Let's change from Fahrenheit to Celsius\n",
    "df['Temperature'] = (df['Temperature'] - 32) * 5/9"
   ]
  },
  {
   "cell_type": "code",
   "execution_count": 39,
   "metadata": {
    "ExecuteTime": {
     "end_time": "2020-05-05T11:29:25.847023Z",
     "start_time": "2020-05-05T11:29:25.761512Z"
    }
   },
   "outputs": [],
   "source": [
    "# Creating boolean variables that signal the presence of the markdown, True if there is a markdown, False otherwise\n",
    "df = df.assign(md1_present = df.MarkDown1.notnull())\n",
    "df = df.assign(md2_present = df.MarkDown2.notnull())\n",
    "df = df.assign(md3_present = df.MarkDown3.notnull())\n",
    "df = df.assign(md4_present = df.MarkDown4.notnull())\n",
    "df = df.assign(md5_present = df.MarkDown5.notnull())"
   ]
  },
  {
   "cell_type": "code",
   "execution_count": 40,
   "metadata": {
    "ExecuteTime": {
     "end_time": "2020-05-05T11:29:26.663102Z",
     "start_time": "2020-05-05T11:29:26.571452Z"
    }
   },
   "outputs": [],
   "source": [
    "df.fillna(0,inplace=True)"
   ]
  },
  {
   "cell_type": "code",
   "execution_count": 41,
   "metadata": {
    "ExecuteTime": {
     "end_time": "2020-05-05T11:29:27.784742Z",
     "start_time": "2020-05-05T11:29:27.359419Z"
    }
   },
   "outputs": [],
   "source": [
    "df['Date'] = pd.to_datetime(df['Date'])\n",
    "df = add_datepart(df,field_name='Date', drop=False)"
   ]
  },
  {
   "cell_type": "code",
   "execution_count": 42,
   "metadata": {
    "ExecuteTime": {
     "end_time": "2020-05-05T11:29:28.476962Z",
     "start_time": "2020-05-05T11:29:28.363543Z"
    }
   },
   "outputs": [
    {
     "data": {
      "text/html": [
       "<div>\n",
       "<style scoped>\n",
       "    .dataframe tbody tr th:only-of-type {\n",
       "        vertical-align: middle;\n",
       "    }\n",
       "\n",
       "    .dataframe tbody tr th {\n",
       "        vertical-align: top;\n",
       "    }\n",
       "\n",
       "    .dataframe thead th {\n",
       "        text-align: right;\n",
       "    }\n",
       "</style>\n",
       "<table border=\"1\" class=\"dataframe\">\n",
       "  <thead>\n",
       "    <tr style=\"text-align: right;\">\n",
       "      <th></th>\n",
       "      <th>Type</th>\n",
       "      <th>Dept</th>\n",
       "      <th>Store</th>\n",
       "      <th>Month</th>\n",
       "      <th>IsHoliday</th>\n",
       "      <th>Median_Sales</th>\n",
       "    </tr>\n",
       "  </thead>\n",
       "  <tbody>\n",
       "    <tr>\n",
       "      <th>0</th>\n",
       "      <td>A</td>\n",
       "      <td>1.0</td>\n",
       "      <td>1</td>\n",
       "      <td>1</td>\n",
       "      <td>False</td>\n",
       "      <td>17862.400</td>\n",
       "    </tr>\n",
       "    <tr>\n",
       "      <th>1</th>\n",
       "      <td>A</td>\n",
       "      <td>1.0</td>\n",
       "      <td>1</td>\n",
       "      <td>2</td>\n",
       "      <td>False</td>\n",
       "      <td>20124.220</td>\n",
       "    </tr>\n",
       "    <tr>\n",
       "      <th>2</th>\n",
       "      <td>A</td>\n",
       "      <td>1.0</td>\n",
       "      <td>1</td>\n",
       "      <td>3</td>\n",
       "      <td>False</td>\n",
       "      <td>22122.170</td>\n",
       "    </tr>\n",
       "    <tr>\n",
       "      <th>3</th>\n",
       "      <td>A</td>\n",
       "      <td>1.0</td>\n",
       "      <td>1</td>\n",
       "      <td>4</td>\n",
       "      <td>False</td>\n",
       "      <td>18962.285</td>\n",
       "    </tr>\n",
       "    <tr>\n",
       "      <th>4</th>\n",
       "      <td>A</td>\n",
       "      <td>1.0</td>\n",
       "      <td>1</td>\n",
       "      <td>5</td>\n",
       "      <td>False</td>\n",
       "      <td>17235.150</td>\n",
       "    </tr>\n",
       "  </tbody>\n",
       "</table>\n",
       "</div>"
      ],
      "text/plain": [
       "  Type  Dept  Store  Month  IsHoliday  Median_Sales\n",
       "0    A   1.0      1      1      False     17862.400\n",
       "1    A   1.0      1      2      False     20124.220\n",
       "2    A   1.0      1      3      False     22122.170\n",
       "3    A   1.0      1      4      False     18962.285\n",
       "4    A   1.0      1      5      False     17235.150"
      ]
     },
     "execution_count": 42,
     "metadata": {},
     "output_type": "execute_result"
    }
   ],
   "source": [
    "medians = pd.DataFrame({'Median_Sales' :df.groupby(by=['Type','Dept','Store','Month','IsHoliday'])['Weekly_Sales'].median()}).reset_index()\n",
    "medians.head()"
   ]
  },
  {
   "cell_type": "code",
   "execution_count": 43,
   "metadata": {
    "ExecuteTime": {
     "end_time": "2020-05-05T11:29:29.328627Z",
     "start_time": "2020-05-05T11:29:29.088060Z"
    }
   },
   "outputs": [],
   "source": [
    "df = df.merge(medians, how = 'outer', on = ['Type','Dept','Store','Month','IsHoliday'])"
   ]
  },
  {
   "cell_type": "code",
   "execution_count": 44,
   "metadata": {
    "ExecuteTime": {
     "end_time": "2020-05-05T11:29:30.031335Z",
     "start_time": "2020-05-05T11:29:30.012367Z"
    }
   },
   "outputs": [],
   "source": [
    "df['Lagged_Date'] = df['Date']- timedelta(days=7)"
   ]
  },
  {
   "cell_type": "code",
   "execution_count": 45,
   "metadata": {
    "ExecuteTime": {
     "end_time": "2020-05-05T11:29:31.324413Z",
     "start_time": "2020-05-05T11:29:31.183878Z"
    }
   },
   "outputs": [],
   "source": [
    "# Make a sorted dataframe. This will allow us to find lagged variables much faster!\n",
    "sorted_df = df.sort_values(['Store', 'Dept','Date'], ascending=[1, 1,1])\n",
    "sorted_df = sorted_df.reset_index(drop=True) # Reinitialize the row indices for the loop to work"
   ]
  },
  {
   "cell_type": "code",
   "execution_count": 46,
   "metadata": {
    "ExecuteTime": {
     "end_time": "2020-05-05T11:29:35.132847Z",
     "start_time": "2020-05-05T11:29:33.158868Z"
    }
   },
   "outputs": [
    {
     "name": "stderr",
     "output_type": "stream",
     "text": [
      "421570it [00:00, 1382230.99it/s]\n"
     ]
    }
   ],
   "source": [
    "lagged_sales = []\n",
    "lagged_available = []\n",
    "lagged_date = sorted_df['Lagged_Date'].tolist()\n",
    "date = sorted_df['Date'].tolist()\n",
    "weekly_sales = sorted_df['Weekly_Sales'].tolist()\n",
    "median_sales = sorted_df['Median_Sales'].tolist()\n",
    "last_date = date[0]\n",
    "last_sale = weekly_sales[0]\n",
    "for d,lagged_d,weekly_s,median_s in tqdm(zip(date,lagged_date,weekly_sales,median_sales)):\n",
    "    if (last_date == lagged_d) & (last_sale>0):\n",
    "        lagged_sales.append(last_sale)\n",
    "        lagged_available.append(1)\n",
    "    else:\n",
    "        lagged_sales.append(median_s)\n",
    "        lagged_available.append(0)\n",
    "    last_date = d\n",
    "    last_sale = weekly_s\n",
    "sorted_df['Lagged_Sales'] = lagged_sales\n",
    "sorted_df['Lagged_Available'] = lagged_available"
   ]
  },
  {
   "cell_type": "code",
   "execution_count": 47,
   "metadata": {
    "ExecuteTime": {
     "end_time": "2020-05-05T11:29:36.365579Z",
     "start_time": "2020-05-05T11:29:36.108823Z"
    }
   },
   "outputs": [],
   "source": [
    "df = df.merge(sorted_df[['Dept', 'Store','Date','Lagged_Sales','Lagged_Available']], how = 'inner', on = ['Dept', 'Store','Date'])"
   ]
  },
  {
   "cell_type": "code",
   "execution_count": 48,
   "metadata": {
    "ExecuteTime": {
     "end_time": "2020-05-05T11:29:38.491216Z",
     "start_time": "2020-05-05T11:29:38.438237Z"
    }
   },
   "outputs": [
    {
     "data": {
      "text/html": [
       "<div>\n",
       "<style scoped>\n",
       "    .dataframe tbody tr th:only-of-type {\n",
       "        vertical-align: middle;\n",
       "    }\n",
       "\n",
       "    .dataframe tbody tr th {\n",
       "        vertical-align: top;\n",
       "    }\n",
       "\n",
       "    .dataframe thead th {\n",
       "        text-align: right;\n",
       "    }\n",
       "</style>\n",
       "<table border=\"1\" class=\"dataframe\">\n",
       "  <thead>\n",
       "    <tr style=\"text-align: right;\">\n",
       "      <th></th>\n",
       "      <th>Dept</th>\n",
       "      <th>Store</th>\n",
       "      <th>Date</th>\n",
       "      <th>Lagged_Date</th>\n",
       "      <th>Lagged_Sales</th>\n",
       "      <th>Weekly_Sales</th>\n",
       "      <th>Median_Sales</th>\n",
       "    </tr>\n",
       "  </thead>\n",
       "  <tbody>\n",
       "    <tr>\n",
       "      <th>0</th>\n",
       "      <td>1.0</td>\n",
       "      <td>1</td>\n",
       "      <td>2010-05-02</td>\n",
       "      <td>2010-04-25</td>\n",
       "      <td>17235.15</td>\n",
       "      <td>24924.50</td>\n",
       "      <td>17235.15</td>\n",
       "    </tr>\n",
       "    <tr>\n",
       "      <th>1</th>\n",
       "      <td>1.0</td>\n",
       "      <td>1</td>\n",
       "      <td>2010-05-03</td>\n",
       "      <td>2010-04-26</td>\n",
       "      <td>17235.15</td>\n",
       "      <td>21827.90</td>\n",
       "      <td>17235.15</td>\n",
       "    </tr>\n",
       "    <tr>\n",
       "      <th>2</th>\n",
       "      <td>1.0</td>\n",
       "      <td>1</td>\n",
       "      <td>2010-05-14</td>\n",
       "      <td>2010-05-07</td>\n",
       "      <td>17235.15</td>\n",
       "      <td>18926.74</td>\n",
       "      <td>17235.15</td>\n",
       "    </tr>\n",
       "    <tr>\n",
       "      <th>3</th>\n",
       "      <td>1.0</td>\n",
       "      <td>1</td>\n",
       "      <td>2010-05-21</td>\n",
       "      <td>2010-05-14</td>\n",
       "      <td>18926.74</td>\n",
       "      <td>14773.04</td>\n",
       "      <td>17235.15</td>\n",
       "    </tr>\n",
       "    <tr>\n",
       "      <th>4</th>\n",
       "      <td>1.0</td>\n",
       "      <td>1</td>\n",
       "      <td>2010-05-28</td>\n",
       "      <td>2010-05-21</td>\n",
       "      <td>14773.04</td>\n",
       "      <td>15580.43</td>\n",
       "      <td>17235.15</td>\n",
       "    </tr>\n",
       "  </tbody>\n",
       "</table>\n",
       "</div>"
      ],
      "text/plain": [
       "   Dept  Store       Date Lagged_Date  Lagged_Sales  Weekly_Sales  \\\n",
       "0   1.0      1 2010-05-02  2010-04-25      17235.15      24924.50   \n",
       "1   1.0      1 2010-05-03  2010-04-26      17235.15      21827.90   \n",
       "2   1.0      1 2010-05-14  2010-05-07      17235.15      18926.74   \n",
       "3   1.0      1 2010-05-21  2010-05-14      18926.74      14773.04   \n",
       "4   1.0      1 2010-05-28  2010-05-21      14773.04      15580.43   \n",
       "\n",
       "   Median_Sales  \n",
       "0      17235.15  \n",
       "1      17235.15  \n",
       "2      17235.15  \n",
       "3      17235.15  \n",
       "4      17235.15  "
      ]
     },
     "execution_count": 48,
     "metadata": {},
     "output_type": "execute_result"
    }
   ],
   "source": [
    "df['Sales_dif'] = df['Median_Sales'] - df['Lagged_Sales']\n",
    "df[['Dept', 'Store','Date','Lagged_Date','Lagged_Sales','Weekly_Sales','Median_Sales']].head()"
   ]
  },
  {
   "cell_type": "code",
   "execution_count": 49,
   "metadata": {
    "ExecuteTime": {
     "end_time": "2020-05-05T11:29:39.159959Z",
     "start_time": "2020-05-05T11:29:39.145011Z"
    }
   },
   "outputs": [],
   "source": [
    "df['Difference'] = df['Median_Sales'] - df['Weekly_Sales']"
   ]
  },
  {
   "cell_type": "code",
   "execution_count": 50,
   "metadata": {
    "ExecuteTime": {
     "end_time": "2020-05-05T11:29:39.900671Z",
     "start_time": "2020-05-05T11:29:39.823697Z"
    }
   },
   "outputs": [],
   "source": [
    "df['Black_Friday'] = np.where((df['Date']==datetime(2010, 11, 26).date()) | \n",
    "                              (df['Date']==datetime(2011, 11, 25).date()), 'yes', 'no')\n",
    "df['Pre_christmas'] = np.where((df['Date']==datetime(2010, 12, 23).date()) | \n",
    "                               (df['Date']==datetime(2010, 12, 24).date()) | \n",
    "                               (df['Date']==datetime(2011, 12, 23).date()) | \n",
    "                               (df['Date']==datetime(2011, 12, 24).date()), 'yes', 'no')"
   ]
  },
  {
   "cell_type": "code",
   "execution_count": null,
   "metadata": {
    "ExecuteTime": {
     "end_time": "2020-05-05T11:31:04.107154Z",
     "start_time": "2020-05-05T11:31:04.090026Z"
    }
   },
   "outputs": [],
   "source": []
  },
  {
   "cell_type": "code",
   "execution_count": 191,
   "metadata": {},
   "outputs": [
    {
     "data": {
      "text/plain": [
       "count    421570.000000\n",
       "mean          8.501574\n",
       "std           2.075910\n",
       "min          -4.605170\n",
       "25%           7.640007\n",
       "50%           8.937485\n",
       "75%           9.913728\n",
       "max          13.448929\n",
       "Name: Weekly_Sales_log, dtype: float64"
      ]
     },
     "execution_count": 191,
     "metadata": {},
     "output_type": "execute_result"
    }
   ],
   "source": [
    "df['Weekly_Sales_log'] = df.Weekly_Sales.apply(lambda x: np.log(np.abs(x)) if x!=0 else 0)\n",
    "df.Weekly_Sales_log.describe()"
   ]
  },
  {
   "cell_type": "code",
   "execution_count": 55,
   "metadata": {
    "ExecuteTime": {
     "end_time": "2020-05-05T11:32:01.591494Z",
     "start_time": "2020-05-05T11:32:01.584177Z"
    }
   },
   "outputs": [
    {
     "data": {
      "text/plain": [
       "Index(['Store', 'Type', 'Size', 'Date', 'Temperature', 'Fuel_Price',\n",
       "       'MarkDown1', 'MarkDown2', 'MarkDown3', 'MarkDown4', 'MarkDown5', 'CPI',\n",
       "       'Unemployment', 'IsHolidayduplicate_', 'Dept', 'Weekly_Sales',\n",
       "       'IsHoliday', 'md1_present', 'md2_present', 'md3_present', 'md4_present',\n",
       "       'md5_present', 'Year', 'Month', 'Week', 'Day', 'Dayofweek', 'Dayofyear',\n",
       "       'Is_month_end', 'Is_month_start', 'Is_quarter_end', 'Is_quarter_start',\n",
       "       'Is_year_end', 'Is_year_start', 'Elapsed', 'Median_Sales',\n",
       "       'Lagged_Date', 'Lagged_Sales', 'Lagged_Available', 'Sales_dif',\n",
       "       'Difference', 'Black_Friday', 'Pre_christmas'],\n",
       "      dtype='object')"
      ]
     },
     "execution_count": 55,
     "metadata": {},
     "output_type": "execute_result"
    }
   ],
   "source": [
    "df.columns"
   ]
  },
  {
   "cell_type": "code",
   "execution_count": 172,
   "metadata": {
    "ExecuteTime": {
     "end_time": "2020-05-05T12:49:33.706539Z",
     "start_time": "2020-05-05T12:49:33.702839Z"
    }
   },
   "outputs": [],
   "source": [
    "dep_var = 'Weekly_Sales'\n",
    "cat_names = ['Store', 'Type','Dept','IsHoliday', 'md1_present', 'md2_present', 'md3_present', 'md4_present',\n",
    "       'md5_present','Month', 'Week', 'Day', 'Dayofweek', 'Dayofyear',\n",
    "       'Is_month_end', 'Is_month_start', 'Is_quarter_end', 'Is_quarter_start',\n",
    "       'Is_year_end', 'Is_year_start','Lagged_Available','Black_Friday', 'Pre_christmas']\n",
    "cont_names = ['Size', 'CPI', 'Temperature', 'Fuel_Price', 'Unemployment','Sales_dif',\n",
    "             'MarkDown1', 'MarkDown2', 'MarkDown3', 'MarkDown4', 'MarkDown5','Lagged_Sales']\n",
    "procs = [FillMissing, Categorify, Normalize]"
   ]
  },
  {
   "cell_type": "code",
   "execution_count": 190,
   "metadata": {
    "ExecuteTime": {
     "end_time": "2020-05-05T13:53:43.131723Z",
     "start_time": "2020-05-05T13:53:43.026496Z"
    }
   },
   "outputs": [],
   "source": [
    "df.sort_values(by='Date', inplace=True)\n",
    "df.reset_index(drop=True,inplace=True)"
   ]
  },
  {
   "cell_type": "code",
   "execution_count": 192,
   "metadata": {
    "ExecuteTime": {
     "end_time": "2020-05-05T13:53:53.876604Z",
     "start_time": "2020-05-05T13:53:53.861742Z"
    }
   },
   "outputs": [],
   "source": [
    "df_validation = df.iloc[-2000:].copy()\n",
    "test = TabularList.from_df(df_validation, path=path, cat_names=cat_names, cont_names=cont_names)"
   ]
  },
  {
   "cell_type": "code",
   "execution_count": 193,
   "metadata": {
    "ExecuteTime": {
     "end_time": "2020-05-05T13:54:02.785412Z",
     "start_time": "2020-05-05T13:54:01.875938Z"
    }
   },
   "outputs": [],
   "source": [
    "data = (TabularList.from_df(df, path=path, cat_names=cat_names, cont_names=cont_names, procs=procs)\n",
    "                           .split_by_idx(list(df_validation.index))\n",
    "                           .label_from_df(cols=dep_var, label_cls=FloatList, log=False)\n",
    "                           .add_test(test)\n",
    "                           .databunch())"
   ]
  },
  {
   "cell_type": "code",
   "execution_count": 166,
   "metadata": {
    "ExecuteTime": {
     "end_time": "2020-05-05T12:40:55.063964Z",
     "start_time": "2020-05-05T12:40:54.998721Z"
    }
   },
   "outputs": [
    {
     "data": {
      "text/html": [
       "<table border=\"1\" class=\"dataframe\">\n",
       "  <thead>\n",
       "    <tr style=\"text-align: right;\">\n",
       "      <th>IsHoliday</th>\n",
       "      <th>Black_Friday</th>\n",
       "      <th>Pre_christmas</th>\n",
       "      <th>Size</th>\n",
       "      <th>CPI</th>\n",
       "      <th>Temperature</th>\n",
       "      <th>Fuel_Price</th>\n",
       "      <th>Unemployment</th>\n",
       "      <th>Sales_dif</th>\n",
       "      <th>MarkDown1</th>\n",
       "      <th>MarkDown2</th>\n",
       "      <th>MarkDown3</th>\n",
       "      <th>MarkDown4</th>\n",
       "      <th>MarkDown5</th>\n",
       "      <th>Lagged_Sales</th>\n",
       "      <th>target</th>\n",
       "    </tr>\n",
       "  </thead>\n",
       "  <tbody>\n",
       "    <tr>\n",
       "      <td>False</td>\n",
       "      <td>no</td>\n",
       "      <td>no</td>\n",
       "      <td>-0.3646</td>\n",
       "      <td>-0.9267</td>\n",
       "      <td>0.1706</td>\n",
       "      <td>1.4674</td>\n",
       "      <td>-1.7011</td>\n",
       "      <td>0.7271</td>\n",
       "      <td>-0.4276</td>\n",
       "      <td>-0.1728</td>\n",
       "      <td>-0.0842</td>\n",
       "      <td>-0.2782</td>\n",
       "      <td>-0.3950</td>\n",
       "      <td>0.2541</td>\n",
       "      <td>4653.55</td>\n",
       "    </tr>\n",
       "    <tr>\n",
       "      <td>False</td>\n",
       "      <td>no</td>\n",
       "      <td>no</td>\n",
       "      <td>-0.1797</td>\n",
       "      <td>1.1369</td>\n",
       "      <td>-0.8794</td>\n",
       "      <td>-0.7642</td>\n",
       "      <td>-0.8254</td>\n",
       "      <td>0.3282</td>\n",
       "      <td>-0.4276</td>\n",
       "      <td>-0.1728</td>\n",
       "      <td>-0.0842</td>\n",
       "      <td>-0.2782</td>\n",
       "      <td>-0.3950</td>\n",
       "      <td>0.3021</td>\n",
       "      <td>2025.32</td>\n",
       "    </tr>\n",
       "    <tr>\n",
       "      <td>False</td>\n",
       "      <td>no</td>\n",
       "      <td>no</td>\n",
       "      <td>0.2569</td>\n",
       "      <td>-0.8833</td>\n",
       "      <td>-0.7201</td>\n",
       "      <td>0.5935</td>\n",
       "      <td>-0.1924</td>\n",
       "      <td>0.0419</td>\n",
       "      <td>-0.4276</td>\n",
       "      <td>-0.1728</td>\n",
       "      <td>-0.0842</td>\n",
       "      <td>-0.2782</td>\n",
       "      <td>-0.3950</td>\n",
       "      <td>-0.4318</td>\n",
       "      <td>539.095</td>\n",
       "    </tr>\n",
       "    <tr>\n",
       "      <td>False</td>\n",
       "      <td>no</td>\n",
       "      <td>no</td>\n",
       "      <td>-1.5857</td>\n",
       "      <td>-1.0202</td>\n",
       "      <td>0.2736</td>\n",
       "      <td>0.9748</td>\n",
       "      <td>-1.2512</td>\n",
       "      <td>0.0419</td>\n",
       "      <td>-0.2992</td>\n",
       "      <td>-0.1728</td>\n",
       "      <td>-0.0842</td>\n",
       "      <td>-0.2782</td>\n",
       "      <td>-0.1297</td>\n",
       "      <td>-0.2268</td>\n",
       "      <td>-2234.73</td>\n",
       "    </tr>\n",
       "    <tr>\n",
       "      <td>False</td>\n",
       "      <td>no</td>\n",
       "      <td>no</td>\n",
       "      <td>-0.3043</td>\n",
       "      <td>0.3379</td>\n",
       "      <td>-1.1640</td>\n",
       "      <td>0.1576</td>\n",
       "      <td>0.3169</td>\n",
       "      <td>0.0419</td>\n",
       "      <td>-0.4276</td>\n",
       "      <td>-0.1728</td>\n",
       "      <td>-0.0842</td>\n",
       "      <td>-0.2782</td>\n",
       "      <td>-0.3950</td>\n",
       "      <td>0.3649</td>\n",
       "      <td>36.135</td>\n",
       "    </tr>\n",
       "    <tr>\n",
       "      <td>False</td>\n",
       "      <td>no</td>\n",
       "      <td>no</td>\n",
       "      <td>-1.5893</td>\n",
       "      <td>-1.0178</td>\n",
       "      <td>0.3158</td>\n",
       "      <td>2.0492</td>\n",
       "      <td>1.2006</td>\n",
       "      <td>-0.0616</td>\n",
       "      <td>-0.4031</td>\n",
       "      <td>-0.1714</td>\n",
       "      <td>-0.0837</td>\n",
       "      <td>-0.2782</td>\n",
       "      <td>-0.3132</td>\n",
       "      <td>-0.4253</td>\n",
       "      <td>-487.13</td>\n",
       "    </tr>\n",
       "    <tr>\n",
       "      <td>False</td>\n",
       "      <td>no</td>\n",
       "      <td>no</td>\n",
       "      <td>0.7739</td>\n",
       "      <td>1.1128</td>\n",
       "      <td>1.2460</td>\n",
       "      <td>0.3603</td>\n",
       "      <td>0.1177</td>\n",
       "      <td>0.0419</td>\n",
       "      <td>-0.4276</td>\n",
       "      <td>-0.1728</td>\n",
       "      <td>-0.0842</td>\n",
       "      <td>-0.2782</td>\n",
       "      <td>-0.3950</td>\n",
       "      <td>-0.4547</td>\n",
       "      <td>820.62</td>\n",
       "    </tr>\n",
       "    <tr>\n",
       "      <td>False</td>\n",
       "      <td>no</td>\n",
       "      <td>no</td>\n",
       "      <td>-0.1686</td>\n",
       "      <td>-1.0508</td>\n",
       "      <td>-0.5201</td>\n",
       "      <td>0.2796</td>\n",
       "      <td>-0.0446</td>\n",
       "      <td>0.0419</td>\n",
       "      <td>-0.0643</td>\n",
       "      <td>-0.1065</td>\n",
       "      <td>0.1333</td>\n",
       "      <td>-0.2375</td>\n",
       "      <td>0.4297</td>\n",
       "      <td>1.9649</td>\n",
       "      <td>5500.03</td>\n",
       "    </tr>\n",
       "    <tr>\n",
       "      <td>False</td>\n",
       "      <td>no</td>\n",
       "      <td>no</td>\n",
       "      <td>1.3550</td>\n",
       "      <td>-1.1315</td>\n",
       "      <td>-1.8606</td>\n",
       "      <td>-1.1957</td>\n",
       "      <td>-0.0869</td>\n",
       "      <td>0.0419</td>\n",
       "      <td>-0.4276</td>\n",
       "      <td>-0.1728</td>\n",
       "      <td>-0.0842</td>\n",
       "      <td>-0.2782</td>\n",
       "      <td>-0.3950</td>\n",
       "      <td>-0.5357</td>\n",
       "      <td>-2058.08</td>\n",
       "    </tr>\n",
       "    <tr>\n",
       "      <td>False</td>\n",
       "      <td>no</td>\n",
       "      <td>no</td>\n",
       "      <td>-1.6269</td>\n",
       "      <td>1.2874</td>\n",
       "      <td>0.2052</td>\n",
       "      <td>-0.1148</td>\n",
       "      <td>-0.4072</td>\n",
       "      <td>0.0114</td>\n",
       "      <td>-0.1991</td>\n",
       "      <td>-0.1682</td>\n",
       "      <td>-0.0806</td>\n",
       "      <td>-0.0564</td>\n",
       "      <td>0.2992</td>\n",
       "      <td>-0.6359</td>\n",
       "      <td>-14.59</td>\n",
       "    </tr>\n",
       "  </tbody>\n",
       "</table>"
      ],
      "text/plain": [
       "<IPython.core.display.HTML object>"
      ]
     },
     "metadata": {},
     "output_type": "display_data"
    }
   ],
   "source": [
    "data.show_batch(rows=10)"
   ]
  },
  {
   "cell_type": "code",
   "execution_count": null,
   "metadata": {
    "ExecuteTime": {
     "end_time": "2020-05-05T12:40:56.015460Z",
     "start_time": "2020-05-05T12:40:55.964624Z"
    }
   },
   "outputs": [],
   "source": [
    "max_log_y = (np.max(df['Weekly_Sales_log'])*1.2)\n",
    "y_range = torch.tensor([0, max_log_y], device=defaults.device)"
   ]
  },
  {
   "cell_type": "code",
   "execution_count": 194,
   "metadata": {
    "ExecuteTime": {
     "end_time": "2020-05-05T13:54:06.525481Z",
     "start_time": "2020-05-05T13:54:06.504370Z"
    }
   },
   "outputs": [],
   "source": [
    "learn = tabular_learner(data, layers=[600,300],  metrics=[rmse, mae, accuracy],loss_func=mae)"
   ]
  },
  {
   "cell_type": "code",
   "execution_count": 195,
   "metadata": {
    "ExecuteTime": {
     "end_time": "2020-05-05T13:54:09.512506Z",
     "start_time": "2020-05-05T13:54:07.494792Z"
    }
   },
   "outputs": [
    {
     "data": {
      "text/html": [
       "\n",
       "    <div>\n",
       "        <style>\n",
       "            /* Turns off some styling */\n",
       "            progress {\n",
       "                /* gets rid of default border in Firefox and Opera. */\n",
       "                border: none;\n",
       "                /* Needs to be in here for Safari polyfill so background images work as expected. */\n",
       "                background-size: auto;\n",
       "            }\n",
       "            .progress-bar-interrupted, .progress-bar-interrupted::-webkit-progress-bar {\n",
       "                background: #F44336;\n",
       "            }\n",
       "        </style>\n",
       "      <progress value='0' class='' max='1' style='width:300px; height:20px; vertical-align: middle;'></progress>\n",
       "      0.00% [0/1 00:00<00:00]\n",
       "    </div>\n",
       "    \n",
       "<table border=\"1\" class=\"dataframe\">\n",
       "  <thead>\n",
       "    <tr style=\"text-align: left;\">\n",
       "      <th>epoch</th>\n",
       "      <th>train_loss</th>\n",
       "      <th>valid_loss</th>\n",
       "      <th>root_mean_squared_error</th>\n",
       "      <th>mean_absolute_error</th>\n",
       "      <th>accuracy</th>\n",
       "      <th>time</th>\n",
       "    </tr>\n",
       "  </thead>\n",
       "  <tbody>\n",
       "  </tbody>\n",
       "</table><p>\n",
       "\n",
       "    <div>\n",
       "        <style>\n",
       "            /* Turns off some styling */\n",
       "            progress {\n",
       "                /* gets rid of default border in Firefox and Opera. */\n",
       "                border: none;\n",
       "                /* Needs to be in here for Safari polyfill so background images work as expected. */\n",
       "                background-size: auto;\n",
       "            }\n",
       "            .progress-bar-interrupted, .progress-bar-interrupted::-webkit-progress-bar {\n",
       "                background: #F44336;\n",
       "            }\n",
       "        </style>\n",
       "      <progress value='92' class='' max='6555' style='width:300px; height:20px; vertical-align: middle;'></progress>\n",
       "      1.40% [92/6555 00:01<01:19 14525.1230]\n",
       "    </div>\n",
       "    "
      ],
      "text/plain": [
       "<IPython.core.display.HTML object>"
      ]
     },
     "metadata": {},
     "output_type": "display_data"
    },
    {
     "name": "stdout",
     "output_type": "stream",
     "text": [
      "LR Finder is complete, type {learner_name}.recorder.plot() to see the graph.\n"
     ]
    },
    {
     "data": {
      "image/png": "[encoded data removed]",
      "text/plain": [
       "<Figure size 432x288 with 1 Axes>"
      ]
     },
     "metadata": {
      "needs_background": "light"
     },
     "output_type": "display_data"
    }
   ],
   "source": [
    "learn.lr_find();\n",
    "learn.recorder.plot()"
   ]
  },
  {
   "cell_type": "code",
   "execution_count": 196,
   "metadata": {
    "ExecuteTime": {
     "end_time": "2020-05-05T14:04:40.446803Z",
     "start_time": "2020-05-05T13:54:16.454645Z"
    },
    "scrolled": true
   },
   "outputs": [
    {
     "data": {
      "text/html": [
       "<table border=\"1\" class=\"dataframe\">\n",
       "  <thead>\n",
       "    <tr style=\"text-align: left;\">\n",
       "      <th>epoch</th>\n",
       "      <th>train_loss</th>\n",
       "      <th>valid_loss</th>\n",
       "      <th>root_mean_squared_error</th>\n",
       "      <th>mean_absolute_error</th>\n",
       "      <th>accuracy</th>\n",
       "      <th>time</th>\n",
       "    </tr>\n",
       "  </thead>\n",
       "  <tbody>\n",
       "    <tr>\n",
       "      <td>0</td>\n",
       "      <td>4856.036621</td>\n",
       "      <td>5180.488770</td>\n",
       "      <td>11870.634766</td>\n",
       "      <td>5180.488770</td>\n",
       "      <td>0.000000</td>\n",
       "      <td>00:59</td>\n",
       "    </tr>\n",
       "    <tr>\n",
       "      <td>1</td>\n",
       "      <td>3578.649414</td>\n",
       "      <td>3400.650391</td>\n",
       "      <td>6058.312500</td>\n",
       "      <td>3400.649902</td>\n",
       "      <td>0.000000</td>\n",
       "      <td>00:59</td>\n",
       "    </tr>\n",
       "    <tr>\n",
       "      <td>2</td>\n",
       "      <td>3218.259033</td>\n",
       "      <td>2574.721924</td>\n",
       "      <td>4792.583984</td>\n",
       "      <td>2574.721680</td>\n",
       "      <td>0.000000</td>\n",
       "      <td>01:03</td>\n",
       "    </tr>\n",
       "    <tr>\n",
       "      <td>3</td>\n",
       "      <td>3181.484375</td>\n",
       "      <td>2740.254150</td>\n",
       "      <td>4424.520020</td>\n",
       "      <td>2740.254150</td>\n",
       "      <td>0.000000</td>\n",
       "      <td>01:01</td>\n",
       "    </tr>\n",
       "    <tr>\n",
       "      <td>4</td>\n",
       "      <td>3126.948975</td>\n",
       "      <td>2606.309570</td>\n",
       "      <td>4528.404785</td>\n",
       "      <td>2606.310059</td>\n",
       "      <td>0.000000</td>\n",
       "      <td>01:02</td>\n",
       "    </tr>\n",
       "    <tr>\n",
       "      <td>5</td>\n",
       "      <td>3327.805420</td>\n",
       "      <td>16913.343750</td>\n",
       "      <td>112014.632812</td>\n",
       "      <td>16913.345703</td>\n",
       "      <td>0.000000</td>\n",
       "      <td>01:02</td>\n",
       "    </tr>\n",
       "    <tr>\n",
       "      <td>6</td>\n",
       "      <td>3167.290527</td>\n",
       "      <td>2143.581055</td>\n",
       "      <td>3649.749512</td>\n",
       "      <td>2143.580811</td>\n",
       "      <td>0.000000</td>\n",
       "      <td>01:01</td>\n",
       "    </tr>\n",
       "    <tr>\n",
       "      <td>7</td>\n",
       "      <td>2822.673340</td>\n",
       "      <td>2874.220215</td>\n",
       "      <td>5080.712402</td>\n",
       "      <td>2874.219971</td>\n",
       "      <td>0.000000</td>\n",
       "      <td>01:04</td>\n",
       "    </tr>\n",
       "    <tr>\n",
       "      <td>8</td>\n",
       "      <td>2938.149414</td>\n",
       "      <td>2678.266602</td>\n",
       "      <td>4798.750488</td>\n",
       "      <td>2678.266602</td>\n",
       "      <td>0.000000</td>\n",
       "      <td>01:04</td>\n",
       "    </tr>\n",
       "    <tr>\n",
       "      <td>9</td>\n",
       "      <td>2826.792236</td>\n",
       "      <td>2745.614502</td>\n",
       "      <td>5484.038574</td>\n",
       "      <td>2745.614746</td>\n",
       "      <td>0.000000</td>\n",
       "      <td>01:04</td>\n",
       "    </tr>\n",
       "  </tbody>\n",
       "</table>"
      ],
      "text/plain": [
       "<IPython.core.display.HTML object>"
      ]
     },
     "metadata": {},
     "output_type": "display_data"
    }
   ],
   "source": [
    "learn.fit_one_cycle(10, 1e-2)"
   ]
  },
  {
   "cell_type": "code",
   "execution_count": 197,
   "metadata": {
    "ExecuteTime": {
     "end_time": "2020-05-05T14:04:40.799413Z",
     "start_time": "2020-05-05T14:04:40.449230Z"
    }
   },
   "outputs": [
    {
     "data": {
      "image/png": "[encoded data removed]",
      "text/plain": [
       "<Figure size 432x288 with 1 Axes>"
      ]
     },
     "metadata": {
      "needs_background": "light"
     },
     "output_type": "display_data"
    }
   ],
   "source": [
    "learn.recorder.plot_losses(skip_start=1000)"
   ]
  },
  {
   "cell_type": "markdown",
   "metadata": {},
   "source": [
    "## Inference"
   ]
  },
  {
   "cell_type": "code",
   "execution_count": 182,
   "metadata": {
    "ExecuteTime": {
     "end_time": "2020-05-05T13:07:25.219856Z",
     "start_time": "2020-05-05T13:07:24.774270Z"
    }
   },
   "outputs": [
    {
     "data": {
      "text/html": [],
      "text/plain": [
       "<IPython.core.display.HTML object>"
      ]
     },
     "metadata": {},
     "output_type": "display_data"
    },
    {
     "name": "stderr",
     "output_type": "stream",
     "text": [
      "/home/jacek/workspace/fastai_course-v3/env/lib/python3.6/site-packages/ipykernel_launcher.py:2: RuntimeWarning: overflow encountered in exp\n",
      "  \n"
     ]
    }
   ],
   "source": [
    "preds, targets= learn.get_preds(DatasetType.Test)\n",
    "labels = [np.exp(p[0].data.item()) for p in preds]"
   ]
  },
  {
   "cell_type": "code",
   "execution_count": 183,
   "metadata": {
    "ExecuteTime": {
     "end_time": "2020-05-05T13:07:26.261944Z",
     "start_time": "2020-05-05T13:07:26.257556Z"
    }
   },
   "outputs": [],
   "source": [
    "df_validation['predicted'] = labels"
   ]
  },
  {
   "cell_type": "code",
   "execution_count": null,
   "metadata": {},
   "outputs": [],
   "source": []
  },
  {
   "cell_type": "code",
   "execution_count": null,
   "metadata": {},
   "outputs": [],
   "source": []
  }
 ],
 "metadata": {
  "kernelspec": {
   "display_name": "Python 3",
   "language": "python",
   "name": "python3"
  },
  "language_info": {
   "codemirror_mode": {
    "name": "ipython",
    "version": 3
   },
   "file_extension": ".py",
   "mimetype": "text/x-python",
   "name": "python",
   "nbconvert_exporter": "python",
   "pygments_lexer": "ipython3",
   "version": "3.6.9"
  }
 },
 "nbformat": 4,
 "nbformat_minor": 2
}
