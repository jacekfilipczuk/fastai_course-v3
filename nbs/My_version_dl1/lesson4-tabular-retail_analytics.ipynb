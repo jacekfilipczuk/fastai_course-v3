{
 "cells": [
  {
   "cell_type": "markdown",
   "metadata": {},
   "source": [
    "# Tabular models"
   ]
  },
  {
   "cell_type": "code",
   "execution_count": 1,
   "metadata": {
    "ExecuteTime": {
     "end_time": "2020-05-08T15:42:49.273594Z",
     "start_time": "2020-05-08T15:42:48.192710Z"
    }
   },
   "outputs": [],
   "source": [
    "from fastai.tabular import *\n",
    "from datetime import datetime, timedelta\n",
    "from tqdm import tqdm"
   ]
  },
  {
   "cell_type": "markdown",
   "metadata": {},
   "source": [
    "Tabular data should be in a Pandas `DataFrame`."
   ]
  },
  {
   "cell_type": "code",
   "execution_count": 2,
   "metadata": {
    "ExecuteTime": {
     "end_time": "2020-05-08T15:42:49.489379Z",
     "start_time": "2020-05-08T15:42:49.276912Z"
    }
   },
   "outputs": [],
   "source": [
    "path = Path('../../data/retail_dataset/walmart/')\n",
    "df_feature = pd.read_csv(path/'features.csv')\n",
    "df_sales = pd.read_csv(path/'train.csv')\n",
    "df_stores = pd.read_csv(path/'stores.csv')\n",
    "df_test = pd.read_csv(path/'test.csv')"
   ]
  },
  {
   "cell_type": "markdown",
   "metadata": {},
   "source": [
    "Joining all data together, and removing rows with missing value in the target column (Weekly_Sales). \n",
    "\n",
    "This happens because some of the stores data are in the test set and not in the training set."
   ]
  },
  {
   "cell_type": "code",
   "execution_count": 3,
   "metadata": {
    "ExecuteTime": {
     "end_time": "2020-05-08T15:42:49.602921Z",
     "start_time": "2020-05-08T15:42:49.491347Z"
    }
   },
   "outputs": [],
   "source": [
    "df_temp = df_sales.join(df_stores.set_index('Store'), on='Store')\n",
    "df = df_temp.join(df_feature.set_index(['Store','Date']), on=['Store','Date'], how='left', lsuffix='_original')"
   ]
  },
  {
   "cell_type": "code",
   "execution_count": 4,
   "metadata": {
    "ExecuteTime": {
     "end_time": "2020-05-08T15:42:49.690017Z",
     "start_time": "2020-05-08T15:42:49.604271Z"
    }
   },
   "outputs": [
    {
     "data": {
      "text/plain": [
       "Store                      0\n",
       "Dept                       0\n",
       "Date                       0\n",
       "Weekly_Sales               0\n",
       "IsHoliday_original         0\n",
       "Type                       0\n",
       "Size                       0\n",
       "Temperature                0\n",
       "Fuel_Price                 0\n",
       "MarkDown1             270889\n",
       "MarkDown2             310322\n",
       "MarkDown3             284479\n",
       "MarkDown4             286603\n",
       "MarkDown5             270138\n",
       "CPI                        0\n",
       "Unemployment               0\n",
       "IsHoliday                  0\n",
       "dtype: int64"
      ]
     },
     "execution_count": 4,
     "metadata": {},
     "output_type": "execute_result"
    }
   ],
   "source": [
    "df.isnull().sum()"
   ]
  },
  {
   "cell_type": "code",
   "execution_count": 5,
   "metadata": {
    "ExecuteTime": {
     "end_time": "2020-05-08T15:42:49.701466Z",
     "start_time": "2020-05-08T15:42:49.691624Z"
    }
   },
   "outputs": [],
   "source": [
    "# Let's change from Fahrenheit to Celsius\n",
    "df['Temperature'] = (df['Temperature'] - 32) * 5/9"
   ]
  },
  {
   "cell_type": "markdown",
   "metadata": {},
   "source": [
    "Weekly_Sales contains negative values, in order to apply log to the data, we need to have values >0, hence we scale up the Weekly_Sales, and we will scale it back again in the prediction step"
   ]
  },
  {
   "cell_type": "code",
   "execution_count": 6,
   "metadata": {
    "ExecuteTime": {
     "end_time": "2020-05-08T15:42:50.349091Z",
     "start_time": "2020-05-08T15:42:50.305767Z"
    }
   },
   "outputs": [
    {
     "data": {
      "text/plain": [
       "count    421570.000000\n",
       "mean      20971.198123\n",
       "std       22711.183519\n",
       "min           1.000000\n",
       "25%        7069.590000\n",
       "50%       12601.970000\n",
       "75%       25195.792500\n",
       "max      698089.300000\n",
       "Name: Weekly_Sales_Biased, dtype: float64"
      ]
     },
     "execution_count": 6,
     "metadata": {},
     "output_type": "execute_result"
    }
   ],
   "source": [
    "target_var = 'Weekly_Sales_Biased'\n",
    "min_sales = df['Weekly_Sales'].min()\n",
    "df['Weekly_Sales_Biased'] = df['Weekly_Sales']+np.abs(min_sales)+1\n",
    "df[target_var].describe()"
   ]
  },
  {
   "cell_type": "code",
   "execution_count": 7,
   "metadata": {
    "ExecuteTime": {
     "end_time": "2020-05-08T15:42:51.046282Z",
     "start_time": "2020-05-08T15:42:50.561174Z"
    }
   },
   "outputs": [],
   "source": [
    "df['Date'] = pd.to_datetime(df['Date'])\n",
    "df = add_datepart(df,field_name='Date', drop=False)"
   ]
  },
  {
   "cell_type": "code",
   "execution_count": 8,
   "metadata": {
    "ExecuteTime": {
     "end_time": "2020-05-08T15:42:51.154447Z",
     "start_time": "2020-05-08T15:42:51.047983Z"
    }
   },
   "outputs": [
    {
     "data": {
      "text/html": [
       "<div>\n",
       "<style scoped>\n",
       "    .dataframe tbody tr th:only-of-type {\n",
       "        vertical-align: middle;\n",
       "    }\n",
       "\n",
       "    .dataframe tbody tr th {\n",
       "        vertical-align: top;\n",
       "    }\n",
       "\n",
       "    .dataframe thead th {\n",
       "        text-align: right;\n",
       "    }\n",
       "</style>\n",
       "<table border=\"1\" class=\"dataframe\">\n",
       "  <thead>\n",
       "    <tr style=\"text-align: right;\">\n",
       "      <th></th>\n",
       "      <th>Type</th>\n",
       "      <th>Dept</th>\n",
       "      <th>Store</th>\n",
       "      <th>Month</th>\n",
       "      <th>IsHoliday</th>\n",
       "      <th>Median_Sales</th>\n",
       "    </tr>\n",
       "  </thead>\n",
       "  <tbody>\n",
       "    <tr>\n",
       "      <th>0</th>\n",
       "      <td>A</td>\n",
       "      <td>1</td>\n",
       "      <td>1</td>\n",
       "      <td>1</td>\n",
       "      <td>False</td>\n",
       "      <td>22340.525</td>\n",
       "    </tr>\n",
       "    <tr>\n",
       "      <th>1</th>\n",
       "      <td>A</td>\n",
       "      <td>1</td>\n",
       "      <td>1</td>\n",
       "      <td>2</td>\n",
       "      <td>False</td>\n",
       "      <td>28500.430</td>\n",
       "    </tr>\n",
       "    <tr>\n",
       "      <th>2</th>\n",
       "      <td>A</td>\n",
       "      <td>1</td>\n",
       "      <td>1</td>\n",
       "      <td>2</td>\n",
       "      <td>True</td>\n",
       "      <td>42877.110</td>\n",
       "    </tr>\n",
       "    <tr>\n",
       "      <th>3</th>\n",
       "      <td>A</td>\n",
       "      <td>1</td>\n",
       "      <td>1</td>\n",
       "      <td>3</td>\n",
       "      <td>False</td>\n",
       "      <td>26270.340</td>\n",
       "    </tr>\n",
       "    <tr>\n",
       "      <th>4</th>\n",
       "      <td>A</td>\n",
       "      <td>1</td>\n",
       "      <td>1</td>\n",
       "      <td>4</td>\n",
       "      <td>False</td>\n",
       "      <td>31308.020</td>\n",
       "    </tr>\n",
       "  </tbody>\n",
       "</table>\n",
       "</div>"
      ],
      "text/plain": [
       "  Type  Dept  Store  Month  IsHoliday  Median_Sales\n",
       "0    A     1      1      1      False     22340.525\n",
       "1    A     1      1      2      False     28500.430\n",
       "2    A     1      1      2       True     42877.110\n",
       "3    A     1      1      3      False     26270.340\n",
       "4    A     1      1      4      False     31308.020"
      ]
     },
     "execution_count": 8,
     "metadata": {},
     "output_type": "execute_result"
    }
   ],
   "source": [
    "medians = pd.DataFrame({'Median_Sales' :df.groupby(by=['Type','Dept','Store','Month','IsHoliday'])[target_var].median()}).reset_index()\n",
    "medians.head()"
   ]
  },
  {
   "cell_type": "code",
   "execution_count": 9,
   "metadata": {
    "ExecuteTime": {
     "end_time": "2020-05-08T15:42:51.354634Z",
     "start_time": "2020-05-08T15:42:51.155879Z"
    }
   },
   "outputs": [],
   "source": [
    "df = df.merge(medians, how = 'outer', on = ['Type','Dept','Store','Month','IsHoliday'])"
   ]
  },
  {
   "cell_type": "markdown",
   "metadata": {},
   "source": [
    "Calculating sales values from the previous week."
   ]
  },
  {
   "cell_type": "code",
   "execution_count": 10,
   "metadata": {
    "ExecuteTime": {
     "end_time": "2020-05-08T15:42:51.695091Z",
     "start_time": "2020-05-08T15:42:51.681154Z"
    }
   },
   "outputs": [],
   "source": [
    "df['Lagged_Date'] = df['Date']- timedelta(days=7)"
   ]
  },
  {
   "cell_type": "code",
   "execution_count": 11,
   "metadata": {
    "ExecuteTime": {
     "end_time": "2020-05-08T15:42:52.114603Z",
     "start_time": "2020-05-08T15:42:51.940875Z"
    }
   },
   "outputs": [],
   "source": [
    "# Make a sorted dataframe. This will allow us to find lagged variables much faster!\n",
    "sorted_df = df.sort_values(['Store', 'Dept','Date'], ascending=[1, 1,1])\n",
    "sorted_df = sorted_df.reset_index(drop=True) # Reinitialize the row indices for the loop to work"
   ]
  },
  {
   "cell_type": "code",
   "execution_count": 12,
   "metadata": {
    "ExecuteTime": {
     "end_time": "2020-05-08T15:42:54.385516Z",
     "start_time": "2020-05-08T15:42:52.200284Z"
    }
   },
   "outputs": [
    {
     "name": "stderr",
     "output_type": "stream",
     "text": [
      "421570it [00:00, 1526811.48it/s]\n"
     ]
    }
   ],
   "source": [
    "lagged_sales = []\n",
    "lagged_available = []\n",
    "lagged_date = sorted_df['Lagged_Date'].tolist()\n",
    "date = sorted_df['Date'].tolist()\n",
    "weekly_sales = sorted_df[target_var].tolist()\n",
    "median_sales = sorted_df['Median_Sales'].tolist()\n",
    "last_date = date[0]\n",
    "last_sale = weekly_sales[0]\n",
    "for d,lagged_d,weekly_s,median_s in tqdm(zip(date,lagged_date,weekly_sales,median_sales)):\n",
    "    if (last_date == lagged_d) & (last_sale>0):\n",
    "        lagged_sales.append(last_sale)\n",
    "        lagged_available.append(1)\n",
    "    else:\n",
    "        lagged_sales.append(median_s)\n",
    "        lagged_available.append(0)\n",
    "    last_date = d\n",
    "    last_sale = weekly_s\n",
    "sorted_df['Lagged_Sales'] = lagged_sales\n",
    "sorted_df['Lagged_Available'] = lagged_available"
   ]
  },
  {
   "cell_type": "code",
   "execution_count": 13,
   "metadata": {
    "ExecuteTime": {
     "end_time": "2020-05-08T15:42:54.624108Z",
     "start_time": "2020-05-08T15:42:54.388120Z"
    }
   },
   "outputs": [],
   "source": [
    "df = df.merge(sorted_df[['Dept', 'Store','Date','Lagged_Sales','Lagged_Available']], how = 'inner', on = ['Dept', 'Store','Date'])"
   ]
  },
  {
   "cell_type": "code",
   "execution_count": 14,
   "metadata": {
    "ExecuteTime": {
     "end_time": "2020-05-08T15:42:54.680688Z",
     "start_time": "2020-05-08T15:42:54.625545Z"
    }
   },
   "outputs": [
    {
     "data": {
      "text/html": [
       "<div>\n",
       "<style scoped>\n",
       "    .dataframe tbody tr th:only-of-type {\n",
       "        vertical-align: middle;\n",
       "    }\n",
       "\n",
       "    .dataframe tbody tr th {\n",
       "        vertical-align: top;\n",
       "    }\n",
       "\n",
       "    .dataframe thead th {\n",
       "        text-align: right;\n",
       "    }\n",
       "</style>\n",
       "<table border=\"1\" class=\"dataframe\">\n",
       "  <thead>\n",
       "    <tr style=\"text-align: right;\">\n",
       "      <th></th>\n",
       "      <th>Dept</th>\n",
       "      <th>Store</th>\n",
       "      <th>Date</th>\n",
       "      <th>Lagged_Date</th>\n",
       "      <th>Lagged_Sales</th>\n",
       "      <th>Weekly_Sales_Biased</th>\n",
       "      <th>Median_Sales</th>\n",
       "    </tr>\n",
       "  </thead>\n",
       "  <tbody>\n",
       "    <tr>\n",
       "      <th>0</th>\n",
       "      <td>1</td>\n",
       "      <td>1</td>\n",
       "      <td>2010-02-05</td>\n",
       "      <td>2010-01-29</td>\n",
       "      <td>28500.43</td>\n",
       "      <td>29914.44</td>\n",
       "      <td>28500.43</td>\n",
       "    </tr>\n",
       "    <tr>\n",
       "      <th>1</th>\n",
       "      <td>1</td>\n",
       "      <td>1</td>\n",
       "      <td>2010-02-19</td>\n",
       "      <td>2010-02-12</td>\n",
       "      <td>51029.43</td>\n",
       "      <td>46585.49</td>\n",
       "      <td>28500.43</td>\n",
       "    </tr>\n",
       "    <tr>\n",
       "      <th>2</th>\n",
       "      <td>1</td>\n",
       "      <td>1</td>\n",
       "      <td>2010-02-26</td>\n",
       "      <td>2010-02-19</td>\n",
       "      <td>46585.49</td>\n",
       "      <td>24393.48</td>\n",
       "      <td>28500.43</td>\n",
       "    </tr>\n",
       "    <tr>\n",
       "      <th>3</th>\n",
       "      <td>1</td>\n",
       "      <td>1</td>\n",
       "      <td>2011-02-04</td>\n",
       "      <td>2011-01-28</td>\n",
       "      <td>23451.12</td>\n",
       "      <td>26655.70</td>\n",
       "      <td>28500.43</td>\n",
       "    </tr>\n",
       "    <tr>\n",
       "      <th>4</th>\n",
       "      <td>1</td>\n",
       "      <td>1</td>\n",
       "      <td>2011-02-18</td>\n",
       "      <td>2011-02-11</td>\n",
       "      <td>42877.11</td>\n",
       "      <td>51835.81</td>\n",
       "      <td>28500.43</td>\n",
       "    </tr>\n",
       "  </tbody>\n",
       "</table>\n",
       "</div>"
      ],
      "text/plain": [
       "   Dept  Store       Date Lagged_Date  Lagged_Sales  Weekly_Sales_Biased  \\\n",
       "0     1      1 2010-02-05  2010-01-29      28500.43             29914.44   \n",
       "1     1      1 2010-02-19  2010-02-12      51029.43             46585.49   \n",
       "2     1      1 2010-02-26  2010-02-19      46585.49             24393.48   \n",
       "3     1      1 2011-02-04  2011-01-28      23451.12             26655.70   \n",
       "4     1      1 2011-02-18  2011-02-11      42877.11             51835.81   \n",
       "\n",
       "   Median_Sales  \n",
       "0      28500.43  \n",
       "1      28500.43  \n",
       "2      28500.43  \n",
       "3      28500.43  \n",
       "4      28500.43  "
      ]
     },
     "execution_count": 14,
     "metadata": {},
     "output_type": "execute_result"
    }
   ],
   "source": [
    "df['Sales_dif'] = df['Median_Sales'] - df['Lagged_Sales']\n",
    "df[['Dept', 'Store','Date','Lagged_Date','Lagged_Sales',target_var,'Median_Sales']].head()"
   ]
  },
  {
   "cell_type": "code",
   "execution_count": 15,
   "metadata": {
    "ExecuteTime": {
     "end_time": "2020-05-08T15:42:54.695626Z",
     "start_time": "2020-05-08T15:42:54.682038Z"
    }
   },
   "outputs": [],
   "source": [
    "df['Difference'] = df['Median_Sales'] - df[target_var]"
   ]
  },
  {
   "cell_type": "code",
   "execution_count": 16,
   "metadata": {
    "ExecuteTime": {
     "end_time": "2020-05-08T15:42:54.822561Z",
     "start_time": "2020-05-08T15:42:54.696853Z"
    }
   },
   "outputs": [],
   "source": [
    "df['Black_Friday'] = np.where((df['Date']==datetime(2010, 11, 26).date()) | \n",
    "                              (df['Date']==datetime(2011, 11, 25).date()), 'yes', 'no')\n",
    "df['Pre_christmas'] = np.where((df['Date']==datetime(2010, 12, 23).date()) | \n",
    "                               (df['Date']==datetime(2010, 12, 24).date()) | \n",
    "                               (df['Date']==datetime(2011, 12, 23).date()) | \n",
    "                               (df['Date']==datetime(2011, 12, 24).date()), 'yes', 'no')"
   ]
  },
  {
   "cell_type": "code",
   "execution_count": 17,
   "metadata": {
    "ExecuteTime": {
     "end_time": "2020-05-08T15:42:54.953153Z",
     "start_time": "2020-05-08T15:42:54.948591Z"
    }
   },
   "outputs": [
    {
     "data": {
      "text/plain": [
       "Index(['Store', 'Dept', 'Date', 'Weekly_Sales', 'IsHoliday_original', 'Type',\n",
       "       'Size', 'Temperature', 'Fuel_Price', 'MarkDown1', 'MarkDown2',\n",
       "       'MarkDown3', 'MarkDown4', 'MarkDown5', 'CPI', 'Unemployment',\n",
       "       'IsHoliday', 'Weekly_Sales_Biased', 'Year', 'Month', 'Week', 'Day',\n",
       "       'Dayofweek', 'Dayofyear', 'Is_month_end', 'Is_month_start',\n",
       "       'Is_quarter_end', 'Is_quarter_start', 'Is_year_end', 'Is_year_start',\n",
       "       'Elapsed', 'Median_Sales', 'Lagged_Date', 'Lagged_Sales',\n",
       "       'Lagged_Available', 'Sales_dif', 'Difference', 'Black_Friday',\n",
       "       'Pre_christmas'],\n",
       "      dtype='object')"
      ]
     },
     "execution_count": 17,
     "metadata": {},
     "output_type": "execute_result"
    }
   ],
   "source": [
    "df.columns"
   ]
  },
  {
   "cell_type": "code",
   "execution_count": 18,
   "metadata": {
    "ExecuteTime": {
     "end_time": "2020-05-08T15:43:19.943857Z",
     "start_time": "2020-05-08T15:43:19.933844Z"
    }
   },
   "outputs": [],
   "source": [
    "dep_var = target_var\n",
    "cat_names = ['Store', 'Type','Dept','IsHoliday_original','Year', 'Month', 'Week', 'Day', 'Dayofweek', 'Dayofyear',\n",
    "       'Is_month_end', 'Is_month_start', 'Is_quarter_end', 'Is_quarter_start',\n",
    "       'Is_year_end', 'Is_year_start','Lagged_Available','Black_Friday', 'Pre_christmas']\n",
    "cont_names = ['Size', 'CPI', 'Temperature', 'Fuel_Price', 'Unemployment','Sales_dif',\n",
    "             'MarkDown1', 'MarkDown2', 'MarkDown3', 'MarkDown4', 'MarkDown5','Lagged_Sales']\n",
    "procs = [FillMissing, Categorify, Normalize]"
   ]
  },
  {
   "cell_type": "code",
   "execution_count": 19,
   "metadata": {
    "ExecuteTime": {
     "end_time": "2020-05-08T15:43:21.510283Z",
     "start_time": "2020-05-08T15:43:21.336493Z"
    }
   },
   "outputs": [],
   "source": [
    "df.sort_values(by='Date', inplace=True)\n",
    "df.reset_index(drop=True,inplace=True)"
   ]
  },
  {
   "cell_type": "code",
   "execution_count": 20,
   "metadata": {
    "ExecuteTime": {
     "end_time": "2020-05-08T15:43:29.065395Z",
     "start_time": "2020-05-08T15:43:29.057263Z"
    }
   },
   "outputs": [],
   "source": [
    "df_validation = df.iloc[-20000:].copy()\n",
    "test = TabularList.from_df(df_validation, path=path, cat_names=cat_names, cont_names=cont_names)"
   ]
  },
  {
   "cell_type": "code",
   "execution_count": 21,
   "metadata": {
    "ExecuteTime": {
     "end_time": "2020-05-08T15:43:32.200194Z",
     "start_time": "2020-05-08T15:43:31.113242Z"
    }
   },
   "outputs": [],
   "source": [
    "data = (TabularList.from_df(df, path=path, cat_names=cat_names, cont_names=cont_names, procs=procs)\n",
    "                           .split_by_idx(list(df_validation.index))\n",
    "                           .label_from_df(cols=dep_var, label_cls=FloatList, log=True)\n",
    "                           .add_test(test)\n",
    "                           .databunch())"
   ]
  },
  {
   "cell_type": "code",
   "execution_count": 22,
   "metadata": {
    "ExecuteTime": {
     "end_time": "2020-05-08T15:43:35.096541Z",
     "start_time": "2020-05-08T15:43:33.342306Z"
    }
   },
   "outputs": [
    {
     "data": {
      "text/html": [
       "<table border=\"1\" class=\"dataframe\">\n",
       "  <thead>\n",
       "    <tr style=\"text-align: right;\">\n",
       "      <th>Store</th>\n",
       "      <th>Type</th>\n",
       "      <th>Dept</th>\n",
       "      <th>IsHoliday_original</th>\n",
       "      <th>Year</th>\n",
       "      <th>Month</th>\n",
       "      <th>Week</th>\n",
       "      <th>Day</th>\n",
       "      <th>Dayofweek</th>\n",
       "      <th>Dayofyear</th>\n",
       "      <th>Is_month_end</th>\n",
       "      <th>Is_month_start</th>\n",
       "      <th>Is_quarter_end</th>\n",
       "      <th>Is_quarter_start</th>\n",
       "      <th>Is_year_end</th>\n",
       "      <th>Is_year_start</th>\n",
       "      <th>Lagged_Available</th>\n",
       "      <th>Black_Friday</th>\n",
       "      <th>Pre_christmas</th>\n",
       "      <th>MarkDown1_na</th>\n",
       "      <th>MarkDown2_na</th>\n",
       "      <th>MarkDown3_na</th>\n",
       "      <th>MarkDown4_na</th>\n",
       "      <th>MarkDown5_na</th>\n",
       "      <th>Size</th>\n",
       "      <th>CPI</th>\n",
       "      <th>Temperature</th>\n",
       "      <th>Fuel_Price</th>\n",
       "      <th>Unemployment</th>\n",
       "      <th>Sales_dif</th>\n",
       "      <th>MarkDown1</th>\n",
       "      <th>MarkDown2</th>\n",
       "      <th>MarkDown3</th>\n",
       "      <th>MarkDown4</th>\n",
       "      <th>MarkDown5</th>\n",
       "      <th>Lagged_Sales</th>\n",
       "      <th>target</th>\n",
       "    </tr>\n",
       "  </thead>\n",
       "  <tbody>\n",
       "    <tr>\n",
       "      <td>16</td>\n",
       "      <td>B</td>\n",
       "      <td>24</td>\n",
       "      <td>False</td>\n",
       "      <td>2010</td>\n",
       "      <td>12</td>\n",
       "      <td>51</td>\n",
       "      <td>24</td>\n",
       "      <td>4</td>\n",
       "      <td>358</td>\n",
       "      <td>False</td>\n",
       "      <td>False</td>\n",
       "      <td>False</td>\n",
       "      <td>False</td>\n",
       "      <td>False</td>\n",
       "      <td>False</td>\n",
       "      <td>1</td>\n",
       "      <td>no</td>\n",
       "      <td>no</td>\n",
       "      <td>True</td>\n",
       "      <td>True</td>\n",
       "      <td>True</td>\n",
       "      <td>True</td>\n",
       "      <td>True</td>\n",
       "      <td>-1.3049</td>\n",
       "      <td>0.5167</td>\n",
       "      <td>-1.4646</td>\n",
       "      <td>-1.2266</td>\n",
       "      <td>-0.5472</td>\n",
       "      <td>0.0296</td>\n",
       "      <td>-0.1294</td>\n",
       "      <td>-0.1664</td>\n",
       "      <td>-0.0849</td>\n",
       "      <td>-0.1600</td>\n",
       "      <td>-0.1201</td>\n",
       "      <td>-0.5404</td>\n",
       "      <td>9.284628</td>\n",
       "    </tr>\n",
       "    <tr>\n",
       "      <td>39</td>\n",
       "      <td>A</td>\n",
       "      <td>10</td>\n",
       "      <td>False</td>\n",
       "      <td>2011</td>\n",
       "      <td>12</td>\n",
       "      <td>50</td>\n",
       "      <td>16</td>\n",
       "      <td>4</td>\n",
       "      <td>350</td>\n",
       "      <td>False</td>\n",
       "      <td>False</td>\n",
       "      <td>False</td>\n",
       "      <td>False</td>\n",
       "      <td>False</td>\n",
       "      <td>False</td>\n",
       "      <td>1</td>\n",
       "      <td>no</td>\n",
       "      <td>no</td>\n",
       "      <td>False</td>\n",
       "      <td>False</td>\n",
       "      <td>False</td>\n",
       "      <td>False</td>\n",
       "      <td>False</td>\n",
       "      <td>0.7766</td>\n",
       "      <td>1.2012</td>\n",
       "      <td>-0.0703</td>\n",
       "      <td>-0.3912</td>\n",
       "      <td>-0.1553</td>\n",
       "      <td>-0.0596</td>\n",
       "      <td>-1.0718</td>\n",
       "      <td>-0.2098</td>\n",
       "      <td>-0.0010</td>\n",
       "      <td>-0.4242</td>\n",
       "      <td>0.8626</td>\n",
       "      <td>-0.0411</td>\n",
       "      <td>10.004648</td>\n",
       "    </tr>\n",
       "    <tr>\n",
       "      <td>41</td>\n",
       "      <td>A</td>\n",
       "      <td>47</td>\n",
       "      <td>False</td>\n",
       "      <td>2011</td>\n",
       "      <td>2</td>\n",
       "      <td>8</td>\n",
       "      <td>25</td>\n",
       "      <td>4</td>\n",
       "      <td>56</td>\n",
       "      <td>False</td>\n",
       "      <td>False</td>\n",
       "      <td>False</td>\n",
       "      <td>False</td>\n",
       "      <td>False</td>\n",
       "      <td>False</td>\n",
       "      <td>0</td>\n",
       "      <td>no</td>\n",
       "      <td>no</td>\n",
       "      <td>True</td>\n",
       "      <td>True</td>\n",
       "      <td>True</td>\n",
       "      <td>True</td>\n",
       "      <td>True</td>\n",
       "      <td>0.9769</td>\n",
       "      <td>0.5377</td>\n",
       "      <td>-1.8041</td>\n",
       "      <td>-0.5194</td>\n",
       "      <td>-0.4103</td>\n",
       "      <td>0.0343</td>\n",
       "      <td>-0.1294</td>\n",
       "      <td>-0.1664</td>\n",
       "      <td>-0.0849</td>\n",
       "      <td>-0.1600</td>\n",
       "      <td>-0.1201</td>\n",
       "      <td>-0.7024</td>\n",
       "      <td>8.518181</td>\n",
       "    </tr>\n",
       "    <tr>\n",
       "      <td>17</td>\n",
       "      <td>B</td>\n",
       "      <td>3</td>\n",
       "      <td>False</td>\n",
       "      <td>2010</td>\n",
       "      <td>10</td>\n",
       "      <td>39</td>\n",
       "      <td>1</td>\n",
       "      <td>4</td>\n",
       "      <td>274</td>\n",
       "      <td>False</td>\n",
       "      <td>True</td>\n",
       "      <td>False</td>\n",
       "      <td>True</td>\n",
       "      <td>False</td>\n",
       "      <td>False</td>\n",
       "      <td>1</td>\n",
       "      <td>no</td>\n",
       "      <td>no</td>\n",
       "      <td>True</td>\n",
       "      <td>True</td>\n",
       "      <td>True</td>\n",
       "      <td>True</td>\n",
       "      <td>True</td>\n",
       "      <td>-0.7146</td>\n",
       "      <td>-1.1453</td>\n",
       "      <td>0.0092</td>\n",
       "      <td>-1.0674</td>\n",
       "      <td>-0.6014</td>\n",
       "      <td>-0.4681</td>\n",
       "      <td>-0.1294</td>\n",
       "      <td>-0.1664</td>\n",
       "      <td>-0.0849</td>\n",
       "      <td>-0.1600</td>\n",
       "      <td>-0.1201</td>\n",
       "      <td>0.0256</td>\n",
       "      <td>9.804997</td>\n",
       "    </tr>\n",
       "    <tr>\n",
       "      <td>16</td>\n",
       "      <td>B</td>\n",
       "      <td>74</td>\n",
       "      <td>False</td>\n",
       "      <td>2011</td>\n",
       "      <td>7</td>\n",
       "      <td>30</td>\n",
       "      <td>29</td>\n",
       "      <td>4</td>\n",
       "      <td>210</td>\n",
       "      <td>False</td>\n",
       "      <td>False</td>\n",
       "      <td>False</td>\n",
       "      <td>False</td>\n",
       "      <td>False</td>\n",
       "      <td>False</td>\n",
       "      <td>1</td>\n",
       "      <td>no</td>\n",
       "      <td>no</td>\n",
       "      <td>True</td>\n",
       "      <td>True</td>\n",
       "      <td>True</td>\n",
       "      <td>True</td>\n",
       "      <td>True</td>\n",
       "      <td>-1.3049</td>\n",
       "      <td>0.5824</td>\n",
       "      <td>0.3706</td>\n",
       "      <td>0.4662</td>\n",
       "      <td>-0.8951</td>\n",
       "      <td>0.0740</td>\n",
       "      <td>-0.1294</td>\n",
       "      <td>-0.1664</td>\n",
       "      <td>-0.0849</td>\n",
       "      <td>-0.1600</td>\n",
       "      <td>-0.1201</td>\n",
       "      <td>-0.2178</td>\n",
       "      <td>9.759338</td>\n",
       "    </tr>\n",
       "    <tr>\n",
       "      <td>30</td>\n",
       "      <td>C</td>\n",
       "      <td>96</td>\n",
       "      <td>False</td>\n",
       "      <td>2012</td>\n",
       "      <td>5</td>\n",
       "      <td>21</td>\n",
       "      <td>25</td>\n",
       "      <td>4</td>\n",
       "      <td>146</td>\n",
       "      <td>False</td>\n",
       "      <td>False</td>\n",
       "      <td>False</td>\n",
       "      <td>False</td>\n",
       "      <td>False</td>\n",
       "      <td>False</td>\n",
       "      <td>1</td>\n",
       "      <td>no</td>\n",
       "      <td>no</td>\n",
       "      <td>False</td>\n",
       "      <td>True</td>\n",
       "      <td>True</td>\n",
       "      <td>True</td>\n",
       "      <td>False</td>\n",
       "      <td>-1.5380</td>\n",
       "      <td>1.2909</td>\n",
       "      <td>1.0458</td>\n",
       "      <td>0.4972</td>\n",
       "      <td>-0.5982</td>\n",
       "      <td>0.1104</td>\n",
       "      <td>-1.2100</td>\n",
       "      <td>-0.1664</td>\n",
       "      <td>-0.0849</td>\n",
       "      <td>-0.1600</td>\n",
       "      <td>-0.3381</td>\n",
       "      <td>0.1436</td>\n",
       "      <td>10.155685</td>\n",
       "    </tr>\n",
       "    <tr>\n",
       "      <td>26</td>\n",
       "      <td>A</td>\n",
       "      <td>36</td>\n",
       "      <td>False</td>\n",
       "      <td>2012</td>\n",
       "      <td>6</td>\n",
       "      <td>25</td>\n",
       "      <td>22</td>\n",
       "      <td>4</td>\n",
       "      <td>174</td>\n",
       "      <td>False</td>\n",
       "      <td>False</td>\n",
       "      <td>False</td>\n",
       "      <td>False</td>\n",
       "      <td>False</td>\n",
       "      <td>False</td>\n",
       "      <td>1</td>\n",
       "      <td>no</td>\n",
       "      <td>no</td>\n",
       "      <td>False</td>\n",
       "      <td>False</td>\n",
       "      <td>False</td>\n",
       "      <td>False</td>\n",
       "      <td>False</td>\n",
       "      <td>0.2584</td>\n",
       "      <td>-0.8399</td>\n",
       "      <td>0.1677</td>\n",
       "      <td>0.6474</td>\n",
       "      <td>-0.2771</td>\n",
       "      <td>0.1335</td>\n",
       "      <td>-0.1464</td>\n",
       "      <td>-0.1409</td>\n",
       "      <td>-0.0720</td>\n",
       "      <td>-0.0883</td>\n",
       "      <td>0.7671</td>\n",
       "      <td>-0.6460</td>\n",
       "      <td>8.882383</td>\n",
       "    </tr>\n",
       "    <tr>\n",
       "      <td>18</td>\n",
       "      <td>B</td>\n",
       "      <td>8</td>\n",
       "      <td>False</td>\n",
       "      <td>2011</td>\n",
       "      <td>9</td>\n",
       "      <td>35</td>\n",
       "      <td>2</td>\n",
       "      <td>4</td>\n",
       "      <td>245</td>\n",
       "      <td>False</td>\n",
       "      <td>False</td>\n",
       "      <td>False</td>\n",
       "      <td>False</td>\n",
       "      <td>False</td>\n",
       "      <td>False</td>\n",
       "      <td>1</td>\n",
       "      <td>no</td>\n",
       "      <td>no</td>\n",
       "      <td>True</td>\n",
       "      <td>True</td>\n",
       "      <td>True</td>\n",
       "      <td>True</td>\n",
       "      <td>True</td>\n",
       "      <td>-0.2641</td>\n",
       "      <td>-0.8890</td>\n",
       "      <td>0.4448</td>\n",
       "      <td>0.9900</td>\n",
       "      <td>0.4750</td>\n",
       "      <td>-0.8565</td>\n",
       "      <td>-0.1294</td>\n",
       "      <td>-0.1664</td>\n",
       "      <td>-0.0849</td>\n",
       "      <td>-0.1600</td>\n",
       "      <td>-0.1201</td>\n",
       "      <td>0.8707</td>\n",
       "      <td>9.93075</td>\n",
       "    </tr>\n",
       "    <tr>\n",
       "      <td>18</td>\n",
       "      <td>B</td>\n",
       "      <td>82</td>\n",
       "      <td>False</td>\n",
       "      <td>2012</td>\n",
       "      <td>8</td>\n",
       "      <td>31</td>\n",
       "      <td>3</td>\n",
       "      <td>4</td>\n",
       "      <td>216</td>\n",
       "      <td>False</td>\n",
       "      <td>False</td>\n",
       "      <td>False</td>\n",
       "      <td>False</td>\n",
       "      <td>False</td>\n",
       "      <td>False</td>\n",
       "      <td>1</td>\n",
       "      <td>no</td>\n",
       "      <td>no</td>\n",
       "      <td>False</td>\n",
       "      <td>False</td>\n",
       "      <td>False</td>\n",
       "      <td>False</td>\n",
       "      <td>False</td>\n",
       "      <td>-0.2641</td>\n",
       "      <td>-0.8396</td>\n",
       "      <td>0.6818</td>\n",
       "      <td>0.7999</td>\n",
       "      <td>0.2844</td>\n",
       "      <td>0.2380</td>\n",
       "      <td>2.7747</td>\n",
       "      <td>-0.1998</td>\n",
       "      <td>-0.0821</td>\n",
       "      <td>3.9780</td>\n",
       "      <td>-0.5994</td>\n",
       "      <td>-0.1273</td>\n",
       "      <td>9.915336</td>\n",
       "    </tr>\n",
       "    <tr>\n",
       "      <td>12</td>\n",
       "      <td>B</td>\n",
       "      <td>97</td>\n",
       "      <td>False</td>\n",
       "      <td>2012</td>\n",
       "      <td>3</td>\n",
       "      <td>10</td>\n",
       "      <td>9</td>\n",
       "      <td>4</td>\n",
       "      <td>69</td>\n",
       "      <td>False</td>\n",
       "      <td>False</td>\n",
       "      <td>False</td>\n",
       "      <td>False</td>\n",
       "      <td>False</td>\n",
       "      <td>False</td>\n",
       "      <td>1</td>\n",
       "      <td>no</td>\n",
       "      <td>no</td>\n",
       "      <td>False</td>\n",
       "      <td>False</td>\n",
       "      <td>False</td>\n",
       "      <td>False</td>\n",
       "      <td>False</td>\n",
       "      <td>-0.4021</td>\n",
       "      <td>-1.0299</td>\n",
       "      <td>-0.2860</td>\n",
       "      <td>2.0198</td>\n",
       "      <td>2.2451</td>\n",
       "      <td>0.0343</td>\n",
       "      <td>0.4204</td>\n",
       "      <td>0.2109</td>\n",
       "      <td>-0.0896</td>\n",
       "      <td>-0.2016</td>\n",
       "      <td>0.5819</td>\n",
       "      <td>-0.6016</td>\n",
       "      <td>8.902716</td>\n",
       "    </tr>\n",
       "  </tbody>\n",
       "</table>"
      ],
      "text/plain": [
       "<IPython.core.display.HTML object>"
      ]
     },
     "metadata": {},
     "output_type": "display_data"
    }
   ],
   "source": [
    "data.show_batch(rows=10)"
   ]
  },
  {
   "cell_type": "code",
   "execution_count": 32,
   "metadata": {
    "ExecuteTime": {
     "end_time": "2020-05-08T15:54:23.036969Z",
     "start_time": "2020-05-08T15:54:23.024651Z"
    }
   },
   "outputs": [],
   "source": [
    "class Weighted_Mae(LearnerCallback):\n",
    "    _order=-20 # Needs to run before the recorder\n",
    "    def __init__(self, learn):\n",
    "        super().__init__(learn)\n",
    "        self.w_sum = 0\n",
    "        self.numerator_sum = 0\n",
    "        self.output_list = []\n",
    "        self.target_list = []\n",
    "        self.w_mae = 0\n",
    "        self.input_list = []\n",
    "    \n",
    "    def on_epoch_begin(self, **kwargs):\n",
    "        self.w_sum = 0\n",
    "        self.numerator_sum = 0\n",
    "        self.output_list = []\n",
    "        self.target_list = []\n",
    "        self.input_list = []\n",
    "        self.w_mae = 0\n",
    "    \n",
    "    def on_batch_begin(self, last_input, last_target, **kwargs):\n",
    "        # Here I'm taking only the categorical variables from the input tensor\n",
    "        # last_input[0] = categorical variables\n",
    "        # last_input[1] = continuos variables\n",
    "        self.input_list.append(last_input[0])\n",
    "        \n",
    "        \n",
    "    def on_batch_end(self, last_output, last_target, **kwargs):\n",
    "        self.output_list.append(last_output.flatten())\n",
    "        self.target_list.append(last_target)\n",
    "\n",
    "\n",
    "    def on_train_begin(self, **kwargs):\n",
    "        self.learn.recorder.add_metric_names(['weighted_mae'])\n",
    "        \n",
    "\n",
    "    def on_epoch_end(self, last_metrics, **kwargs):\n",
    "        self.output_list = torch.cat(self.output_list)\n",
    "        self.target_list = torch.cat(self.target_list)\n",
    "        self.input_list = torch.cat(self.input_list)\n",
    "        for pred,targ,inp in zip(self.output_list, self.target_list, self.input_list):\n",
    "            w = 1\n",
    "            if inp[3]: # the third categorical variable is IsHoliday\n",
    "                w = 5\n",
    "            self.w_sum += w\n",
    "            self.numerator_sum += w*(abs(targ-pred))\n",
    "        self.w_mae = self.numerator_sum/self.w_sum\n",
    "        return add_metrics(last_metrics, [float(self.w_mae)])"
   ]
  },
  {
   "cell_type": "code",
   "execution_count": 33,
   "metadata": {
    "ExecuteTime": {
     "end_time": "2020-05-08T15:54:24.126537Z",
     "start_time": "2020-05-08T15:54:24.116201Z"
    }
   },
   "outputs": [],
   "source": [
    "max_y = (np.max(df[target_var])*1.2)\n",
    "min_y = 0\n",
    "y_range = torch.tensor([min_y, max_y], device=defaults.device)"
   ]
  },
  {
   "cell_type": "code",
   "execution_count": 34,
   "metadata": {
    "ExecuteTime": {
     "end_time": "2020-05-08T15:54:24.446222Z",
     "start_time": "2020-05-08T15:54:24.422839Z"
    }
   },
   "outputs": [],
   "source": [
    "learn = tabular_learner(data, layers=[400,200,100], ps=[0.001,0.01, 0.1], y_range=y_range, emb_drop=0.04, \n",
    "                        metrics=[rmse, mae, exp_rmspe], callback_fns=Weighted_Mae)"
   ]
  },
  {
   "cell_type": "code",
   "execution_count": 26,
   "metadata": {
    "ExecuteTime": {
     "end_time": "2020-05-08T15:44:06.550100Z",
     "start_time": "2020-05-08T15:44:03.916135Z"
    },
    "scrolled": false
   },
   "outputs": [
    {
     "data": {
      "text/html": [
       "\n",
       "    <div>\n",
       "        <style>\n",
       "            /* Turns off some styling */\n",
       "            progress {\n",
       "                /* gets rid of default border in Firefox and Opera. */\n",
       "                border: none;\n",
       "                /* Needs to be in here for Safari polyfill so background images work as expected. */\n",
       "                background-size: auto;\n",
       "            }\n",
       "            .progress-bar-interrupted, .progress-bar-interrupted::-webkit-progress-bar {\n",
       "                background: #F44336;\n",
       "            }\n",
       "        </style>\n",
       "      <progress value='0' class='' max='1' style='width:300px; height:20px; vertical-align: middle;'></progress>\n",
       "      0.00% [0/1 00:00<00:00]\n",
       "    </div>\n",
       "    \n",
       "<table border=\"1\" class=\"dataframe\">\n",
       "  <thead>\n",
       "    <tr style=\"text-align: left;\">\n",
       "      <th>epoch</th>\n",
       "      <th>train_loss</th>\n",
       "      <th>valid_loss</th>\n",
       "      <th>root_mean_squared_error</th>\n",
       "      <th>mean_absolute_error</th>\n",
       "      <th>exp_rmspe</th>\n",
       "      <th>weighted_mae</th>\n",
       "      <th>time</th>\n",
       "    </tr>\n",
       "  </thead>\n",
       "  <tbody>\n",
       "  </tbody>\n",
       "</table><p>\n",
       "\n",
       "    <div>\n",
       "        <style>\n",
       "            /* Turns off some styling */\n",
       "            progress {\n",
       "                /* gets rid of default border in Firefox and Opera. */\n",
       "                border: none;\n",
       "                /* Needs to be in here for Safari polyfill so background images work as expected. */\n",
       "                background-size: auto;\n",
       "            }\n",
       "            .progress-bar-interrupted, .progress-bar-interrupted::-webkit-progress-bar {\n",
       "                background: #F44336;\n",
       "            }\n",
       "        </style>\n",
       "      <progress value='87' class='' max='6274' style='width:300px; height:20px; vertical-align: middle;'></progress>\n",
       "      1.39% [87/6274 00:01<01:30 111498436608.0000]\n",
       "    </div>\n",
       "    "
      ],
      "text/plain": [
       "<IPython.core.display.HTML object>"
      ]
     },
     "metadata": {},
     "output_type": "display_data"
    },
    {
     "name": "stdout",
     "output_type": "stream",
     "text": [
      "LR Finder is complete, type {learner_name}.recorder.plot() to see the graph.\n"
     ]
    },
    {
     "data": {
      "image/png": "[encoded data removed]",
      "text/plain": [
       "<Figure size 432x288 with 1 Axes>"
      ]
     },
     "metadata": {
      "needs_background": "light"
     },
     "output_type": "display_data"
    }
   ],
   "source": [
    "learn.lr_find();\n",
    "learn.recorder.plot()"
   ]
  },
  {
   "cell_type": "code",
   "execution_count": 35,
   "metadata": {
    "ExecuteTime": {
     "end_time": "2020-05-08T16:02:40.556902Z",
     "start_time": "2020-05-08T15:54:26.032384Z"
    },
    "scrolled": true
   },
   "outputs": [
    {
     "data": {
      "text/html": [
       "<table border=\"1\" class=\"dataframe\">\n",
       "  <thead>\n",
       "    <tr style=\"text-align: left;\">\n",
       "      <th>epoch</th>\n",
       "      <th>train_loss</th>\n",
       "      <th>valid_loss</th>\n",
       "      <th>root_mean_squared_error</th>\n",
       "      <th>mean_absolute_error</th>\n",
       "      <th>exp_rmspe</th>\n",
       "      <th>weighted_mae</th>\n",
       "      <th>time</th>\n",
       "    </tr>\n",
       "  </thead>\n",
       "  <tbody>\n",
       "    <tr>\n",
       "      <td>0</td>\n",
       "      <td>18.543558</td>\n",
       "      <td>22.928047</td>\n",
       "      <td>4.785751</td>\n",
       "      <td>4.720244</td>\n",
       "      <td>0.989141</td>\n",
       "      <td>18957.810547</td>\n",
       "      <td>01:37</td>\n",
       "    </tr>\n",
       "    <tr>\n",
       "      <td>1</td>\n",
       "      <td>7.195367</td>\n",
       "      <td>0.314493</td>\n",
       "      <td>0.534467</td>\n",
       "      <td>0.488116</td>\n",
       "      <td>0.735015</td>\n",
       "      <td>2.871899</td>\n",
       "      <td>01:37</td>\n",
       "    </tr>\n",
       "    <tr>\n",
       "      <td>2</td>\n",
       "      <td>2.758921</td>\n",
       "      <td>1.285492</td>\n",
       "      <td>1.133550</td>\n",
       "      <td>1.128724</td>\n",
       "      <td>0.675578</td>\n",
       "      <td>1.654900</td>\n",
       "      <td>01:37</td>\n",
       "    </tr>\n",
       "    <tr>\n",
       "      <td>3</td>\n",
       "      <td>1.346378</td>\n",
       "      <td>0.030605</td>\n",
       "      <td>0.173612</td>\n",
       "      <td>0.143428</td>\n",
       "      <td>0.153623</td>\n",
       "      <td>1.049781</td>\n",
       "      <td>01:37</td>\n",
       "    </tr>\n",
       "    <tr>\n",
       "      <td>4</td>\n",
       "      <td>1.128387</td>\n",
       "      <td>0.020824</td>\n",
       "      <td>0.142765</td>\n",
       "      <td>0.110711</td>\n",
       "      <td>0.128465</td>\n",
       "      <td>0.824702</td>\n",
       "      <td>01:38</td>\n",
       "    </tr>\n",
       "  </tbody>\n",
       "</table>"
      ],
      "text/plain": [
       "<IPython.core.display.HTML object>"
      ]
     },
     "metadata": {},
     "output_type": "display_data"
    }
   ],
   "source": [
    "learn.fit_one_cycle(5, 1e-2)"
   ]
  },
  {
   "cell_type": "markdown",
   "metadata": {},
   "source": [
    "Top score on the leaderboard was wmae=2300 (https://www.kaggle.com/c/walmart-recruiting-store-sales-forecasting/leaderboard)\n",
    "\n",
    "My score is wmae=0.82"
   ]
  },
  {
   "cell_type": "code",
   "execution_count": 38,
   "metadata": {
    "ExecuteTime": {
     "end_time": "2020-05-08T16:30:05.174196Z",
     "start_time": "2020-05-08T16:30:05.004964Z"
    }
   },
   "outputs": [
    {
     "data": {
      "image/png": "[encoded data removed]",
      "text/plain": [
       "<Figure size 432x288 with 1 Axes>"
      ]
     },
     "metadata": {
      "needs_background": "light"
     },
     "output_type": "display_data"
    }
   ],
   "source": [
    "learn.recorder.plot_losses(skip_start=20000)"
   ]
  },
  {
   "cell_type": "markdown",
   "metadata": {},
   "source": [
    "## Inference"
   ]
  },
  {
   "cell_type": "code",
   "execution_count": 283,
   "metadata": {
    "ExecuteTime": {
     "end_time": "2020-05-08T15:18:45.040364Z",
     "start_time": "2020-05-08T15:18:19.537819Z"
    }
   },
   "outputs": [
    {
     "data": {
      "text/html": [],
      "text/plain": [
       "<IPython.core.display.HTML object>"
      ]
     },
     "metadata": {},
     "output_type": "display_data"
    }
   ],
   "source": [
    "preds, targets= learn.get_preds(DatasetType.Train)\n",
    "labels = [np.exp(p[0].data.item()) for p in preds]"
   ]
  },
  {
   "cell_type": "code",
   "execution_count": 58,
   "metadata": {
    "ExecuteTime": {
     "end_time": "2020-05-08T11:08:30.750821Z",
     "start_time": "2020-05-08T11:08:30.745249Z"
    }
   },
   "outputs": [],
   "source": [
    "df_validation['predicted'] = labels"
   ]
  },
  {
   "cell_type": "code",
   "execution_count": 284,
   "metadata": {
    "ExecuteTime": {
     "end_time": "2020-05-08T15:19:14.895097Z",
     "start_time": "2020-05-08T15:19:14.880274Z"
    }
   },
   "outputs": [
    {
     "data": {
      "text/plain": [
       "tensor([[9.0894],\n",
       "        [7.9540],\n",
       "        [8.2571],\n",
       "        ...,\n",
       "        [9.0383],\n",
       "        [9.7395],\n",
       "        [9.2516]])"
      ]
     },
     "execution_count": 284,
     "metadata": {},
     "output_type": "execute_result"
    }
   ],
   "source": [
    "preds"
   ]
  },
  {
   "cell_type": "code",
   "execution_count": 285,
   "metadata": {
    "ExecuteTime": {
     "end_time": "2020-05-08T15:19:15.717235Z",
     "start_time": "2020-05-08T15:19:15.713107Z"
    }
   },
   "outputs": [
    {
     "data": {
      "text/plain": [
       "tensor([10.0253,  8.5656,  8.9053,  ...,  9.9301, 10.8802, 10.5530])"
      ]
     },
     "execution_count": 285,
     "metadata": {},
     "output_type": "execute_result"
    }
   ],
   "source": [
    "targets"
   ]
  }
 ],
 "metadata": {
  "kernelspec": {
   "display_name": "Python 3",
   "language": "python",
   "name": "python3"
  },
  "language_info": {
   "codemirror_mode": {
    "name": "ipython",
    "version": 3
   },
   "file_extension": ".py",
   "mimetype": "text/x-python",
   "name": "python",
   "nbconvert_exporter": "python",
   "pygments_lexer": "ipython3",
   "version": "3.6.9"
  }
 },
 "nbformat": 4,
 "nbformat_minor": 2
}
