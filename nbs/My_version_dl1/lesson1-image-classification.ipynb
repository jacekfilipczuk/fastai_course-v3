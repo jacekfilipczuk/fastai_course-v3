{
 "cells": [
  {
   "cell_type": "code",
   "execution_count": 1,
   "metadata": {},
   "outputs": [],
   "source": [
    "%reload_ext autoreload\n",
    "%autoreload 2\n",
    "%matplotlib inline"
   ]
  },
  {
   "cell_type": "code",
   "execution_count": 2,
   "metadata": {},
   "outputs": [],
   "source": [
    "from fastai.vision import *\n",
    "from fastai.metrics import error_rate,accuracy\n",
    "from fastai.widgets import *"
   ]
  },
  {
   "cell_type": "markdown",
   "metadata": {},
   "source": [
    "## Checking if I'm using the GPU for the computations"
   ]
  },
  {
   "cell_type": "code",
   "execution_count": 3,
   "metadata": {},
   "outputs": [
    {
     "name": "stdout",
     "output_type": "stream",
     "text": [
      "Id of the currently used device:  0\n",
      "Name of the currently used device:  GeForce GTX 980M\n",
      "Number of available devices (CPU, GPU):  1\n",
      "Check if cuda is available:  True\n"
     ]
    }
   ],
   "source": [
    "import warnings\n",
    "warnings.filterwarnings(\"ignore\")\n",
    "\n",
    "import torch\n",
    "\n",
    "print('Id of the currently used device: ', torch.cuda.current_device())\n",
    "print('Name of the currently used device: ', torch.cuda.get_device_name(0))\n",
    "print('Number of available devices (CPU, GPU): ', torch.cuda.device_count())\n",
    "print('Check if cuda is available: ', torch.cuda.is_available())"
   ]
  },
  {
   "cell_type": "markdown",
   "metadata": {},
   "source": [
    "First thing to do is to set a proper batch size for the models I'm going to train, this is dependant on the compute power of my GPU card (8 Giga)"
   ]
  },
  {
   "cell_type": "code",
   "execution_count": 4,
   "metadata": {},
   "outputs": [],
   "source": [
    "batch_size = 64"
   ]
  },
  {
   "cell_type": "code",
   "execution_count": 5,
   "metadata": {},
   "outputs": [
    {
     "data": {
      "text/plain": [
       "[PosixPath('../../data/motoTest/vent'),\n",
       " PosixPath('../../data/motoTest/headbanger'),\n",
       " PosixPath('../../data/motoTest/vertigo'),\n",
       " PosixPath('../../data/motoTest/askoll'),\n",
       " PosixPath('../../data/motoTest/mbk')]"
      ]
     },
     "execution_count": 5,
     "metadata": {},
     "output_type": "execute_result"
    }
   ],
   "source": [
    "path_to_data = Path('../../data/motoTest/')\n",
    "path_to_data.ls()[:5]"
   ]
  },
  {
   "cell_type": "markdown",
   "metadata": {},
   "source": [
    "My dataset is in a bit of a weird format. For each motorcycle model I have folders with possible submodels and years of production. That series of folders create the final class. I will need to create a function to extract that class name."
   ]
  },
  {
   "cell_type": "code",
   "execution_count": 6,
   "metadata": {},
   "outputs": [
    {
     "data": {
      "text/plain": [
       "[PosixPath('../../data/motoTest/vent/baja-50/2013 - 19/72290.jpg'),\n",
       " PosixPath('../../data/motoTest/vent/baja-50/2013 - 19/72296.jpg'),\n",
       " PosixPath('../../data/motoTest/vent/baja-50/2013 - 19/72293.jpg'),\n",
       " PosixPath('../../data/motoTest/vent/baja-50/2013 - 19/72294.jpg'),\n",
       " PosixPath('../../data/motoTest/vent/baja-50/2013 - 19/72291.jpg')]"
      ]
     },
     "execution_count": 6,
     "metadata": {},
     "output_type": "execute_result"
    }
   ],
   "source": [
    "file_names = get_image_files(path_to_data,recurse=True)\n",
    "file_names[:5]"
   ]
  },
  {
   "cell_type": "code",
   "execution_count": 7,
   "metadata": {},
   "outputs": [],
   "source": [
    "f = lambda x: '_'.join(str(x).split('/')[4:-1])"
   ]
  },
  {
   "cell_type": "code",
   "execution_count": 8,
   "metadata": {},
   "outputs": [],
   "source": [
    "img_counter = {}\n",
    "for img in file_names:\n",
    "    img_name = f(img)\n",
    "    if img_name in img_counter:\n",
    "        img_counter[img_name]+=1\n",
    "    else:\n",
    "        img_counter[img_name]=1"
   ]
  },
  {
   "cell_type": "markdown",
   "metadata": {},
   "source": [
    "My dataset is very imbalanced, there are some classes with only few images. I need to select only the classes with a minimum number of images. Let's say the minimum threshold is 150 images per calss."
   ]
  },
  {
   "cell_type": "code",
   "execution_count": 9,
   "metadata": {},
   "outputs": [],
   "source": [
    "sorted_img_counter = sorted(img_counter.items(), key=lambda x : x[1], reverse=True)\n",
    "selected_classes = []\n",
    "for name,count in sorted_img_counter:\n",
    "    if count>100:\n",
    "        selected_classes.append(name)"
   ]
  },
  {
   "cell_type": "code",
   "execution_count": 10,
   "metadata": {},
   "outputs": [],
   "source": [
    "selected_file_names = [img_name for img_name in file_names if f(str(img_name)) in selected_classes]"
   ]
  },
  {
   "cell_type": "code",
   "execution_count": 11,
   "metadata": {},
   "outputs": [
    {
     "data": {
      "text/plain": [
       "[PosixPath('../../data/motoTest/piaggio/mp3/2010 - 11/55965.jpg'),\n",
       " PosixPath('../../data/motoTest/piaggio/mp3/2010 - 11/56233.jpg'),\n",
       " PosixPath('../../data/motoTest/piaggio/mp3/2010 - 11/55960.jpg'),\n",
       " PosixPath('../../data/motoTest/piaggio/mp3/2010 - 11/55968.jpg'),\n",
       " PosixPath('../../data/motoTest/piaggio/mp3/2010 - 11/55966.jpg')]"
      ]
     },
     "execution_count": 11,
     "metadata": {},
     "output_type": "execute_result"
    }
   ],
   "source": [
    "selected_file_names[:5]"
   ]
  },
  {
   "cell_type": "markdown",
   "metadata": {},
   "source": [
    "I'm using cuda 10.1 and this creates some incompatibility issues with transformations that are 'affine'. So I need to remove those transformations."
   ]
  },
  {
   "cell_type": "code",
   "execution_count": 6,
   "metadata": {},
   "outputs": [
    {
     "data": {
      "text/plain": [
       "([RandTransform(tfm=TfmCrop (crop_pad), kwargs={'row_pct': (0, 1), 'col_pct': (0, 1), 'padding_mode': 'reflection'}, p=1.0, resolved={}, do_run=True, is_random=True, use_on_y=True),\n",
       "  RandTransform(tfm=TfmPixel (flip_lr), kwargs={}, p=0.5, resolved={}, do_run=True, is_random=True, use_on_y=True),\n",
       "  RandTransform(tfm=TfmCoord (symmetric_warp), kwargs={'magnitude': (-0.2, 0.2)}, p=0.75, resolved={}, do_run=True, is_random=True, use_on_y=True),\n",
       "  RandTransform(tfm=TfmAffine (rotate), kwargs={'degrees': (-10.0, 10.0)}, p=0.75, resolved={}, do_run=True, is_random=True, use_on_y=True),\n",
       "  RandTransform(tfm=TfmAffine (zoom), kwargs={'scale': (1.0, 1.1), 'row_pct': (0, 1), 'col_pct': (0, 1)}, p=0.75, resolved={}, do_run=True, is_random=True, use_on_y=True),\n",
       "  RandTransform(tfm=TfmLighting (brightness), kwargs={'change': (0.4, 0.6)}, p=0.75, resolved={}, do_run=True, is_random=True, use_on_y=True),\n",
       "  RandTransform(tfm=TfmLighting (contrast), kwargs={'scale': (0.8, 1.25)}, p=0.75, resolved={}, do_run=True, is_random=True, use_on_y=True)],\n",
       " [RandTransform(tfm=TfmCrop (crop_pad), kwargs={}, p=1.0, resolved={}, do_run=True, is_random=True, use_on_y=True)])"
      ]
     },
     "execution_count": 6,
     "metadata": {},
     "output_type": "execute_result"
    }
   ],
   "source": [
    "transformations = get_transforms()\n",
    "transformations"
   ]
  },
  {
   "cell_type": "code",
   "execution_count": 7,
   "metadata": {},
   "outputs": [
    {
     "data": {
      "text/plain": [
       "RandTransform(tfm=TfmAffine (zoom), kwargs={'scale': (1.0, 1.1), 'row_pct': (0, 1), 'col_pct': (0, 1)}, p=0.75, resolved={}, do_run=True, is_random=True, use_on_y=True)"
      ]
     },
     "execution_count": 7,
     "metadata": {},
     "output_type": "execute_result"
    }
   ],
   "source": [
    "transformations[0].pop(3)\n",
    "transformations[0].pop(3)"
   ]
  },
  {
   "cell_type": "code",
   "execution_count": 14,
   "metadata": {},
   "outputs": [],
   "source": [
    "data = ImageDataBunch.from_name_func(path_to_data,selected_file_names,label_func=f, ds_tfms=transformations, size=224, bs=batch_size\n",
    "                                  ).normalize(imagenet_stats)"
   ]
  },
  {
   "cell_type": "code",
   "execution_count": 15,
   "metadata": {},
   "outputs": [],
   "source": [
    "data.save('data-clas-moto')"
   ]
  },
  {
   "cell_type": "code",
   "execution_count": 8,
   "metadata": {},
   "outputs": [],
   "source": [
    "data = load_data(path_to_data, 'data-clas-moto', bs=batch_size)"
   ]
  },
  {
   "cell_type": "code",
   "execution_count": 10,
   "metadata": {},
   "outputs": [
    {
     "data": {
      "image/png": "[encoded data removed]",
      "text/plain": [
       "<Figure size 504x432 with 9 Axes>"
      ]
     },
     "metadata": {
      "needs_background": "light"
     },
     "output_type": "display_data"
    }
   ],
   "source": [
    "data.show_batch(rows=3, figsize=(7,6))"
   ]
  },
  {
   "cell_type": "code",
   "execution_count": 11,
   "metadata": {},
   "outputs": [
    {
     "name": "stdout",
     "output_type": "stream",
     "text": [
      "['aprilia_rsv4_2009 - 12', 'aprilia_rsv4_2011 - 15', 'bmw_k-100-rs', 'bmw_k-1100-rs', 'bmw_k-75-s', 'bmw_r-1100-gs', 'bmw_r-1100-rs', 'bmw_r-1100-s', 'bmw_r-1150-gs', 'bmw_r-1200-c', 'bmw_r-1200-r_2017 - 18', 'bmw_r-nine-t_2017 - 19', 'ducati_1199-panigale_2013 - 14', 'ducati_749_2003 - 07', 'ducati_diavel-1200_2010 - 13', 'ducati_hypermotard-1100-evo_2010 - 12', 'ducati_hypermotard-1100_2007 - 09', 'ducati_hypermotard-821_2013 - 15', 'ducati_hypermotard-939_2016 - 18', 'ducati_monster-1000_2003 - 05', 'ducati_monster-1200_2014 - 16', 'ducati_monster-1200_2017 - 19', 'ducati_monster-620_2002', 'ducati_multistrada-1200_2010 - 12', 'ducati_multistrada-1200_2013 - 14', 'ducati_multistrada-1200_2015 - 17', 'ducati_multistrada-1260_2018 - 19', 'ducati_scrambler-1100_2018 - 19', 'ducati_scrambler-800_2015 - 16', 'ducati_scrambler-800_2017 - 19', 'ducati_st2_1997 - 02', 'ducati_xdiavel-1262_2016 - 19', 'harley-davidson_dyna_1994 - 99', 'harley-davidson_dyna_2007', 'harley-davidson_softail_1989 - 95', 'harley-davidson_softail_1999 - 02', 'harley-davidson_softail_1999 - 03', 'harley-davidson_softail_2006 - 07', 'harley-davidson_sportster_1994 - 00', 'harley-davidson_sportster_2001 - 05', 'harley-davidson_sportster_2006 - 07', 'harley-davidson_sportster_2008 - 12', 'harley-davidson_sportster_2013 - 17', 'harley-davidson_sportster_2014 - 16', 'harley-davidson_sportster_2018 - 19', 'harley-davidson_touring_1999 - 02', 'harley-davidson_touring_1999 - 03', 'harley-davidson_touring_2002 - 04', 'harley-davidson_touring_2003 - 05', 'harley-davidson_touring_2007', 'harley-davidson_touring_2008 - 10', 'harley-davidson_touring_2013 - 16', 'harley-davidson_touring_2014 - 16', 'harley-davidson_touring_2017', 'harley-davidson_touring_2017 - 18', 'harley-davidson_v-rod_2006 - 07', 'honda_africa-twin-crf-1000-l_2016 - 17', 'honda_cbf-1000', 'honda_crf-250-r_2018', 'honda_nc750x_2014 - 15', 'honda_nc750x_2016 -17', 'honda_nc750x_2018 - 19', 'honda_transalp-xl-700-v_2007 - 2013', 'honda_x-adv-750_2018 - 19', 'kawasaki_ninja-1000-zx-10r_2011 - 15', 'kawasaki_versys-650_2010 - 14', 'kawasaki_versys-650_2017 - 19', 'kawasaki_z-1000_2010 - 13', 'kawasaki_z-750_2007 - 14', 'ktm_1190-adventure_2013 - 16', 'ktm_exc-300-e_2018', 'kymco_people-300_2010 - 17', 'kymco_xciting-400i_2012 - 17', 'moto-guzzi_nevada-750_2002 - 06', 'moto-guzzi_stelvio-1200_2011 - 16', 'moto-guzzi_v7_2012 - 14', 'moto-guzzi_v7_2015 - 17', 'mv-agusta_brutale-1090_2012 - 15', 'mv-agusta_f4-750_2000 - 02', 'mv-agusta_turismo-veloce-800_2014 - 16', 'piaggio_mp3_2010 - 11', 'piaggio_mp3_2014 - 16', 'suzuki_v-strom-650_2008 - 11', 'triumph_speed-triple-1050_2011 - 15', 'triumph_speed-triple-955_2002 - 04', 'triumph_street-triple_2013 - 17', 'triumph_street-triple_2017 - 19', 'triumph_tiger-1050_2006 - 12', 'triumph_tiger-1200_2018 - 19', 'triumph_tiger-800_2010 - 14', 'triumph_tiger-800_2015 - 17', 'triumph_tiger-800_2018 - 19', 'triumph_tiger-explorer_2011 - 16', 'triumph_tiger-explorer_2016 - 17', 'vespa_gts-300_2014 - 16', 'yamaha_mt-09_2014 - 16', 'yamaha_t-max-530_2012 - 14', 'yamaha_t-max-530_2017 - 19', 'yamaha_xt-660_2004 - 16', 'yamaha_xt1200z-super-tenere_2015 - 16']\n",
      "100\n"
     ]
    }
   ],
   "source": [
    "print(data.classes);\n",
    "print(len(data.classes))"
   ]
  },
  {
   "cell_type": "markdown",
   "metadata": {},
   "source": [
    "# Training the resnet model"
   ]
  },
  {
   "cell_type": "code",
   "execution_count": 9,
   "metadata": {},
   "outputs": [],
   "source": [
    "fscore = FBeta(average='macro', beta=1)\n",
    "leaner_metrics = [fscore,accuracy, error_rate]\n",
    "learner = cnn_learner(data, models.resnet50, metrics=leaner_metrics)"
   ]
  },
  {
   "cell_type": "code",
   "execution_count": 10,
   "metadata": {},
   "outputs": [
    {
     "data": {
      "text/html": [
       "<table border=\"1\" class=\"dataframe\">\n",
       "  <thead>\n",
       "    <tr style=\"text-align: left;\">\n",
       "      <th>epoch</th>\n",
       "      <th>train_loss</th>\n",
       "      <th>valid_loss</th>\n",
       "      <th>f_beta</th>\n",
       "      <th>accuracy</th>\n",
       "      <th>error_rate</th>\n",
       "      <th>time</th>\n",
       "    </tr>\n",
       "  </thead>\n",
       "  <tbody>\n",
       "    <tr>\n",
       "      <td>0</td>\n",
       "      <td>3.891802</td>\n",
       "      <td>2.902731</td>\n",
       "      <td>0.288069</td>\n",
       "      <td>0.299669</td>\n",
       "      <td>0.700330</td>\n",
       "      <td>03:07</td>\n",
       "    </tr>\n",
       "  </tbody>\n",
       "</table>"
      ],
      "text/plain": [
       "<IPython.core.display.HTML object>"
      ]
     },
     "metadata": {},
     "output_type": "display_data"
    }
   ],
   "source": [
    "learner.fit_one_cycle(1)"
   ]
  },
  {
   "cell_type": "code",
   "execution_count": 20,
   "metadata": {},
   "outputs": [],
   "source": [
    "learner.save('stage-1')"
   ]
  },
  {
   "cell_type": "code",
   "execution_count": null,
   "metadata": {},
   "outputs": [],
   "source": [
    "learner.load('stage-1');"
   ]
  },
  {
   "cell_type": "code",
   "execution_count": 11,
   "metadata": {},
   "outputs": [
    {
     "data": {
      "text/html": [
       "\n",
       "    <div>\n",
       "        <style>\n",
       "            /* Turns off some styling */\n",
       "            progress {\n",
       "                /* gets rid of default border in Firefox and Opera. */\n",
       "                border: none;\n",
       "                /* Needs to be in here for Safari polyfill so background images work as expected. */\n",
       "                background-size: auto;\n",
       "            }\n",
       "            .progress-bar-interrupted, .progress-bar-interrupted::-webkit-progress-bar {\n",
       "                background: #F44336;\n",
       "            }\n",
       "        </style>\n",
       "      <progress value='0' class='' max='1' style='width:300px; height:20px; vertical-align: middle;'></progress>\n",
       "      0.00% [0/1 00:00<00:00]\n",
       "    </div>\n",
       "    \n",
       "<table border=\"1\" class=\"dataframe\">\n",
       "  <thead>\n",
       "    <tr style=\"text-align: left;\">\n",
       "      <th>epoch</th>\n",
       "      <th>train_loss</th>\n",
       "      <th>valid_loss</th>\n",
       "      <th>f_beta</th>\n",
       "      <th>accuracy</th>\n",
       "      <th>error_rate</th>\n",
       "      <th>time</th>\n",
       "    </tr>\n",
       "  </thead>\n",
       "  <tbody>\n",
       "  </tbody>\n",
       "</table><p>\n",
       "\n",
       "    <div>\n",
       "        <style>\n",
       "            /* Turns off some styling */\n",
       "            progress {\n",
       "                /* gets rid of default border in Firefox and Opera. */\n",
       "                border: none;\n",
       "                /* Needs to be in here for Safari polyfill so background images work as expected. */\n",
       "                background-size: auto;\n",
       "            }\n",
       "            .progress-bar-interrupted, .progress-bar-interrupted::-webkit-progress-bar {\n",
       "                background: #F44336;\n",
       "            }\n",
       "        </style>\n",
       "      <progress value='91' class='' max='170' style='width:300px; height:20px; vertical-align: middle;'></progress>\n",
       "      53.53% [91/170 01:13<01:03 11.6537]\n",
       "    </div>\n",
       "    "
      ],
      "text/plain": [
       "<IPython.core.display.HTML object>"
      ]
     },
     "metadata": {},
     "output_type": "display_data"
    },
    {
     "name": "stdout",
     "output_type": "stream",
     "text": [
      "LR Finder is complete, type {learner_name}.recorder.plot() to see the graph.\n"
     ]
    }
   ],
   "source": [
    "learner.lr_find()"
   ]
  },
  {
   "cell_type": "code",
   "execution_count": 12,
   "metadata": {},
   "outputs": [
    {
     "data": {
      "image/png": "[encoded data removed]",
      "text/plain": [
       "<Figure size 432x288 with 1 Axes>"
      ]
     },
     "metadata": {
      "needs_background": "light"
     },
     "output_type": "display_data"
    }
   ],
   "source": [
    "learner.recorder.plot(skip_end=15)"
   ]
  },
  {
   "cell_type": "code",
   "execution_count": 23,
   "metadata": {},
   "outputs": [
    {
     "data": {
      "text/html": [
       "<table border=\"1\" class=\"dataframe\">\n",
       "  <thead>\n",
       "    <tr style=\"text-align: left;\">\n",
       "      <th>epoch</th>\n",
       "      <th>train_loss</th>\n",
       "      <th>valid_loss</th>\n",
       "      <th>f_beta</th>\n",
       "      <th>accuracy</th>\n",
       "      <th>error_rate</th>\n",
       "      <th>time</th>\n",
       "    </tr>\n",
       "  </thead>\n",
       "  <tbody>\n",
       "    <tr>\n",
       "      <td>0</td>\n",
       "      <td>1.629632</td>\n",
       "      <td>1.785496</td>\n",
       "      <td>0.543379</td>\n",
       "      <td>0.546823</td>\n",
       "      <td>0.453177</td>\n",
       "      <td>02:56</td>\n",
       "    </tr>\n",
       "    <tr>\n",
       "      <td>1</td>\n",
       "      <td>1.431465</td>\n",
       "      <td>1.559524</td>\n",
       "      <td>0.588895</td>\n",
       "      <td>0.589791</td>\n",
       "      <td>0.410209</td>\n",
       "      <td>02:56</td>\n",
       "    </tr>\n",
       "    <tr>\n",
       "      <td>2</td>\n",
       "      <td>1.036712</td>\n",
       "      <td>1.413182</td>\n",
       "      <td>0.620075</td>\n",
       "      <td>0.621373</td>\n",
       "      <td>0.378627</td>\n",
       "      <td>02:56</td>\n",
       "    </tr>\n",
       "    <tr>\n",
       "      <td>3</td>\n",
       "      <td>0.790395</td>\n",
       "      <td>1.389897</td>\n",
       "      <td>0.631144</td>\n",
       "      <td>0.629820</td>\n",
       "      <td>0.370180</td>\n",
       "      <td>02:56</td>\n",
       "    </tr>\n",
       "  </tbody>\n",
       "</table>"
      ],
      "text/plain": [
       "<IPython.core.display.HTML object>"
      ]
     },
     "metadata": {},
     "output_type": "display_data"
    }
   ],
   "source": [
    "learner.freeze_to(-2)\n",
    "learner.fit_one_cycle(4, slice(1e-3, 1e-5), moms=(0.8,0.7))"
   ]
  },
  {
   "cell_type": "code",
   "execution_count": 25,
   "metadata": {},
   "outputs": [],
   "source": [
    "learner.save('stage-2')"
   ]
  },
  {
   "cell_type": "code",
   "execution_count": 8,
   "metadata": {},
   "outputs": [],
   "source": [
    "learner.load('stage-2');"
   ]
  },
  {
   "cell_type": "code",
   "execution_count": 12,
   "metadata": {},
   "outputs": [
    {
     "data": {
      "text/html": [
       "<table border=\"1\" class=\"dataframe\">\n",
       "  <thead>\n",
       "    <tr style=\"text-align: left;\">\n",
       "      <th>epoch</th>\n",
       "      <th>train_loss</th>\n",
       "      <th>valid_loss</th>\n",
       "      <th>f_beta</th>\n",
       "      <th>accuracy</th>\n",
       "      <th>error_rate</th>\n",
       "      <th>time</th>\n",
       "    </tr>\n",
       "  </thead>\n",
       "  <tbody>\n",
       "    <tr>\n",
       "      <td>0</td>\n",
       "      <td>0.748870</td>\n",
       "      <td>1.392368</td>\n",
       "      <td>0.635716</td>\n",
       "      <td>0.635329</td>\n",
       "      <td>0.364671</td>\n",
       "      <td>03:20</td>\n",
       "    </tr>\n",
       "    <tr>\n",
       "      <td>1</td>\n",
       "      <td>0.736896</td>\n",
       "      <td>1.379645</td>\n",
       "      <td>0.640171</td>\n",
       "      <td>0.639368</td>\n",
       "      <td>0.360632</td>\n",
       "      <td>03:17</td>\n",
       "    </tr>\n",
       "    <tr>\n",
       "      <td>2</td>\n",
       "      <td>0.717188</td>\n",
       "      <td>1.370083</td>\n",
       "      <td>0.641327</td>\n",
       "      <td>0.640837</td>\n",
       "      <td>0.359163</td>\n",
       "      <td>03:18</td>\n",
       "    </tr>\n",
       "    <tr>\n",
       "      <td>3</td>\n",
       "      <td>0.699769</td>\n",
       "      <td>1.372918</td>\n",
       "      <td>0.640383</td>\n",
       "      <td>0.638267</td>\n",
       "      <td>0.361733</td>\n",
       "      <td>03:17</td>\n",
       "    </tr>\n",
       "  </tbody>\n",
       "</table>"
      ],
      "text/plain": [
       "<IPython.core.display.HTML object>"
      ]
     },
     "metadata": {},
     "output_type": "display_data"
    }
   ],
   "source": [
    "learner.freeze_to(-3)\n",
    "learner.fit_one_cycle(4, slice(1e-5, 1e-6), moms=(0.8,0.7))"
   ]
  },
  {
   "cell_type": "code",
   "execution_count": 13,
   "metadata": {},
   "outputs": [],
   "source": [
    "learner.save('stage-3')"
   ]
  },
  {
   "cell_type": "code",
   "execution_count": 18,
   "metadata": {},
   "outputs": [],
   "source": [
    "learner.load('stage-3');"
   ]
  },
  {
   "cell_type": "code",
   "execution_count": 17,
   "metadata": {},
   "outputs": [
    {
     "data": {
      "text/html": [
       "<table border=\"1\" class=\"dataframe\">\n",
       "  <thead>\n",
       "    <tr style=\"text-align: left;\">\n",
       "      <th>epoch</th>\n",
       "      <th>train_loss</th>\n",
       "      <th>valid_loss</th>\n",
       "      <th>f_beta</th>\n",
       "      <th>accuracy</th>\n",
       "      <th>error_rate</th>\n",
       "      <th>time</th>\n",
       "    </tr>\n",
       "  </thead>\n",
       "  <tbody>\n",
       "    <tr>\n",
       "      <td>0</td>\n",
       "      <td>0.703546</td>\n",
       "      <td>1.370647</td>\n",
       "      <td>0.643373</td>\n",
       "      <td>0.642673</td>\n",
       "      <td>0.357326</td>\n",
       "      <td>03:27</td>\n",
       "    </tr>\n",
       "    <tr>\n",
       "      <td>1</td>\n",
       "      <td>0.716751</td>\n",
       "      <td>1.369365</td>\n",
       "      <td>0.639973</td>\n",
       "      <td>0.640103</td>\n",
       "      <td>0.359897</td>\n",
       "      <td>03:26</td>\n",
       "    </tr>\n",
       "    <tr>\n",
       "      <td>2</td>\n",
       "      <td>0.703937</td>\n",
       "      <td>1.367819</td>\n",
       "      <td>0.645911</td>\n",
       "      <td>0.644510</td>\n",
       "      <td>0.355490</td>\n",
       "      <td>03:25</td>\n",
       "    </tr>\n",
       "  </tbody>\n",
       "</table>"
      ],
      "text/plain": [
       "<IPython.core.display.HTML object>"
      ]
     },
     "metadata": {},
     "output_type": "display_data"
    }
   ],
   "source": [
    "learner.freeze_to(-3)\n",
    "learner.fit_one_cycle(3, slice(1e-6, 1e-7), moms=(0.8,0.7))"
   ]
  },
  {
   "cell_type": "code",
   "execution_count": 35,
   "metadata": {},
   "outputs": [],
   "source": [
    "learner.save('stage-4')"
   ]
  },
  {
   "cell_type": "code",
   "execution_count": 38,
   "metadata": {},
   "outputs": [
    {
     "data": {
      "text/plain": [
       "Learner(data=ImageDataBunch;\n",
       "\n",
       "Train: LabelList (3106 items)\n",
       "x: ImageList\n",
       "Image (3, 224, 224),Image (3, 224, 224),Image (3, 224, 224),Image (3, 224, 224),Image (3, 224, 224)\n",
       "y: CategoryList\n",
       "ducati_multistrada-1200_2013 - 14,ducati_multistrada-1200_2013 - 14,ducati_multistrada-1200_2013 - 14,ducati_multistrada-1200_2013 - 14,ducati_multistrada-1200_2013 - 14\n",
       "Path: ../../data/motoTest;\n",
       "\n",
       "Valid: LabelList (776 items)\n",
       "x: ImageList\n",
       "Image (3, 224, 224),Image (3, 224, 224),Image (3, 224, 224),Image (3, 224, 224),Image (3, 224, 224)\n",
       "y: CategoryList\n",
       "bmw_r-1200-c,moto-guzzi_v7_2015 - 17,bmw_r-1100-s,ducati_scrambler-1100_2018 - 19,ducati_multistrada-1260_2018 - 19\n",
       "Path: ../../data/motoTest;\n",
       "\n",
       "Test: None, model=Sequential(\n",
       "  (0): Sequential(\n",
       "    (0): Conv2d(3, 64, kernel_size=(7, 7), stride=(2, 2), padding=(3, 3), bias=False)\n",
       "    (1): BatchNorm2d(64, eps=1e-05, momentum=0.1, affine=True, track_running_stats=True)\n",
       "    (2): ReLU(inplace=True)\n",
       "    (3): MaxPool2d(kernel_size=3, stride=2, padding=1, dilation=1, ceil_mode=False)\n",
       "    (4): Sequential(\n",
       "      (0): BasicBlock(\n",
       "        (conv1): Conv2d(64, 64, kernel_size=(3, 3), stride=(1, 1), padding=(1, 1), bias=False)\n",
       "        (bn1): BatchNorm2d(64, eps=1e-05, momentum=0.1, affine=True, track_running_stats=True)\n",
       "        (relu): ReLU(inplace=True)\n",
       "        (conv2): Conv2d(64, 64, kernel_size=(3, 3), stride=(1, 1), padding=(1, 1), bias=False)\n",
       "        (bn2): BatchNorm2d(64, eps=1e-05, momentum=0.1, affine=True, track_running_stats=True)\n",
       "      )\n",
       "      (1): BasicBlock(\n",
       "        (conv1): Conv2d(64, 64, kernel_size=(3, 3), stride=(1, 1), padding=(1, 1), bias=False)\n",
       "        (bn1): BatchNorm2d(64, eps=1e-05, momentum=0.1, affine=True, track_running_stats=True)\n",
       "        (relu): ReLU(inplace=True)\n",
       "        (conv2): Conv2d(64, 64, kernel_size=(3, 3), stride=(1, 1), padding=(1, 1), bias=False)\n",
       "        (bn2): BatchNorm2d(64, eps=1e-05, momentum=0.1, affine=True, track_running_stats=True)\n",
       "      )\n",
       "      (2): BasicBlock(\n",
       "        (conv1): Conv2d(64, 64, kernel_size=(3, 3), stride=(1, 1), padding=(1, 1), bias=False)\n",
       "        (bn1): BatchNorm2d(64, eps=1e-05, momentum=0.1, affine=True, track_running_stats=True)\n",
       "        (relu): ReLU(inplace=True)\n",
       "        (conv2): Conv2d(64, 64, kernel_size=(3, 3), stride=(1, 1), padding=(1, 1), bias=False)\n",
       "        (bn2): BatchNorm2d(64, eps=1e-05, momentum=0.1, affine=True, track_running_stats=True)\n",
       "      )\n",
       "    )\n",
       "    (5): Sequential(\n",
       "      (0): BasicBlock(\n",
       "        (conv1): Conv2d(64, 128, kernel_size=(3, 3), stride=(2, 2), padding=(1, 1), bias=False)\n",
       "        (bn1): BatchNorm2d(128, eps=1e-05, momentum=0.1, affine=True, track_running_stats=True)\n",
       "        (relu): ReLU(inplace=True)\n",
       "        (conv2): Conv2d(128, 128, kernel_size=(3, 3), stride=(1, 1), padding=(1, 1), bias=False)\n",
       "        (bn2): BatchNorm2d(128, eps=1e-05, momentum=0.1, affine=True, track_running_stats=True)\n",
       "        (downsample): Sequential(\n",
       "          (0): Conv2d(64, 128, kernel_size=(1, 1), stride=(2, 2), bias=False)\n",
       "          (1): BatchNorm2d(128, eps=1e-05, momentum=0.1, affine=True, track_running_stats=True)\n",
       "        )\n",
       "      )\n",
       "      (1): BasicBlock(\n",
       "        (conv1): Conv2d(128, 128, kernel_size=(3, 3), stride=(1, 1), padding=(1, 1), bias=False)\n",
       "        (bn1): BatchNorm2d(128, eps=1e-05, momentum=0.1, affine=True, track_running_stats=True)\n",
       "        (relu): ReLU(inplace=True)\n",
       "        (conv2): Conv2d(128, 128, kernel_size=(3, 3), stride=(1, 1), padding=(1, 1), bias=False)\n",
       "        (bn2): BatchNorm2d(128, eps=1e-05, momentum=0.1, affine=True, track_running_stats=True)\n",
       "      )\n",
       "      (2): BasicBlock(\n",
       "        (conv1): Conv2d(128, 128, kernel_size=(3, 3), stride=(1, 1), padding=(1, 1), bias=False)\n",
       "        (bn1): BatchNorm2d(128, eps=1e-05, momentum=0.1, affine=True, track_running_stats=True)\n",
       "        (relu): ReLU(inplace=True)\n",
       "        (conv2): Conv2d(128, 128, kernel_size=(3, 3), stride=(1, 1), padding=(1, 1), bias=False)\n",
       "        (bn2): BatchNorm2d(128, eps=1e-05, momentum=0.1, affine=True, track_running_stats=True)\n",
       "      )\n",
       "      (3): BasicBlock(\n",
       "        (conv1): Conv2d(128, 128, kernel_size=(3, 3), stride=(1, 1), padding=(1, 1), bias=False)\n",
       "        (bn1): BatchNorm2d(128, eps=1e-05, momentum=0.1, affine=True, track_running_stats=True)\n",
       "        (relu): ReLU(inplace=True)\n",
       "        (conv2): Conv2d(128, 128, kernel_size=(3, 3), stride=(1, 1), padding=(1, 1), bias=False)\n",
       "        (bn2): BatchNorm2d(128, eps=1e-05, momentum=0.1, affine=True, track_running_stats=True)\n",
       "      )\n",
       "    )\n",
       "    (6): Sequential(\n",
       "      (0): BasicBlock(\n",
       "        (conv1): Conv2d(128, 256, kernel_size=(3, 3), stride=(2, 2), padding=(1, 1), bias=False)\n",
       "        (bn1): BatchNorm2d(256, eps=1e-05, momentum=0.1, affine=True, track_running_stats=True)\n",
       "        (relu): ReLU(inplace=True)\n",
       "        (conv2): Conv2d(256, 256, kernel_size=(3, 3), stride=(1, 1), padding=(1, 1), bias=False)\n",
       "        (bn2): BatchNorm2d(256, eps=1e-05, momentum=0.1, affine=True, track_running_stats=True)\n",
       "        (downsample): Sequential(\n",
       "          (0): Conv2d(128, 256, kernel_size=(1, 1), stride=(2, 2), bias=False)\n",
       "          (1): BatchNorm2d(256, eps=1e-05, momentum=0.1, affine=True, track_running_stats=True)\n",
       "        )\n",
       "      )\n",
       "      (1): BasicBlock(\n",
       "        (conv1): Conv2d(256, 256, kernel_size=(3, 3), stride=(1, 1), padding=(1, 1), bias=False)\n",
       "        (bn1): BatchNorm2d(256, eps=1e-05, momentum=0.1, affine=True, track_running_stats=True)\n",
       "        (relu): ReLU(inplace=True)\n",
       "        (conv2): Conv2d(256, 256, kernel_size=(3, 3), stride=(1, 1), padding=(1, 1), bias=False)\n",
       "        (bn2): BatchNorm2d(256, eps=1e-05, momentum=0.1, affine=True, track_running_stats=True)\n",
       "      )\n",
       "      (2): BasicBlock(\n",
       "        (conv1): Conv2d(256, 256, kernel_size=(3, 3), stride=(1, 1), padding=(1, 1), bias=False)\n",
       "        (bn1): BatchNorm2d(256, eps=1e-05, momentum=0.1, affine=True, track_running_stats=True)\n",
       "        (relu): ReLU(inplace=True)\n",
       "        (conv2): Conv2d(256, 256, kernel_size=(3, 3), stride=(1, 1), padding=(1, 1), bias=False)\n",
       "        (bn2): BatchNorm2d(256, eps=1e-05, momentum=0.1, affine=True, track_running_stats=True)\n",
       "      )\n",
       "      (3): BasicBlock(\n",
       "        (conv1): Conv2d(256, 256, kernel_size=(3, 3), stride=(1, 1), padding=(1, 1), bias=False)\n",
       "        (bn1): BatchNorm2d(256, eps=1e-05, momentum=0.1, affine=True, track_running_stats=True)\n",
       "        (relu): ReLU(inplace=True)\n",
       "        (conv2): Conv2d(256, 256, kernel_size=(3, 3), stride=(1, 1), padding=(1, 1), bias=False)\n",
       "        (bn2): BatchNorm2d(256, eps=1e-05, momentum=0.1, affine=True, track_running_stats=True)\n",
       "      )\n",
       "      (4): BasicBlock(\n",
       "        (conv1): Conv2d(256, 256, kernel_size=(3, 3), stride=(1, 1), padding=(1, 1), bias=False)\n",
       "        (bn1): BatchNorm2d(256, eps=1e-05, momentum=0.1, affine=True, track_running_stats=True)\n",
       "        (relu): ReLU(inplace=True)\n",
       "        (conv2): Conv2d(256, 256, kernel_size=(3, 3), stride=(1, 1), padding=(1, 1), bias=False)\n",
       "        (bn2): BatchNorm2d(256, eps=1e-05, momentum=0.1, affine=True, track_running_stats=True)\n",
       "      )\n",
       "      (5): BasicBlock(\n",
       "        (conv1): Conv2d(256, 256, kernel_size=(3, 3), stride=(1, 1), padding=(1, 1), bias=False)\n",
       "        (bn1): BatchNorm2d(256, eps=1e-05, momentum=0.1, affine=True, track_running_stats=True)\n",
       "        (relu): ReLU(inplace=True)\n",
       "        (conv2): Conv2d(256, 256, kernel_size=(3, 3), stride=(1, 1), padding=(1, 1), bias=False)\n",
       "        (bn2): BatchNorm2d(256, eps=1e-05, momentum=0.1, affine=True, track_running_stats=True)\n",
       "      )\n",
       "    )\n",
       "    (7): Sequential(\n",
       "      (0): BasicBlock(\n",
       "        (conv1): Conv2d(256, 512, kernel_size=(3, 3), stride=(2, 2), padding=(1, 1), bias=False)\n",
       "        (bn1): BatchNorm2d(512, eps=1e-05, momentum=0.1, affine=True, track_running_stats=True)\n",
       "        (relu): ReLU(inplace=True)\n",
       "        (conv2): Conv2d(512, 512, kernel_size=(3, 3), stride=(1, 1), padding=(1, 1), bias=False)\n",
       "        (bn2): BatchNorm2d(512, eps=1e-05, momentum=0.1, affine=True, track_running_stats=True)\n",
       "        (downsample): Sequential(\n",
       "          (0): Conv2d(256, 512, kernel_size=(1, 1), stride=(2, 2), bias=False)\n",
       "          (1): BatchNorm2d(512, eps=1e-05, momentum=0.1, affine=True, track_running_stats=True)\n",
       "        )\n",
       "      )\n",
       "      (1): BasicBlock(\n",
       "        (conv1): Conv2d(512, 512, kernel_size=(3, 3), stride=(1, 1), padding=(1, 1), bias=False)\n",
       "        (bn1): BatchNorm2d(512, eps=1e-05, momentum=0.1, affine=True, track_running_stats=True)\n",
       "        (relu): ReLU(inplace=True)\n",
       "        (conv2): Conv2d(512, 512, kernel_size=(3, 3), stride=(1, 1), padding=(1, 1), bias=False)\n",
       "        (bn2): BatchNorm2d(512, eps=1e-05, momentum=0.1, affine=True, track_running_stats=True)\n",
       "      )\n",
       "      (2): BasicBlock(\n",
       "        (conv1): Conv2d(512, 512, kernel_size=(3, 3), stride=(1, 1), padding=(1, 1), bias=False)\n",
       "        (bn1): BatchNorm2d(512, eps=1e-05, momentum=0.1, affine=True, track_running_stats=True)\n",
       "        (relu): ReLU(inplace=True)\n",
       "        (conv2): Conv2d(512, 512, kernel_size=(3, 3), stride=(1, 1), padding=(1, 1), bias=False)\n",
       "        (bn2): BatchNorm2d(512, eps=1e-05, momentum=0.1, affine=True, track_running_stats=True)\n",
       "      )\n",
       "    )\n",
       "  )\n",
       "  (1): Sequential(\n",
       "    (0): AdaptiveConcatPool2d(\n",
       "      (ap): AdaptiveAvgPool2d(output_size=1)\n",
       "      (mp): AdaptiveMaxPool2d(output_size=1)\n",
       "    )\n",
       "    (1): Flatten()\n",
       "    (2): BatchNorm1d(1024, eps=1e-05, momentum=0.1, affine=True, track_running_stats=True)\n",
       "    (3): Dropout(p=0.25, inplace=False)\n",
       "    (4): Linear(in_features=1024, out_features=512, bias=True)\n",
       "    (5): ReLU(inplace=True)\n",
       "    (6): BatchNorm1d(512, eps=1e-05, momentum=0.1, affine=True, track_running_stats=True)\n",
       "    (7): Dropout(p=0.5, inplace=False)\n",
       "    (8): Linear(in_features=512, out_features=18, bias=True)\n",
       "  )\n",
       "), opt_func=functools.partial(<class 'torch.optim.adam.Adam'>, betas=(0.9, 0.99)), loss_func=FlattenedLoss of CrossEntropyLoss(), metrics=[FBeta(average='macro', pos_label=1, eps=1e-09, beta=1), <function accuracy at 0x7f01b0755268>, <function error_rate at 0x7f01b0755488>], true_wd=True, bn_wd=True, wd=0.01, train_bn=True, path=PosixPath('../../data/motoTest'), model_dir='models', callback_fns=[functools.partial(<class 'fastai.basic_train.Recorder'>, add_time=True, silent=False)], callbacks=[], layer_groups=[Sequential(\n",
       "  (0): Conv2d(3, 64, kernel_size=(7, 7), stride=(2, 2), padding=(3, 3), bias=False)\n",
       "  (1): BatchNorm2d(64, eps=1e-05, momentum=0.1, affine=True, track_running_stats=True)\n",
       "  (2): ReLU(inplace=True)\n",
       "  (3): MaxPool2d(kernel_size=3, stride=2, padding=1, dilation=1, ceil_mode=False)\n",
       "  (4): Conv2d(64, 64, kernel_size=(3, 3), stride=(1, 1), padding=(1, 1), bias=False)\n",
       "  (5): BatchNorm2d(64, eps=1e-05, momentum=0.1, affine=True, track_running_stats=True)\n",
       "  (6): ReLU(inplace=True)\n",
       "  (7): Conv2d(64, 64, kernel_size=(3, 3), stride=(1, 1), padding=(1, 1), bias=False)\n",
       "  (8): BatchNorm2d(64, eps=1e-05, momentum=0.1, affine=True, track_running_stats=True)\n",
       "  (9): Conv2d(64, 64, kernel_size=(3, 3), stride=(1, 1), padding=(1, 1), bias=False)\n",
       "  (10): BatchNorm2d(64, eps=1e-05, momentum=0.1, affine=True, track_running_stats=True)\n",
       "  (11): ReLU(inplace=True)\n",
       "  (12): Conv2d(64, 64, kernel_size=(3, 3), stride=(1, 1), padding=(1, 1), bias=False)\n",
       "  (13): BatchNorm2d(64, eps=1e-05, momentum=0.1, affine=True, track_running_stats=True)\n",
       "  (14): Conv2d(64, 64, kernel_size=(3, 3), stride=(1, 1), padding=(1, 1), bias=False)\n",
       "  (15): BatchNorm2d(64, eps=1e-05, momentum=0.1, affine=True, track_running_stats=True)\n",
       "  (16): ReLU(inplace=True)\n",
       "  (17): Conv2d(64, 64, kernel_size=(3, 3), stride=(1, 1), padding=(1, 1), bias=False)\n",
       "  (18): BatchNorm2d(64, eps=1e-05, momentum=0.1, affine=True, track_running_stats=True)\n",
       "  (19): Conv2d(64, 128, kernel_size=(3, 3), stride=(2, 2), padding=(1, 1), bias=False)\n",
       "  (20): BatchNorm2d(128, eps=1e-05, momentum=0.1, affine=True, track_running_stats=True)\n",
       "  (21): ReLU(inplace=True)\n",
       "  (22): Conv2d(128, 128, kernel_size=(3, 3), stride=(1, 1), padding=(1, 1), bias=False)\n",
       "  (23): BatchNorm2d(128, eps=1e-05, momentum=0.1, affine=True, track_running_stats=True)\n",
       "  (24): Conv2d(64, 128, kernel_size=(1, 1), stride=(2, 2), bias=False)\n",
       "  (25): BatchNorm2d(128, eps=1e-05, momentum=0.1, affine=True, track_running_stats=True)\n",
       "  (26): Conv2d(128, 128, kernel_size=(3, 3), stride=(1, 1), padding=(1, 1), bias=False)\n",
       "  (27): BatchNorm2d(128, eps=1e-05, momentum=0.1, affine=True, track_running_stats=True)\n",
       "  (28): ReLU(inplace=True)\n",
       "  (29): Conv2d(128, 128, kernel_size=(3, 3), stride=(1, 1), padding=(1, 1), bias=False)\n",
       "  (30): BatchNorm2d(128, eps=1e-05, momentum=0.1, affine=True, track_running_stats=True)\n",
       "  (31): Conv2d(128, 128, kernel_size=(3, 3), stride=(1, 1), padding=(1, 1), bias=False)\n",
       "  (32): BatchNorm2d(128, eps=1e-05, momentum=0.1, affine=True, track_running_stats=True)\n",
       "  (33): ReLU(inplace=True)\n",
       "  (34): Conv2d(128, 128, kernel_size=(3, 3), stride=(1, 1), padding=(1, 1), bias=False)\n",
       "  (35): BatchNorm2d(128, eps=1e-05, momentum=0.1, affine=True, track_running_stats=True)\n",
       "  (36): Conv2d(128, 128, kernel_size=(3, 3), stride=(1, 1), padding=(1, 1), bias=False)\n",
       "  (37): BatchNorm2d(128, eps=1e-05, momentum=0.1, affine=True, track_running_stats=True)\n",
       "  (38): ReLU(inplace=True)\n",
       "  (39): Conv2d(128, 128, kernel_size=(3, 3), stride=(1, 1), padding=(1, 1), bias=False)\n",
       "  (40): BatchNorm2d(128, eps=1e-05, momentum=0.1, affine=True, track_running_stats=True)\n",
       "), Sequential(\n",
       "  (0): Conv2d(128, 256, kernel_size=(3, 3), stride=(2, 2), padding=(1, 1), bias=False)\n",
       "  (1): BatchNorm2d(256, eps=1e-05, momentum=0.1, affine=True, track_running_stats=True)\n",
       "  (2): ReLU(inplace=True)\n",
       "  (3): Conv2d(256, 256, kernel_size=(3, 3), stride=(1, 1), padding=(1, 1), bias=False)\n",
       "  (4): BatchNorm2d(256, eps=1e-05, momentum=0.1, affine=True, track_running_stats=True)\n",
       "  (5): Conv2d(128, 256, kernel_size=(1, 1), stride=(2, 2), bias=False)\n",
       "  (6): BatchNorm2d(256, eps=1e-05, momentum=0.1, affine=True, track_running_stats=True)\n",
       "  (7): Conv2d(256, 256, kernel_size=(3, 3), stride=(1, 1), padding=(1, 1), bias=False)\n",
       "  (8): BatchNorm2d(256, eps=1e-05, momentum=0.1, affine=True, track_running_stats=True)\n",
       "  (9): ReLU(inplace=True)\n",
       "  (10): Conv2d(256, 256, kernel_size=(3, 3), stride=(1, 1), padding=(1, 1), bias=False)\n",
       "  (11): BatchNorm2d(256, eps=1e-05, momentum=0.1, affine=True, track_running_stats=True)\n",
       "  (12): Conv2d(256, 256, kernel_size=(3, 3), stride=(1, 1), padding=(1, 1), bias=False)\n",
       "  (13): BatchNorm2d(256, eps=1e-05, momentum=0.1, affine=True, track_running_stats=True)\n",
       "  (14): ReLU(inplace=True)\n",
       "  (15): Conv2d(256, 256, kernel_size=(3, 3), stride=(1, 1), padding=(1, 1), bias=False)\n",
       "  (16): BatchNorm2d(256, eps=1e-05, momentum=0.1, affine=True, track_running_stats=True)\n",
       "  (17): Conv2d(256, 256, kernel_size=(3, 3), stride=(1, 1), padding=(1, 1), bias=False)\n",
       "  (18): BatchNorm2d(256, eps=1e-05, momentum=0.1, affine=True, track_running_stats=True)\n",
       "  (19): ReLU(inplace=True)\n",
       "  (20): Conv2d(256, 256, kernel_size=(3, 3), stride=(1, 1), padding=(1, 1), bias=False)\n",
       "  (21): BatchNorm2d(256, eps=1e-05, momentum=0.1, affine=True, track_running_stats=True)\n",
       "  (22): Conv2d(256, 256, kernel_size=(3, 3), stride=(1, 1), padding=(1, 1), bias=False)\n",
       "  (23): BatchNorm2d(256, eps=1e-05, momentum=0.1, affine=True, track_running_stats=True)\n",
       "  (24): ReLU(inplace=True)\n",
       "  (25): Conv2d(256, 256, kernel_size=(3, 3), stride=(1, 1), padding=(1, 1), bias=False)\n",
       "  (26): BatchNorm2d(256, eps=1e-05, momentum=0.1, affine=True, track_running_stats=True)\n",
       "  (27): Conv2d(256, 256, kernel_size=(3, 3), stride=(1, 1), padding=(1, 1), bias=False)\n",
       "  (28): BatchNorm2d(256, eps=1e-05, momentum=0.1, affine=True, track_running_stats=True)\n",
       "  (29): ReLU(inplace=True)\n",
       "  (30): Conv2d(256, 256, kernel_size=(3, 3), stride=(1, 1), padding=(1, 1), bias=False)\n",
       "  (31): BatchNorm2d(256, eps=1e-05, momentum=0.1, affine=True, track_running_stats=True)\n",
       "  (32): Conv2d(256, 512, kernel_size=(3, 3), stride=(2, 2), padding=(1, 1), bias=False)\n",
       "  (33): BatchNorm2d(512, eps=1e-05, momentum=0.1, affine=True, track_running_stats=True)\n",
       "  (34): ReLU(inplace=True)\n",
       "  (35): Conv2d(512, 512, kernel_size=(3, 3), stride=(1, 1), padding=(1, 1), bias=False)\n",
       "  (36): BatchNorm2d(512, eps=1e-05, momentum=0.1, affine=True, track_running_stats=True)\n",
       "  (37): Conv2d(256, 512, kernel_size=(1, 1), stride=(2, 2), bias=False)\n",
       "  (38): BatchNorm2d(512, eps=1e-05, momentum=0.1, affine=True, track_running_stats=True)\n",
       "  (39): Conv2d(512, 512, kernel_size=(3, 3), stride=(1, 1), padding=(1, 1), bias=False)\n",
       "  (40): BatchNorm2d(512, eps=1e-05, momentum=0.1, affine=True, track_running_stats=True)\n",
       "  (41): ReLU(inplace=True)\n",
       "  (42): Conv2d(512, 512, kernel_size=(3, 3), stride=(1, 1), padding=(1, 1), bias=False)\n",
       "  (43): BatchNorm2d(512, eps=1e-05, momentum=0.1, affine=True, track_running_stats=True)\n",
       "  (44): Conv2d(512, 512, kernel_size=(3, 3), stride=(1, 1), padding=(1, 1), bias=False)\n",
       "  (45): BatchNorm2d(512, eps=1e-05, momentum=0.1, affine=True, track_running_stats=True)\n",
       "  (46): ReLU(inplace=True)\n",
       "  (47): Conv2d(512, 512, kernel_size=(3, 3), stride=(1, 1), padding=(1, 1), bias=False)\n",
       "  (48): BatchNorm2d(512, eps=1e-05, momentum=0.1, affine=True, track_running_stats=True)\n",
       "), Sequential(\n",
       "  (0): AdaptiveAvgPool2d(output_size=1)\n",
       "  (1): AdaptiveMaxPool2d(output_size=1)\n",
       "  (2): Flatten()\n",
       "  (3): BatchNorm1d(1024, eps=1e-05, momentum=0.1, affine=True, track_running_stats=True)\n",
       "  (4): Dropout(p=0.25, inplace=False)\n",
       "  (5): Linear(in_features=1024, out_features=512, bias=True)\n",
       "  (6): ReLU(inplace=True)\n",
       "  (7): BatchNorm1d(512, eps=1e-05, momentum=0.1, affine=True, track_running_stats=True)\n",
       "  (8): Dropout(p=0.5, inplace=False)\n",
       "  (9): Linear(in_features=512, out_features=18, bias=True)\n",
       ")], add_time=True, silent=False)"
      ]
     },
     "execution_count": 38,
     "metadata": {},
     "output_type": "execute_result"
    }
   ],
   "source": [
    "learner.load('stage-4')"
   ]
  },
  {
   "cell_type": "code",
   "execution_count": 19,
   "metadata": {},
   "outputs": [
    {
     "data": {
      "text/html": [
       "<table border=\"1\" class=\"dataframe\">\n",
       "  <thead>\n",
       "    <tr style=\"text-align: left;\">\n",
       "      <th>epoch</th>\n",
       "      <th>train_loss</th>\n",
       "      <th>valid_loss</th>\n",
       "      <th>f_beta</th>\n",
       "      <th>accuracy</th>\n",
       "      <th>error_rate</th>\n",
       "      <th>time</th>\n",
       "    </tr>\n",
       "  </thead>\n",
       "  <tbody>\n",
       "    <tr>\n",
       "      <td>0</td>\n",
       "      <td>0.718781</td>\n",
       "      <td>1.369666</td>\n",
       "      <td>0.642356</td>\n",
       "      <td>0.641939</td>\n",
       "      <td>0.358061</td>\n",
       "      <td>03:17</td>\n",
       "    </tr>\n",
       "    <tr>\n",
       "      <td>1</td>\n",
       "      <td>0.699610</td>\n",
       "      <td>1.367738</td>\n",
       "      <td>0.640644</td>\n",
       "      <td>0.639368</td>\n",
       "      <td>0.360632</td>\n",
       "      <td>03:18</td>\n",
       "    </tr>\n",
       "    <tr>\n",
       "      <td>2</td>\n",
       "      <td>0.699642</td>\n",
       "      <td>1.369148</td>\n",
       "      <td>0.641160</td>\n",
       "      <td>0.641205</td>\n",
       "      <td>0.358795</td>\n",
       "      <td>03:18</td>\n",
       "    </tr>\n",
       "  </tbody>\n",
       "</table>"
      ],
      "text/plain": [
       "<IPython.core.display.HTML object>"
      ]
     },
     "metadata": {},
     "output_type": "display_data"
    }
   ],
   "source": [
    "learner.unfreeze()\n",
    "learner.fit_one_cycle(3, slice(1e-6, 1e-7), moms=(0.8,0.7))"
   ]
  },
  {
   "cell_type": "code",
   "execution_count": 20,
   "metadata": {},
   "outputs": [],
   "source": [
    "learner.save('stage-last')"
   ]
  },
  {
   "cell_type": "code",
   "execution_count": 22,
   "metadata": {},
   "outputs": [],
   "source": [
    "learner.load('stage-last');"
   ]
  },
  {
   "cell_type": "code",
   "execution_count": 23,
   "metadata": {},
   "outputs": [
    {
     "data": {
      "text/html": [],
      "text/plain": [
       "<IPython.core.display.HTML object>"
      ]
     },
     "metadata": {},
     "output_type": "display_data"
    }
   ],
   "source": [
    "interp = ClassificationInterpretation.from_learner(learner)"
   ]
  },
  {
   "cell_type": "code",
   "execution_count": 24,
   "metadata": {
    "scrolled": true
   },
   "outputs": [
    {
     "data": {
      "text/plain": [
       "[('ducati_multistrada-1200_2010 - 12',\n",
       "  'ducati_multistrada-1200_2013 - 14',\n",
       "  12),\n",
       " ('harley-davidson_softail_2006 - 07',\n",
       "  'harley-davidson_softail_1999 - 03',\n",
       "  11),\n",
       " ('harley-davidson_sportster_2008 - 12',\n",
       "  'harley-davidson_sportster_2006 - 07',\n",
       "  11),\n",
       " ('harley-davidson_sportster_2001 - 05',\n",
       "  'harley-davidson_sportster_2006 - 07',\n",
       "  8),\n",
       " ('aprilia_rsv4_2009 - 12', 'aprilia_rsv4_2011 - 15', 7),\n",
       " ('harley-davidson_touring_2014 - 16', 'harley-davidson_touring_2017 - 18', 7),\n",
       " ('ducati_scrambler-800_2015 - 16', 'ducati_scrambler-800_2017 - 19', 6),\n",
       " ('harley-davidson_softail_1999 - 02', 'harley-davidson_softail_2006 - 07', 6),\n",
       " ('harley-davidson_touring_2017 - 18', 'harley-davidson_touring_2014 - 16', 6),\n",
       " ('moto-guzzi_v7_2012 - 14', 'moto-guzzi_v7_2015 - 17', 6),\n",
       " ('mv-agusta_turismo-veloce-800_2014 - 16',\n",
       "  'ducati_multistrada-1200_2013 - 14',\n",
       "  6),\n",
       " ('triumph_tiger-explorer_2011 - 16', 'triumph_tiger-800_2015 - 17', 6),\n",
       " ('bmw_k-100-rs', 'bmw_k-1100-rs', 5),\n",
       " ('ducati_multistrada-1200_2013 - 14', 'ducati_multistrada-1200_2010 - 12', 5),\n",
       " ('ducati_multistrada-1200_2015 - 17', 'ducati_multistrada-1200_2013 - 14', 5),\n",
       " ('ducati_multistrada-1200_2015 - 17', 'ducati_multistrada-1260_2018 - 19', 5),\n",
       " ('harley-davidson_sportster_1994 - 00',\n",
       "  'harley-davidson_sportster_2006 - 07',\n",
       "  5),\n",
       " ('harley-davidson_sportster_2014 - 16',\n",
       "  'harley-davidson_sportster_2006 - 07',\n",
       "  5),\n",
       " ('bmw_k-75-s', 'bmw_k-1100-rs', 4),\n",
       " ('ducati_hypermotard-1100-evo_2010 - 12',\n",
       "  'ducati_hypermotard-1100_2007 - 09',\n",
       "  4),\n",
       " ('ducati_monster-1200_2014 - 16', 'ducati_monster-1200_2017 - 19', 4),\n",
       " ('harley-davidson_dyna_2007', 'harley-davidson_softail_2006 - 07', 4),\n",
       " ('harley-davidson_softail_1989 - 95', 'harley-davidson_softail_2006 - 07', 4),\n",
       " ('harley-davidson_softail_1999 - 03', 'harley-davidson_softail_1989 - 95', 4),\n",
       " ('harley-davidson_sportster_2014 - 16',\n",
       "  'harley-davidson_sportster_2018 - 19',\n",
       "  4),\n",
       " ('harley-davidson_touring_2002 - 04', 'harley-davidson_touring_2007', 4),\n",
       " ('harley-davidson_touring_2007', 'harley-davidson_touring_2008 - 10', 4),\n",
       " ('harley-davidson_touring_2013 - 16', 'harley-davidson_touring_2014 - 16', 4),\n",
       " ('harley-davidson_touring_2017', 'harley-davidson_touring_2017 - 18', 4),\n",
       " ('moto-guzzi_v7_2015 - 17', 'moto-guzzi_v7_2012 - 14', 4),\n",
       " ('yamaha_t-max-530_2012 - 14', 'yamaha_t-max-530_2017 - 19', 4),\n",
       " ('aprilia_rsv4_2011 - 15', 'aprilia_rsv4_2009 - 12', 3),\n",
       " ('bmw_r-1100-rs', 'bmw_r-1100-gs', 3),\n",
       " ('bmw_r-1150-gs', 'bmw_r-1100-gs', 3),\n",
       " ('bmw_r-nine-t_2017 - 19', 'bmw_r-1200-r_2017 - 18', 3),\n",
       " ('ducati_hypermotard-821_2013 - 15', 'ducati_hypermotard-939_2016 - 18', 3),\n",
       " ('ducati_monster-1200_2017 - 19', 'ducati_monster-1200_2014 - 16', 3),\n",
       " ('ducati_multistrada-1260_2018 - 19', 'ducati_multistrada-1200_2013 - 14', 3),\n",
       " ('harley-davidson_dyna_1994 - 99', 'harley-davidson_softail_1989 - 95', 3),\n",
       " ('harley-davidson_softail_1999 - 02', 'harley-davidson_softail_1989 - 95', 3),\n",
       " ('harley-davidson_softail_1999 - 03', 'harley-davidson_softail_1999 - 02', 3),\n",
       " ('harley-davidson_softail_1999 - 03', 'harley-davidson_softail_2006 - 07', 3),\n",
       " ('harley-davidson_softail_2006 - 07', 'harley-davidson_softail_1999 - 02', 3),\n",
       " ('harley-davidson_sportster_2001 - 05',\n",
       "  'harley-davidson_sportster_2008 - 12',\n",
       "  3),\n",
       " ('harley-davidson_sportster_2006 - 07',\n",
       "  'harley-davidson_softail_2006 - 07',\n",
       "  3),\n",
       " ('harley-davidson_sportster_2006 - 07',\n",
       "  'harley-davidson_sportster_2008 - 12',\n",
       "  3),\n",
       " ('harley-davidson_sportster_2006 - 07',\n",
       "  'harley-davidson_sportster_2014 - 16',\n",
       "  3),\n",
       " ('harley-davidson_sportster_2018 - 19',\n",
       "  'harley-davidson_sportster_2006 - 07',\n",
       "  3),\n",
       " ('harley-davidson_touring_2002 - 04', 'harley-davidson_touring_1999 - 03', 3),\n",
       " ('harley-davidson_touring_2003 - 05', 'harley-davidson_touring_2008 - 10', 3),\n",
       " ('harley-davidson_touring_2007', 'harley-davidson_touring_1999 - 02', 3),\n",
       " ('harley-davidson_touring_2013 - 16', 'harley-davidson_touring_2007', 3),\n",
       " ('harley-davidson_touring_2014 - 16', 'harley-davidson_touring_2007', 3),\n",
       " ('harley-davidson_touring_2017 - 18', 'harley-davidson_touring_2002 - 04', 3),\n",
       " ('harley-davidson_touring_2017 - 18', 'harley-davidson_touring_2017', 3),\n",
       " ('harley-davidson_v-rod_2006 - 07', 'harley-davidson_softail_2006 - 07', 3),\n",
       " ('triumph_speed-triple-955_2002 - 04', 'moto-guzzi_v7_2012 - 14', 3),\n",
       " ('yamaha_xt1200z-super-tenere_2015 - 16',\n",
       "  'honda_africa-twin-crf-1000-l_2016 - 17',\n",
       "  3),\n",
       " ('bmw_k-100-rs', 'bmw_k-75-s', 2),\n",
       " ('bmw_k-100-rs', 'ducati_scrambler-800_2017 - 19', 2),\n",
       " ('bmw_k-100-rs', 'moto-guzzi_v7_2015 - 17', 2),\n",
       " ('bmw_r-1100-gs', 'bmw_r-1150-gs', 2),\n",
       " ('bmw_r-1100-gs', 'harley-davidson_sportster_2006 - 07', 2),\n",
       " ('bmw_r-1100-gs', 'moto-guzzi_stelvio-1200_2011 - 16', 2),\n",
       " ('bmw_r-1200-c', 'bmw_r-nine-t_2017 - 19', 2),\n",
       " ('bmw_r-1200-c', 'harley-davidson_sportster_2006 - 07', 2),\n",
       " ('bmw_r-1200-c', 'moto-guzzi_nevada-750_2002 - 06', 2),\n",
       " ('bmw_r-1200-r_2017 - 18', 'bmw_r-1100-s', 2),\n",
       " ('bmw_r-1200-r_2017 - 18', 'bmw_r-nine-t_2017 - 19', 2),\n",
       " ('bmw_r-1200-r_2017 - 18', 'ducati_monster-1200_2014 - 16', 2),\n",
       " ('bmw_r-nine-t_2017 - 19', 'bmw_r-1100-gs', 2),\n",
       " ('bmw_r-nine-t_2017 - 19', 'honda_nc750x_2014 - 15', 2),\n",
       " ('ducati_1199-panigale_2013 - 14', 'aprilia_rsv4_2011 - 15', 2),\n",
       " ('ducati_1199-panigale_2013 - 14',\n",
       "  'ducati_hypermotard-1100-evo_2010 - 12',\n",
       "  2),\n",
       " ('ducati_749_2003 - 07', 'ducati_1199-panigale_2013 - 14', 2),\n",
       " ('ducati_hypermotard-1100-evo_2010 - 12',\n",
       "  'ducati_hypermotard-939_2016 - 18',\n",
       "  2),\n",
       " ('ducati_hypermotard-1100_2007 - 09',\n",
       "  'ducati_hypermotard-1100-evo_2010 - 12',\n",
       "  2),\n",
       " ('ducati_hypermotard-939_2016 - 18', 'ducati_hypermotard-821_2013 - 15', 2),\n",
       " ('ducati_hypermotard-939_2016 - 18', 'yamaha_mt-09_2014 - 16', 2),\n",
       " ('ducati_monster-1200_2017 - 19', 'ducati_1199-panigale_2013 - 14', 2),\n",
       " ('ducati_multistrada-1200_2010 - 12', 'ducati_multistrada-1260_2018 - 19', 2),\n",
       " ('ducati_multistrada-1200_2010 - 12', 'kawasaki_z-750_2007 - 14', 2),\n",
       " ('ducati_multistrada-1200_2013 - 14', 'ducati_multistrada-1260_2018 - 19', 2),\n",
       " ('ducati_multistrada-1200_2013 - 14',\n",
       "  'triumph_speed-triple-1050_2011 - 15',\n",
       "  2),\n",
       " ('ducati_multistrada-1200_2015 - 17', 'ducati_multistrada-1200_2010 - 12', 2),\n",
       " ('ducati_multistrada-1260_2018 - 19', 'ducati_multistrada-1200_2015 - 17', 2),\n",
       " ('ducati_scrambler-800_2017 - 19', 'bmw_r-nine-t_2017 - 19', 2),\n",
       " ('ducati_st2_1997 - 02', 'vespa_gts-300_2014 - 16', 2),\n",
       " ('harley-davidson_softail_1999 - 02', 'harley-davidson_softail_1999 - 03', 2),\n",
       " ('harley-davidson_softail_1999 - 03', 'bmw_r-1200-c', 2),\n",
       " ('harley-davidson_softail_1999 - 03',\n",
       "  'harley-davidson_sportster_2006 - 07',\n",
       "  2),\n",
       " ('harley-davidson_softail_2006 - 07',\n",
       "  'harley-davidson_sportster_2008 - 12',\n",
       "  2),\n",
       " ('harley-davidson_softail_2006 - 07', 'harley-davidson_touring_2017', 2),\n",
       " ('harley-davidson_sportster_1994 - 00',\n",
       "  'harley-davidson_sportster_2001 - 05',\n",
       "  2),\n",
       " ('harley-davidson_sportster_2006 - 07',\n",
       "  'harley-davidson_sportster_2018 - 19',\n",
       "  2),\n",
       " ('harley-davidson_sportster_2006 - 07', 'harley-davidson_v-rod_2006 - 07', 2),\n",
       " ('harley-davidson_sportster_2006 - 07', 'moto-guzzi_nevada-750_2002 - 06', 2),\n",
       " ('harley-davidson_sportster_2008 - 12',\n",
       "  'harley-davidson_sportster_1994 - 00',\n",
       "  2),\n",
       " ('harley-davidson_sportster_2014 - 16',\n",
       "  'harley-davidson_softail_1999 - 02',\n",
       "  2),\n",
       " ('harley-davidson_sportster_2018 - 19',\n",
       "  'harley-davidson_sportster_2013 - 17',\n",
       "  2),\n",
       " ('harley-davidson_touring_1999 - 02', 'harley-davidson_touring_2003 - 05', 2),\n",
       " ('harley-davidson_touring_1999 - 03', 'harley-davidson_touring_2003 - 05', 2),\n",
       " ('harley-davidson_touring_1999 - 03', 'harley-davidson_touring_2017 - 18', 2),\n",
       " ('harley-davidson_touring_2002 - 04', 'harley-davidson_softail_2006 - 07', 2),\n",
       " ('harley-davidson_touring_2002 - 04', 'harley-davidson_touring_2017 - 18', 2),\n",
       " ('harley-davidson_touring_2003 - 05', 'harley-davidson_softail_2006 - 07', 2),\n",
       " ('harley-davidson_touring_2003 - 05', 'harley-davidson_touring_2013 - 16', 2),\n",
       " ('harley-davidson_touring_2003 - 05', 'harley-davidson_touring_2014 - 16', 2),\n",
       " ('harley-davidson_touring_2008 - 10', 'harley-davidson_touring_2017 - 18', 2),\n",
       " ('harley-davidson_touring_2013 - 16', 'harley-davidson_softail_1989 - 95', 2),\n",
       " ('harley-davidson_touring_2013 - 16', 'harley-davidson_touring_1999 - 02', 2),\n",
       " ('harley-davidson_touring_2014 - 16', 'harley-davidson_touring_2002 - 04', 2),\n",
       " ('harley-davidson_touring_2014 - 16', 'harley-davidson_touring_2013 - 16', 2),\n",
       " ('harley-davidson_touring_2017', 'harley-davidson_sportster_2006 - 07', 2),\n",
       " ('harley-davidson_touring_2017 - 18', 'harley-davidson_touring_1999 - 03', 2),\n",
       " ('harley-davidson_v-rod_2006 - 07', 'ducati_scrambler-800_2017 - 19', 2),\n",
       " ('harley-davidson_v-rod_2006 - 07', 'harley-davidson_sportster_2006 - 07', 2),\n",
       " ('harley-davidson_v-rod_2006 - 07', 'harley-davidson_sportster_2018 - 19', 2),\n",
       " ('honda_cbf-1000', 'suzuki_v-strom-650_2008 - 11', 2),\n",
       " ('honda_cbf-1000', 'yamaha_t-max-530_2012 - 14', 2),\n",
       " ('honda_nc750x_2014 - 15', 'bmw_r-1100-rs', 2),\n",
       " ('honda_nc750x_2018 - 19', 'honda_nc750x_2016 -17', 2),\n",
       " ('honda_nc750x_2018 - 19', 'moto-guzzi_stelvio-1200_2011 - 16', 2),\n",
       " ('honda_transalp-xl-700-v_2007 - 2013',\n",
       "  'moto-guzzi_stelvio-1200_2011 - 16',\n",
       "  2),\n",
       " ('kawasaki_ninja-1000-zx-10r_2011 - 15', 'aprilia_rsv4_2011 - 15', 2),\n",
       " ('kawasaki_versys-650_2010 - 14', 'honda_nc750x_2014 - 15', 2),\n",
       " ('ktm_1190-adventure_2013 - 16', 'ducati_scrambler-800_2017 - 19', 2),\n",
       " ('kymco_people-300_2010 - 17', 'kymco_xciting-400i_2012 - 17', 2),\n",
       " ('moto-guzzi_stelvio-1200_2011 - 16', 'triumph_tiger-explorer_2011 - 16', 2),\n",
       " ('mv-agusta_f4-750_2000 - 02', 'honda_africa-twin-crf-1000-l_2016 - 17', 2),\n",
       " ('mv-agusta_turismo-veloce-800_2014 - 16',\n",
       "  'ducati_monster-1200_2014 - 16',\n",
       "  2),\n",
       " ('piaggio_mp3_2010 - 11', 'piaggio_mp3_2014 - 16', 2),\n",
       " ('piaggio_mp3_2014 - 16', 'piaggio_mp3_2010 - 11', 2),\n",
       " ('triumph_speed-triple-1050_2011 - 15', 'triumph_street-triple_2013 - 17', 2),\n",
       " ('triumph_speed-triple-955_2002 - 04', 'ducati_monster-1000_2003 - 05', 2),\n",
       " ('triumph_speed-triple-955_2002 - 04', 'kawasaki_z-750_2007 - 14', 2),\n",
       " ('triumph_tiger-1050_2006 - 12', 'honda_transalp-xl-700-v_2007 - 2013', 2),\n",
       " ('triumph_tiger-800_2015 - 17', 'triumph_tiger-800_2010 - 14', 2),\n",
       " ('triumph_tiger-800_2015 - 17', 'yamaha_xt1200z-super-tenere_2015 - 16', 2),\n",
       " ('triumph_tiger-800_2018 - 19', 'triumph_tiger-800_2010 - 14', 2),\n",
       " ('triumph_tiger-800_2018 - 19', 'triumph_tiger-800_2015 - 17', 2),\n",
       " ('triumph_tiger-explorer_2011 - 16', 'triumph_tiger-800_2010 - 14', 2),\n",
       " ('triumph_tiger-explorer_2016 - 17', 'triumph_tiger-800_2015 - 17', 2),\n",
       " ('yamaha_xt1200z-super-tenere_2015 - 16',\n",
       "  'ducati_multistrada-1200_2013 - 14',\n",
       "  2)]"
      ]
     },
     "execution_count": 24,
     "metadata": {},
     "output_type": "execute_result"
    }
   ],
   "source": [
    "interp.most_confused(min_val=2)"
   ]
  },
  {
   "cell_type": "code",
   "execution_count": 45,
   "metadata": {},
   "outputs": [],
   "source": [
    "image_out_of_training_dataset = '../../data/motoTest/ducati/multistrada-1200/2017 - 18/24097.jpg'\n",
    "new_image = open_image(image_out_of_training_dataset)"
   ]
  },
  {
   "cell_type": "code",
   "execution_count": 46,
   "metadata": {},
   "outputs": [
    {
     "data": {
      "text/plain": [
       "Category ducati_multistrada-1200_2015 - 17"
      ]
     },
     "execution_count": 46,
     "metadata": {},
     "output_type": "execute_result"
    }
   ],
   "source": [
    "pred_class,pred_idx,outputs = learner.predict(new_image)\n",
    "pred_class"
   ]
  },
  {
   "cell_type": "markdown",
   "metadata": {},
   "source": [
    "The results are not the best, but given the dataset (which contains a lot of troublesome imgaes, like images of only the exaust of a motorcycle or only the clock-pit) it is great to see such a level of accuracy in the predictions!"
   ]
  },
  {
   "cell_type": "markdown",
   "metadata": {},
   "source": [
    "Let's try to clean the data a little bit!"
   ]
  },
  {
   "cell_type": "code",
   "execution_count": 27,
   "metadata": {},
   "outputs": [
    {
     "data": {
      "text/html": [],
      "text/plain": [
       "<IPython.core.display.HTML object>"
      ]
     },
     "metadata": {},
     "output_type": "display_data"
    }
   ],
   "source": [
    "ds, idxs = DatasetFormatter().from_toplosses(learner)"
   ]
  },
  {
   "cell_type": "code",
   "execution_count": 28,
   "metadata": {},
   "outputs": [
    {
     "data": {
      "application/vnd.jupyter.widget-view+json": {
       "model_id": "55e9a54ed536430494e5585d26ac99c3",
       "version_major": 2,
       "version_minor": 0
      },
      "text/plain": [
       "HBox(children=(VBox(children=(Image(value=b'\\xff\\xd8\\xff\\xe0\\x00\\x10JFIF\\x00\\x01\\x01\\x01\\x00d\\x00d\\x00\\x00\\xff…"
      ]
     },
     "metadata": {},
     "output_type": "display_data"
    },
    {
     "data": {
      "application/vnd.jupyter.widget-view+json": {
       "model_id": "3c10d1e51e6e43509cd56e6a90706927",
       "version_major": 2,
       "version_minor": 0
      },
      "text/plain": [
       "Button(button_style='primary', description='Next Batch', layout=Layout(width='auto'), style=ButtonStyle())"
      ]
     },
     "metadata": {},
     "output_type": "display_data"
    }
   ],
   "source": [
    "ImageCleaner(ds, idxs, path_to_data)"
   ]
  },
  {
   "cell_type": "code",
   "execution_count": 16,
   "metadata": {
    "scrolled": true
   },
   "outputs": [],
   "source": [
    "df = pd.read_csv(str(path_to_data)+'/cleaned.csv')\n",
    "data1 = ImageDataBunch.from_df(path_to_data, df, ds_tfms=transformations, size=224, bs=batch_size ).normalize(imagenet_stats)"
   ]
  },
  {
   "cell_type": "code",
   "execution_count": 17,
   "metadata": {},
   "outputs": [],
   "source": [
    "fscore = FBeta(average='macro', beta=1)\n",
    "leaner_metrics = [fscore,accuracy, error_rate]\n",
    "learner = cnn_learner(data1, models.resnet50, metrics=leaner_metrics)"
   ]
  },
  {
   "cell_type": "code",
   "execution_count": 18,
   "metadata": {},
   "outputs": [
    {
     "data": {
      "text/html": [
       "<table border=\"1\" class=\"dataframe\">\n",
       "  <thead>\n",
       "    <tr style=\"text-align: left;\">\n",
       "      <th>epoch</th>\n",
       "      <th>train_loss</th>\n",
       "      <th>valid_loss</th>\n",
       "      <th>f_beta</th>\n",
       "      <th>accuracy</th>\n",
       "      <th>error_rate</th>\n",
       "      <th>time</th>\n",
       "    </tr>\n",
       "  </thead>\n",
       "  <tbody>\n",
       "    <tr>\n",
       "      <td>0</td>\n",
       "      <td>4.513100</td>\n",
       "      <td>3.178076</td>\n",
       "      <td>0.242233</td>\n",
       "      <td>0.266174</td>\n",
       "      <td>0.733826</td>\n",
       "      <td>02:07</td>\n",
       "    </tr>\n",
       "    <tr>\n",
       "      <td>1</td>\n",
       "      <td>3.271345</td>\n",
       "      <td>2.515936</td>\n",
       "      <td>0.345304</td>\n",
       "      <td>0.365989</td>\n",
       "      <td>0.634011</td>\n",
       "      <td>02:02</td>\n",
       "    </tr>\n",
       "    <tr>\n",
       "      <td>2</td>\n",
       "      <td>2.453360</td>\n",
       "      <td>2.214906</td>\n",
       "      <td>0.424899</td>\n",
       "      <td>0.440850</td>\n",
       "      <td>0.559150</td>\n",
       "      <td>02:03</td>\n",
       "    </tr>\n",
       "    <tr>\n",
       "      <td>3</td>\n",
       "      <td>1.954410</td>\n",
       "      <td>2.126863</td>\n",
       "      <td>0.447942</td>\n",
       "      <td>0.463494</td>\n",
       "      <td>0.536506</td>\n",
       "      <td>02:02</td>\n",
       "    </tr>\n",
       "  </tbody>\n",
       "</table>"
      ],
      "text/plain": [
       "<IPython.core.display.HTML object>"
      ]
     },
     "metadata": {},
     "output_type": "display_data"
    }
   ],
   "source": [
    "learner.fit_one_cycle(4)"
   ]
  },
  {
   "cell_type": "code",
   "execution_count": 43,
   "metadata": {},
   "outputs": [
    {
     "data": {
      "text/html": [
       "\n",
       "    <div>\n",
       "        <style>\n",
       "            /* Turns off some styling */\n",
       "            progress {\n",
       "                /* gets rid of default border in Firefox and Opera. */\n",
       "                border: none;\n",
       "                /* Needs to be in here for Safari polyfill so background images work as expected. */\n",
       "                background-size: auto;\n",
       "            }\n",
       "            .progress-bar-interrupted, .progress-bar-interrupted::-webkit-progress-bar {\n",
       "                background: #F44336;\n",
       "            }\n",
       "        </style>\n",
       "      <progress value='0' class='' max='1' style='width:300px; height:20px; vertical-align: middle;'></progress>\n",
       "      0.00% [0/1 00:00<00:00]\n",
       "    </div>\n",
       "    \n",
       "<table border=\"1\" class=\"dataframe\">\n",
       "  <thead>\n",
       "    <tr style=\"text-align: left;\">\n",
       "      <th>epoch</th>\n",
       "      <th>train_loss</th>\n",
       "      <th>valid_loss</th>\n",
       "      <th>f_beta</th>\n",
       "      <th>accuracy</th>\n",
       "      <th>error_rate</th>\n",
       "      <th>time</th>\n",
       "    </tr>\n",
       "  </thead>\n",
       "  <tbody>\n",
       "  </tbody>\n",
       "</table><p>\n",
       "\n",
       "    <div>\n",
       "        <style>\n",
       "            /* Turns off some styling */\n",
       "            progress {\n",
       "                /* gets rid of default border in Firefox and Opera. */\n",
       "                border: none;\n",
       "                /* Needs to be in here for Safari polyfill so background images work as expected. */\n",
       "                background-size: auto;\n",
       "            }\n",
       "            .progress-bar-interrupted, .progress-bar-interrupted::-webkit-progress-bar {\n",
       "                background: #F44336;\n",
       "            }\n",
       "        </style>\n",
       "      <progress value='54' class='' max='135' style='width:300px; height:20px; vertical-align: middle;'></progress>\n",
       "      40.00% [54/135 00:58<01:28 0.7790]\n",
       "    </div>\n",
       "    "
      ],
      "text/plain": [
       "<IPython.core.display.HTML object>"
      ]
     },
     "metadata": {},
     "output_type": "display_data"
    },
    {
     "name": "stdout",
     "output_type": "stream",
     "text": [
      "LR Finder is complete, type {learner_name}.recorder.plot() to see the graph.\n"
     ]
    }
   ],
   "source": [
    "learner.lr_find()"
   ]
  },
  {
   "cell_type": "code",
   "execution_count": 44,
   "metadata": {},
   "outputs": [
    {
     "data": {
      "image/png": "[encoded data removed]",
      "text/plain": [
       "<Figure size 432x288 with 1 Axes>"
      ]
     },
     "metadata": {
      "needs_background": "light"
     },
     "output_type": "display_data"
    }
   ],
   "source": [
    "learner.recorder.plot()"
   ]
  },
  {
   "cell_type": "code",
   "execution_count": 22,
   "metadata": {},
   "outputs": [
    {
     "data": {
      "text/html": [
       "<table border=\"1\" class=\"dataframe\">\n",
       "  <thead>\n",
       "    <tr style=\"text-align: left;\">\n",
       "      <th>epoch</th>\n",
       "      <th>train_loss</th>\n",
       "      <th>valid_loss</th>\n",
       "      <th>f_beta</th>\n",
       "      <th>accuracy</th>\n",
       "      <th>error_rate</th>\n",
       "      <th>time</th>\n",
       "    </tr>\n",
       "  </thead>\n",
       "  <tbody>\n",
       "    <tr>\n",
       "      <td>0</td>\n",
       "      <td>1.796147</td>\n",
       "      <td>2.117855</td>\n",
       "      <td>0.447397</td>\n",
       "      <td>0.463494</td>\n",
       "      <td>0.536506</td>\n",
       "      <td>02:21</td>\n",
       "    </tr>\n",
       "    <tr>\n",
       "      <td>1</td>\n",
       "      <td>1.778857</td>\n",
       "      <td>2.110085</td>\n",
       "      <td>0.450719</td>\n",
       "      <td>0.466266</td>\n",
       "      <td>0.533734</td>\n",
       "      <td>02:20</td>\n",
       "    </tr>\n",
       "    <tr>\n",
       "      <td>2</td>\n",
       "      <td>1.793911</td>\n",
       "      <td>2.108504</td>\n",
       "      <td>0.448082</td>\n",
       "      <td>0.464880</td>\n",
       "      <td>0.535120</td>\n",
       "      <td>02:21</td>\n",
       "    </tr>\n",
       "    <tr>\n",
       "      <td>3</td>\n",
       "      <td>1.781602</td>\n",
       "      <td>2.110972</td>\n",
       "      <td>0.449758</td>\n",
       "      <td>0.465804</td>\n",
       "      <td>0.534196</td>\n",
       "      <td>02:20</td>\n",
       "    </tr>\n",
       "  </tbody>\n",
       "</table>"
      ],
      "text/plain": [
       "<IPython.core.display.HTML object>"
      ]
     },
     "metadata": {},
     "output_type": "display_data"
    }
   ],
   "source": [
    "learner.freeze_to(-2)\n",
    "learner.fit_one_cycle(4, slice(1e-6, 1e-7), moms=(0.8,0.7))"
   ]
  },
  {
   "cell_type": "code",
   "execution_count": 25,
   "metadata": {},
   "outputs": [],
   "source": [
    "learner.save('stage-1')"
   ]
  },
  {
   "cell_type": "code",
   "execution_count": 28,
   "metadata": {},
   "outputs": [],
   "source": [
    "learner.load('stage-1');"
   ]
  },
  {
   "cell_type": "code",
   "execution_count": 29,
   "metadata": {},
   "outputs": [
    {
     "data": {
      "text/html": [
       "<table border=\"1\" class=\"dataframe\">\n",
       "  <thead>\n",
       "    <tr style=\"text-align: left;\">\n",
       "      <th>epoch</th>\n",
       "      <th>train_loss</th>\n",
       "      <th>valid_loss</th>\n",
       "      <th>f_beta</th>\n",
       "      <th>accuracy</th>\n",
       "      <th>error_rate</th>\n",
       "      <th>time</th>\n",
       "    </tr>\n",
       "  </thead>\n",
       "  <tbody>\n",
       "    <tr>\n",
       "      <td>0</td>\n",
       "      <td>1.828945</td>\n",
       "      <td>2.016749</td>\n",
       "      <td>0.462908</td>\n",
       "      <td>0.482902</td>\n",
       "      <td>0.517098</td>\n",
       "      <td>02:38</td>\n",
       "    </tr>\n",
       "    <tr>\n",
       "      <td>1</td>\n",
       "      <td>1.694969</td>\n",
       "      <td>1.710095</td>\n",
       "      <td>0.539491</td>\n",
       "      <td>0.553142</td>\n",
       "      <td>0.446858</td>\n",
       "      <td>02:39</td>\n",
       "    </tr>\n",
       "    <tr>\n",
       "      <td>2</td>\n",
       "      <td>1.118452</td>\n",
       "      <td>1.508344</td>\n",
       "      <td>0.594945</td>\n",
       "      <td>0.607671</td>\n",
       "      <td>0.392329</td>\n",
       "      <td>02:38</td>\n",
       "    </tr>\n",
       "    <tr>\n",
       "      <td>3</td>\n",
       "      <td>0.746999</td>\n",
       "      <td>1.465252</td>\n",
       "      <td>0.610374</td>\n",
       "      <td>0.622921</td>\n",
       "      <td>0.377079</td>\n",
       "      <td>02:38</td>\n",
       "    </tr>\n",
       "  </tbody>\n",
       "</table>"
      ],
      "text/plain": [
       "<IPython.core.display.HTML object>"
      ]
     },
     "metadata": {},
     "output_type": "display_data"
    }
   ],
   "source": [
    "learner.freeze_to(-3)\n",
    "learner.fit_one_cycle(4, slice(1e-5, 1e-3), moms=(0.8,0.7))"
   ]
  },
  {
   "cell_type": "code",
   "execution_count": 35,
   "metadata": {},
   "outputs": [],
   "source": [
    "learner.save('stage-2')"
   ]
  },
  {
   "cell_type": "code",
   "execution_count": 42,
   "metadata": {},
   "outputs": [],
   "source": [
    "learner.load('stage-2');"
   ]
  },
  {
   "cell_type": "code",
   "execution_count": 45,
   "metadata": {},
   "outputs": [
    {
     "data": {
      "text/html": [
       "<table border=\"1\" class=\"dataframe\">\n",
       "  <thead>\n",
       "    <tr style=\"text-align: left;\">\n",
       "      <th>epoch</th>\n",
       "      <th>train_loss</th>\n",
       "      <th>valid_loss</th>\n",
       "      <th>f_beta</th>\n",
       "      <th>accuracy</th>\n",
       "      <th>error_rate</th>\n",
       "      <th>time</th>\n",
       "    </tr>\n",
       "  </thead>\n",
       "  <tbody>\n",
       "    <tr>\n",
       "      <td>0</td>\n",
       "      <td>0.276869</td>\n",
       "      <td>1.336562</td>\n",
       "      <td>0.638870</td>\n",
       "      <td>0.650647</td>\n",
       "      <td>0.349353</td>\n",
       "      <td>02:38</td>\n",
       "    </tr>\n",
       "    <tr>\n",
       "      <td>1</td>\n",
       "      <td>0.271788</td>\n",
       "      <td>1.335163</td>\n",
       "      <td>0.644389</td>\n",
       "      <td>0.656192</td>\n",
       "      <td>0.343808</td>\n",
       "      <td>02:38</td>\n",
       "    </tr>\n",
       "    <tr>\n",
       "      <td>2</td>\n",
       "      <td>0.279125</td>\n",
       "      <td>1.329158</td>\n",
       "      <td>0.656376</td>\n",
       "      <td>0.666359</td>\n",
       "      <td>0.333641</td>\n",
       "      <td>02:38</td>\n",
       "    </tr>\n",
       "    <tr>\n",
       "      <td>3</td>\n",
       "      <td>0.245991</td>\n",
       "      <td>1.321776</td>\n",
       "      <td>0.650572</td>\n",
       "      <td>0.661738</td>\n",
       "      <td>0.338262</td>\n",
       "      <td>02:39</td>\n",
       "    </tr>\n",
       "    <tr>\n",
       "      <td>4</td>\n",
       "      <td>0.240108</td>\n",
       "      <td>1.315028</td>\n",
       "      <td>0.653563</td>\n",
       "      <td>0.664048</td>\n",
       "      <td>0.335952</td>\n",
       "      <td>02:38</td>\n",
       "    </tr>\n",
       "    <tr>\n",
       "      <td>5</td>\n",
       "      <td>0.219870</td>\n",
       "      <td>1.299119</td>\n",
       "      <td>0.657771</td>\n",
       "      <td>0.668669</td>\n",
       "      <td>0.331331</td>\n",
       "      <td>02:38</td>\n",
       "    </tr>\n",
       "    <tr>\n",
       "      <td>6</td>\n",
       "      <td>0.197806</td>\n",
       "      <td>1.288392</td>\n",
       "      <td>0.663005</td>\n",
       "      <td>0.671442</td>\n",
       "      <td>0.328558</td>\n",
       "      <td>02:38</td>\n",
       "    </tr>\n",
       "    <tr>\n",
       "      <td>7</td>\n",
       "      <td>0.179015</td>\n",
       "      <td>1.275499</td>\n",
       "      <td>0.669760</td>\n",
       "      <td>0.676063</td>\n",
       "      <td>0.323937</td>\n",
       "      <td>02:38</td>\n",
       "    </tr>\n",
       "    <tr>\n",
       "      <td>8</td>\n",
       "      <td>0.176153</td>\n",
       "      <td>1.276020</td>\n",
       "      <td>0.667159</td>\n",
       "      <td>0.673752</td>\n",
       "      <td>0.326248</td>\n",
       "      <td>02:38</td>\n",
       "    </tr>\n",
       "    <tr>\n",
       "      <td>9</td>\n",
       "      <td>0.170914</td>\n",
       "      <td>1.272855</td>\n",
       "      <td>0.667098</td>\n",
       "      <td>0.673290</td>\n",
       "      <td>0.326710</td>\n",
       "      <td>02:38</td>\n",
       "    </tr>\n",
       "  </tbody>\n",
       "</table>"
      ],
      "text/plain": [
       "<IPython.core.display.HTML object>"
      ]
     },
     "metadata": {},
     "output_type": "display_data"
    }
   ],
   "source": [
    "learner.unfreeze()\n",
    "learner.fit_one_cycle(10, slice(1e-4, 1e-6), moms=(0.8,0.7))"
   ]
  },
  {
   "cell_type": "code",
   "execution_count": 46,
   "metadata": {},
   "outputs": [],
   "source": [
    "learner.save('stage-last-1')"
   ]
  },
  {
   "cell_type": "code",
   "execution_count": null,
   "metadata": {},
   "outputs": [],
   "source": []
  }
 ],
 "metadata": {
  "kernelspec": {
   "display_name": "Python 3",
   "language": "python",
   "name": "python3"
  },
  "language_info": {
   "codemirror_mode": {
    "name": "ipython",
    "version": 3
   },
   "file_extension": ".py",
   "mimetype": "text/x-python",
   "name": "python",
   "nbconvert_exporter": "python",
   "pygments_lexer": "ipython3",
   "version": "3.6.9"
  }
 },
 "nbformat": 4,
 "nbformat_minor": 4
}
