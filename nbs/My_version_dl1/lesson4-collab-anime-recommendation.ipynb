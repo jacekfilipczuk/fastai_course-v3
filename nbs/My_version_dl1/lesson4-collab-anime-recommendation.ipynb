{
 "cells": [
  {
   "cell_type": "code",
   "execution_count": 1,
   "metadata": {
    "ExecuteTime": {
     "end_time": "2020-05-05T14:10:28.491202Z",
     "start_time": "2020-05-05T14:10:27.343000Z"
    }
   },
   "outputs": [],
   "source": [
    "from fastai.collab import *\n",
    "from fastai.tabular import *"
   ]
  },
  {
   "cell_type": "markdown",
   "metadata": {},
   "source": [
    "## Anime Recommendation"
   ]
  },
  {
   "cell_type": "code",
   "execution_count": 2,
   "metadata": {
    "ExecuteTime": {
     "end_time": "2020-05-05T14:37:02.470000Z",
     "start_time": "2020-05-05T14:37:02.462299Z"
    }
   },
   "outputs": [],
   "source": [
    "path= Path('../../data/anime_recommendation')"
   ]
  },
  {
   "cell_type": "code",
   "execution_count": 3,
   "metadata": {
    "ExecuteTime": {
     "end_time": "2020-05-05T14:37:27.733132Z",
     "start_time": "2020-05-05T14:37:26.724201Z"
    }
   },
   "outputs": [
    {
     "data": {
      "text/html": [
       "<div>\n",
       "<style scoped>\n",
       "    .dataframe tbody tr th:only-of-type {\n",
       "        vertical-align: middle;\n",
       "    }\n",
       "\n",
       "    .dataframe tbody tr th {\n",
       "        vertical-align: top;\n",
       "    }\n",
       "\n",
       "    .dataframe thead th {\n",
       "        text-align: right;\n",
       "    }\n",
       "</style>\n",
       "<table border=\"1\" class=\"dataframe\">\n",
       "  <thead>\n",
       "    <tr style=\"text-align: right;\">\n",
       "      <th></th>\n",
       "      <th>user_id</th>\n",
       "      <th>anime_id</th>\n",
       "      <th>rating</th>\n",
       "    </tr>\n",
       "  </thead>\n",
       "  <tbody>\n",
       "    <tr>\n",
       "      <th>0</th>\n",
       "      <td>1</td>\n",
       "      <td>20</td>\n",
       "      <td>-1</td>\n",
       "    </tr>\n",
       "    <tr>\n",
       "      <th>1</th>\n",
       "      <td>1</td>\n",
       "      <td>24</td>\n",
       "      <td>-1</td>\n",
       "    </tr>\n",
       "    <tr>\n",
       "      <th>2</th>\n",
       "      <td>1</td>\n",
       "      <td>79</td>\n",
       "      <td>-1</td>\n",
       "    </tr>\n",
       "    <tr>\n",
       "      <th>3</th>\n",
       "      <td>1</td>\n",
       "      <td>226</td>\n",
       "      <td>-1</td>\n",
       "    </tr>\n",
       "    <tr>\n",
       "      <th>4</th>\n",
       "      <td>1</td>\n",
       "      <td>241</td>\n",
       "      <td>-1</td>\n",
       "    </tr>\n",
       "  </tbody>\n",
       "</table>\n",
       "</div>"
      ],
      "text/plain": [
       "   user_id  anime_id  rating\n",
       "0        1        20      -1\n",
       "1        1        24      -1\n",
       "2        1        79      -1\n",
       "3        1       226      -1\n",
       "4        1       241      -1"
      ]
     },
     "execution_count": 3,
     "metadata": {},
     "output_type": "execute_result"
    }
   ],
   "source": [
    "ratings = pd.read_csv(path/'rating.csv')\n",
    "ratings.head()"
   ]
  },
  {
   "cell_type": "code",
   "execution_count": 32,
   "metadata": {
    "ExecuteTime": {
     "end_time": "2020-05-05T16:26:29.417723Z",
     "start_time": "2020-05-05T16:26:29.248370Z"
    }
   },
   "outputs": [
    {
     "data": {
      "text/plain": [
       "count    7.813737e+06\n",
       "mean     6.144030e+00\n",
       "std      3.727800e+00\n",
       "min     -1.000000e+00\n",
       "25%      6.000000e+00\n",
       "50%      7.000000e+00\n",
       "75%      9.000000e+00\n",
       "max      1.000000e+01\n",
       "Name: rating, dtype: float64"
      ]
     },
     "execution_count": 32,
     "metadata": {},
     "output_type": "execute_result"
    }
   ],
   "source": [
    "ratings.rating.describe()"
   ]
  },
  {
   "cell_type": "code",
   "execution_count": 4,
   "metadata": {
    "ExecuteTime": {
     "end_time": "2020-05-05T14:54:56.317324Z",
     "start_time": "2020-05-05T14:54:56.283480Z"
    }
   },
   "outputs": [
    {
     "data": {
      "text/html": [
       "<div>\n",
       "<style scoped>\n",
       "    .dataframe tbody tr th:only-of-type {\n",
       "        vertical-align: middle;\n",
       "    }\n",
       "\n",
       "    .dataframe tbody tr th {\n",
       "        vertical-align: top;\n",
       "    }\n",
       "\n",
       "    .dataframe thead th {\n",
       "        text-align: right;\n",
       "    }\n",
       "</style>\n",
       "<table border=\"1\" class=\"dataframe\">\n",
       "  <thead>\n",
       "    <tr style=\"text-align: right;\">\n",
       "      <th></th>\n",
       "      <th>anime_id</th>\n",
       "      <th>name</th>\n",
       "      <th>genre</th>\n",
       "      <th>type</th>\n",
       "      <th>episodes</th>\n",
       "      <th>rating</th>\n",
       "      <th>members</th>\n",
       "    </tr>\n",
       "  </thead>\n",
       "  <tbody>\n",
       "    <tr>\n",
       "      <th>0</th>\n",
       "      <td>32281</td>\n",
       "      <td>Kimi no Na wa.</td>\n",
       "      <td>Drama, Romance, School, Supernatural</td>\n",
       "      <td>Movie</td>\n",
       "      <td>1</td>\n",
       "      <td>9.37</td>\n",
       "      <td>200630</td>\n",
       "    </tr>\n",
       "    <tr>\n",
       "      <th>1</th>\n",
       "      <td>5114</td>\n",
       "      <td>Fullmetal Alchemist: Brotherhood</td>\n",
       "      <td>Action, Adventure, Drama, Fantasy, Magic, Mili...</td>\n",
       "      <td>TV</td>\n",
       "      <td>64</td>\n",
       "      <td>9.26</td>\n",
       "      <td>793665</td>\n",
       "    </tr>\n",
       "    <tr>\n",
       "      <th>2</th>\n",
       "      <td>28977</td>\n",
       "      <td>Gintama°</td>\n",
       "      <td>Action, Comedy, Historical, Parody, Samurai, S...</td>\n",
       "      <td>TV</td>\n",
       "      <td>51</td>\n",
       "      <td>9.25</td>\n",
       "      <td>114262</td>\n",
       "    </tr>\n",
       "    <tr>\n",
       "      <th>3</th>\n",
       "      <td>9253</td>\n",
       "      <td>Steins;Gate</td>\n",
       "      <td>Sci-Fi, Thriller</td>\n",
       "      <td>TV</td>\n",
       "      <td>24</td>\n",
       "      <td>9.17</td>\n",
       "      <td>673572</td>\n",
       "    </tr>\n",
       "    <tr>\n",
       "      <th>4</th>\n",
       "      <td>9969</td>\n",
       "      <td>Gintama&amp;#039;</td>\n",
       "      <td>Action, Comedy, Historical, Parody, Samurai, S...</td>\n",
       "      <td>TV</td>\n",
       "      <td>51</td>\n",
       "      <td>9.16</td>\n",
       "      <td>151266</td>\n",
       "    </tr>\n",
       "  </tbody>\n",
       "</table>\n",
       "</div>"
      ],
      "text/plain": [
       "   anime_id                              name  \\\n",
       "0     32281                    Kimi no Na wa.   \n",
       "1      5114  Fullmetal Alchemist: Brotherhood   \n",
       "2     28977                          Gintama°   \n",
       "3      9253                       Steins;Gate   \n",
       "4      9969                     Gintama&#039;   \n",
       "\n",
       "                                               genre   type episodes  rating  \\\n",
       "0               Drama, Romance, School, Supernatural  Movie        1    9.37   \n",
       "1  Action, Adventure, Drama, Fantasy, Magic, Mili...     TV       64    9.26   \n",
       "2  Action, Comedy, Historical, Parody, Samurai, S...     TV       51    9.25   \n",
       "3                                   Sci-Fi, Thriller     TV       24    9.17   \n",
       "4  Action, Comedy, Historical, Parody, Samurai, S...     TV       51    9.16   \n",
       "\n",
       "   members  \n",
       "0   200630  \n",
       "1   793665  \n",
       "2   114262  \n",
       "3   673572  \n",
       "4   151266  "
      ]
     },
     "execution_count": 4,
     "metadata": {},
     "output_type": "execute_result"
    }
   ],
   "source": [
    "anime_list = pd.read_csv(path/'anime.csv')\n",
    "anime_list.head()"
   ]
  },
  {
   "cell_type": "code",
   "execution_count": 5,
   "metadata": {
    "ExecuteTime": {
     "end_time": "2020-05-05T15:25:56.191150Z",
     "start_time": "2020-05-05T15:25:56.182708Z"
    }
   },
   "outputs": [
    {
     "data": {
      "text/plain": [
       "7813737"
      ]
     },
     "execution_count": 5,
     "metadata": {},
     "output_type": "execute_result"
    }
   ],
   "source": [
    "len(ratings)"
   ]
  },
  {
   "cell_type": "code",
   "execution_count": 6,
   "metadata": {
    "ExecuteTime": {
     "end_time": "2020-05-05T15:26:41.064174Z",
     "start_time": "2020-05-05T15:26:40.238011Z"
    }
   },
   "outputs": [
    {
     "data": {
      "text/html": [
       "<div>\n",
       "<style scoped>\n",
       "    .dataframe tbody tr th:only-of-type {\n",
       "        vertical-align: middle;\n",
       "    }\n",
       "\n",
       "    .dataframe tbody tr th {\n",
       "        vertical-align: top;\n",
       "    }\n",
       "\n",
       "    .dataframe thead th {\n",
       "        text-align: right;\n",
       "    }\n",
       "</style>\n",
       "<table border=\"1\" class=\"dataframe\">\n",
       "  <thead>\n",
       "    <tr style=\"text-align: right;\">\n",
       "      <th></th>\n",
       "      <th>user_id</th>\n",
       "      <th>anime_id</th>\n",
       "      <th>rating</th>\n",
       "      <th>name</th>\n",
       "    </tr>\n",
       "  </thead>\n",
       "  <tbody>\n",
       "    <tr>\n",
       "      <th>0</th>\n",
       "      <td>1</td>\n",
       "      <td>20</td>\n",
       "      <td>-1</td>\n",
       "      <td>Naruto</td>\n",
       "    </tr>\n",
       "    <tr>\n",
       "      <th>1</th>\n",
       "      <td>3</td>\n",
       "      <td>20</td>\n",
       "      <td>8</td>\n",
       "      <td>Naruto</td>\n",
       "    </tr>\n",
       "    <tr>\n",
       "      <th>2</th>\n",
       "      <td>5</td>\n",
       "      <td>20</td>\n",
       "      <td>6</td>\n",
       "      <td>Naruto</td>\n",
       "    </tr>\n",
       "    <tr>\n",
       "      <th>3</th>\n",
       "      <td>6</td>\n",
       "      <td>20</td>\n",
       "      <td>-1</td>\n",
       "      <td>Naruto</td>\n",
       "    </tr>\n",
       "    <tr>\n",
       "      <th>4</th>\n",
       "      <td>10</td>\n",
       "      <td>20</td>\n",
       "      <td>-1</td>\n",
       "      <td>Naruto</td>\n",
       "    </tr>\n",
       "  </tbody>\n",
       "</table>\n",
       "</div>"
      ],
      "text/plain": [
       "   user_id  anime_id  rating    name\n",
       "0        1        20      -1  Naruto\n",
       "1        3        20       8  Naruto\n",
       "2        5        20       6  Naruto\n",
       "3        6        20      -1  Naruto\n",
       "4       10        20      -1  Naruto"
      ]
     },
     "execution_count": 6,
     "metadata": {},
     "output_type": "execute_result"
    }
   ],
   "source": [
    "rating_anime = ratings.merge(anime_list[['anime_id', 'name']])\n",
    "rating_anime.head()"
   ]
  },
  {
   "cell_type": "code",
   "execution_count": 13,
   "metadata": {
    "ExecuteTime": {
     "end_time": "2020-05-05T16:20:28.781002Z",
     "start_time": "2020-05-05T16:20:28.411807Z"
    }
   },
   "outputs": [
    {
     "data": {
      "text/plain": [
       "11196"
      ]
     },
     "execution_count": 13,
     "metadata": {},
     "output_type": "execute_result"
    }
   ],
   "source": [
    "len(rating_anime.name.unique())"
   ]
  },
  {
   "cell_type": "code",
   "execution_count": 7,
   "metadata": {
    "ExecuteTime": {
     "end_time": "2020-05-05T15:27:15.046007Z",
     "start_time": "2020-05-05T15:27:09.167613Z"
    }
   },
   "outputs": [],
   "source": [
    "data = CollabDataBunch.from_df(rating_anime, seed=42, valid_pct=0.1, item_name='name')"
   ]
  },
  {
   "cell_type": "code",
   "execution_count": 8,
   "metadata": {
    "ExecuteTime": {
     "end_time": "2020-05-05T15:27:17.230870Z",
     "start_time": "2020-05-05T15:27:15.048412Z"
    }
   },
   "outputs": [
    {
     "data": {
      "text/html": [
       "<table border=\"1\" class=\"dataframe\">\n",
       "  <thead>\n",
       "    <tr style=\"text-align: right;\">\n",
       "      <th>user_id</th>\n",
       "      <th>name</th>\n",
       "      <th>target</th>\n",
       "    </tr>\n",
       "  </thead>\n",
       "  <tbody>\n",
       "    <tr>\n",
       "      <td>49627</td>\n",
       "      <td>Juubee Ninpuuchou</td>\n",
       "      <td>8.0</td>\n",
       "    </tr>\n",
       "    <tr>\n",
       "      <td>7293</td>\n",
       "      <td>Love Hina Again</td>\n",
       "      <td>6.0</td>\n",
       "    </tr>\n",
       "    <tr>\n",
       "      <td>5538</td>\n",
       "      <td>Kurokami The Animation</td>\n",
       "      <td>9.0</td>\n",
       "    </tr>\n",
       "    <tr>\n",
       "      <td>39116</td>\n",
       "      <td>Black Lagoon: The Second Barrage</td>\n",
       "      <td>10.0</td>\n",
       "    </tr>\n",
       "    <tr>\n",
       "      <td>63696</td>\n",
       "      <td>No Game No Life</td>\n",
       "      <td>9.0</td>\n",
       "    </tr>\n",
       "  </tbody>\n",
       "</table>"
      ],
      "text/plain": [
       "<IPython.core.display.HTML object>"
      ]
     },
     "metadata": {},
     "output_type": "display_data"
    }
   ],
   "source": [
    "data.show_batch()"
   ]
  },
  {
   "cell_type": "code",
   "execution_count": 9,
   "metadata": {
    "ExecuteTime": {
     "end_time": "2020-05-05T15:27:27.874819Z",
     "start_time": "2020-05-05T15:27:27.871991Z"
    }
   },
   "outputs": [],
   "source": [
    "y_range = [-2,11]"
   ]
  },
  {
   "cell_type": "code",
   "execution_count": 34,
   "metadata": {
    "ExecuteTime": {
     "end_time": "2020-05-05T16:37:42.490832Z",
     "start_time": "2020-05-05T16:37:42.418990Z"
    }
   },
   "outputs": [],
   "source": [
    "learn = collab_learner(data, n_factors=40, y_range=y_range, wd=1e-1)"
   ]
  },
  {
   "cell_type": "code",
   "execution_count": 36,
   "metadata": {
    "ExecuteTime": {
     "end_time": "2020-05-05T16:38:02.044690Z",
     "start_time": "2020-05-05T16:38:01.954128Z"
    }
   },
   "outputs": [],
   "source": [
    "learn.load('dotprod');"
   ]
  },
  {
   "cell_type": "code",
   "execution_count": 37,
   "metadata": {
    "ExecuteTime": {
     "end_time": "2020-05-05T16:38:05.246531Z",
     "start_time": "2020-05-05T16:38:02.822449Z"
    },
    "scrolled": false
   },
   "outputs": [
    {
     "data": {
      "text/html": [
       "\n",
       "    <div>\n",
       "        <style>\n",
       "            /* Turns off some styling */\n",
       "            progress {\n",
       "                /* gets rid of default border in Firefox and Opera. */\n",
       "                border: none;\n",
       "                /* Needs to be in here for Safari polyfill so background images work as expected. */\n",
       "                background-size: auto;\n",
       "            }\n",
       "            .progress-bar-interrupted, .progress-bar-interrupted::-webkit-progress-bar {\n",
       "                background: #F44336;\n",
       "            }\n",
       "        </style>\n",
       "      <progress value='0' class='' max='1' style='width:300px; height:20px; vertical-align: middle;'></progress>\n",
       "      0.00% [0/1 00:00<00:00]\n",
       "    </div>\n",
       "    \n",
       "<table border=\"1\" class=\"dataframe\">\n",
       "  <thead>\n",
       "    <tr style=\"text-align: left;\">\n",
       "      <th>epoch</th>\n",
       "      <th>train_loss</th>\n",
       "      <th>valid_loss</th>\n",
       "      <th>time</th>\n",
       "    </tr>\n",
       "  </thead>\n",
       "  <tbody>\n",
       "  </tbody>\n",
       "</table><p>\n",
       "\n",
       "    <div>\n",
       "        <style>\n",
       "            /* Turns off some styling */\n",
       "            progress {\n",
       "                /* gets rid of default border in Firefox and Opera. */\n",
       "                border: none;\n",
       "                /* Needs to be in here for Safari polyfill so background images work as expected. */\n",
       "                background-size: auto;\n",
       "            }\n",
       "            .progress-bar-interrupted, .progress-bar-interrupted::-webkit-progress-bar {\n",
       "                background: #F44336;\n",
       "            }\n",
       "        </style>\n",
       "      <progress value='88' class='' max='109880' style='width:300px; height:20px; vertical-align: middle;'></progress>\n",
       "      0.08% [88/109880 00:01<27:18 7.1672]\n",
       "    </div>\n",
       "    "
      ],
      "text/plain": [
       "<IPython.core.display.HTML object>"
      ]
     },
     "metadata": {},
     "output_type": "display_data"
    },
    {
     "name": "stdout",
     "output_type": "stream",
     "text": [
      "LR Finder is complete, type {learner_name}.recorder.plot() to see the graph.\n"
     ]
    },
    {
     "data": {
      "image/png": "[encoded data removed]",
      "text/plain": [
       "<Figure size 432x288 with 1 Axes>"
      ]
     },
     "metadata": {
      "needs_background": "light"
     },
     "output_type": "display_data"
    }
   ],
   "source": [
    "learn.lr_find()\n",
    "learn.recorder.plot(skip_end=15)"
   ]
  },
  {
   "cell_type": "code",
   "execution_count": 38,
   "metadata": {
    "ExecuteTime": {
     "end_time": "2020-05-05T17:21:46.640420Z",
     "start_time": "2020-05-05T16:38:22.037087Z"
    }
   },
   "outputs": [
    {
     "data": {
      "text/html": [
       "<table border=\"1\" class=\"dataframe\">\n",
       "  <thead>\n",
       "    <tr style=\"text-align: left;\">\n",
       "      <th>epoch</th>\n",
       "      <th>train_loss</th>\n",
       "      <th>valid_loss</th>\n",
       "      <th>time</th>\n",
       "    </tr>\n",
       "  </thead>\n",
       "  <tbody>\n",
       "    <tr>\n",
       "      <td>0</td>\n",
       "      <td>5.705852</td>\n",
       "      <td>5.911939</td>\n",
       "      <td>08:44</td>\n",
       "    </tr>\n",
       "    <tr>\n",
       "      <td>1</td>\n",
       "      <td>5.970082</td>\n",
       "      <td>5.936195</td>\n",
       "      <td>08:44</td>\n",
       "    </tr>\n",
       "    <tr>\n",
       "      <td>2</td>\n",
       "      <td>5.969931</td>\n",
       "      <td>5.929643</td>\n",
       "      <td>08:39</td>\n",
       "    </tr>\n",
       "    <tr>\n",
       "      <td>3</td>\n",
       "      <td>5.874405</td>\n",
       "      <td>5.915240</td>\n",
       "      <td>08:44</td>\n",
       "    </tr>\n",
       "    <tr>\n",
       "      <td>4</td>\n",
       "      <td>5.748025</td>\n",
       "      <td>5.911481</td>\n",
       "      <td>08:31</td>\n",
       "    </tr>\n",
       "  </tbody>\n",
       "</table>"
      ],
      "text/plain": [
       "<IPython.core.display.HTML object>"
      ]
     },
     "metadata": {},
     "output_type": "display_data"
    }
   ],
   "source": [
    "learn.fit_one_cycle(5, 1e-4)"
   ]
  },
  {
   "cell_type": "code",
   "execution_count": 39,
   "metadata": {
    "ExecuteTime": {
     "end_time": "2020-05-05T17:21:51.813052Z",
     "start_time": "2020-05-05T17:21:51.276448Z"
    }
   },
   "outputs": [],
   "source": [
    "learn.save('dotprod')"
   ]
  },
  {
   "cell_type": "markdown",
   "metadata": {},
   "source": [
    "Here's [some benchmarks](https://www.librec.net/release/v1.3/example.html) on the same dataset for the popular Librec system for collaborative filtering. They show best results based on RMSE of 0.91, which corresponds to an MSE of `0.91**2 = 0.83`."
   ]
  },
  {
   "cell_type": "markdown",
   "metadata": {},
   "source": [
    "## Interpretation"
   ]
  },
  {
   "cell_type": "markdown",
   "metadata": {},
   "source": [
    "### Setup"
   ]
  },
  {
   "cell_type": "code",
   "execution_count": null,
   "metadata": {},
   "outputs": [],
   "source": [
    "learn.load('dotprod');"
   ]
  },
  {
   "cell_type": "code",
   "execution_count": 15,
   "metadata": {
    "ExecuteTime": {
     "end_time": "2020-05-05T16:21:02.171608Z",
     "start_time": "2020-05-05T16:21:02.158635Z"
    }
   },
   "outputs": [
    {
     "data": {
      "text/plain": [
       "EmbeddingDotBias(\n",
       "  (u_weight): Embedding(73261, 40)\n",
       "  (i_weight): Embedding(11036, 40)\n",
       "  (u_bias): Embedding(73261, 1)\n",
       "  (i_bias): Embedding(11036, 1)\n",
       ")"
      ]
     },
     "execution_count": 15,
     "metadata": {},
     "output_type": "execute_result"
    }
   ],
   "source": [
    "learn.model"
   ]
  },
  {
   "cell_type": "code",
   "execution_count": 40,
   "metadata": {
    "ExecuteTime": {
     "end_time": "2020-05-05T17:29:32.423224Z",
     "start_time": "2020-05-05T17:29:31.913857Z"
    }
   },
   "outputs": [
    {
     "data": {
      "text/plain": [
       "array(['Death Note', 'Sword Art Online', 'Shingeki no Kyojin', 'Code Geass: Hangyaku no Lelouch', 'Elfen Lied',\n",
       "       'Angel Beats!', 'Naruto', 'Fullmetal Alchemist', 'Fullmetal Alchemist: Brotherhood', 'Toradora!'], dtype=object)"
      ]
     },
     "execution_count": 40,
     "metadata": {},
     "output_type": "execute_result"
    }
   ],
   "source": [
    "g = rating_anime.groupby('name')['rating'].count()\n",
    "top_movies = g.sort_values(ascending=False).index.values[:1000]\n",
    "top_movies[:10]"
   ]
  },
  {
   "cell_type": "markdown",
   "metadata": {},
   "source": [
    "### Movie bias"
   ]
  },
  {
   "cell_type": "code",
   "execution_count": 41,
   "metadata": {
    "ExecuteTime": {
     "end_time": "2020-05-05T17:29:34.590165Z",
     "start_time": "2020-05-05T17:29:34.573789Z"
    }
   },
   "outputs": [
    {
     "data": {
      "text/plain": [
       "torch.Size([1000])"
      ]
     },
     "execution_count": 41,
     "metadata": {},
     "output_type": "execute_result"
    }
   ],
   "source": [
    "movie_bias = learn.bias(top_movies, is_item=True)\n",
    "movie_bias.shape"
   ]
  },
  {
   "cell_type": "code",
   "execution_count": 42,
   "metadata": {
    "ExecuteTime": {
     "end_time": "2020-05-05T17:29:35.507818Z",
     "start_time": "2020-05-05T17:29:35.001286Z"
    }
   },
   "outputs": [],
   "source": [
    "mean_ratings = rating_anime.groupby('name')['rating'].mean()\n",
    "movie_ratings = [(b, i, mean_ratings.loc[i]) for i,b in zip(top_movies,movie_bias)]"
   ]
  },
  {
   "cell_type": "code",
   "execution_count": 43,
   "metadata": {
    "ExecuteTime": {
     "end_time": "2020-05-05T17:29:35.511798Z",
     "start_time": "2020-05-05T17:29:35.509464Z"
    }
   },
   "outputs": [],
   "source": [
    "item0 = lambda o:o[0]"
   ]
  },
  {
   "cell_type": "code",
   "execution_count": 44,
   "metadata": {
    "ExecuteTime": {
     "end_time": "2020-05-05T17:29:36.530900Z",
     "start_time": "2020-05-05T17:29:36.480031Z"
    }
   },
   "outputs": [
    {
     "data": {
      "text/plain": [
       "[(tensor(-0.3335), 'Pupa', 3.1613746731415766),\n",
       " (tensor(-0.2157), 'Boku no Pico', 3.5757575757575757),\n",
       " (tensor(-0.1394),\n",
       "  'Dragon Ball Z Movie 11: Super Senshi Gekiha!! Katsu no wa Ore da',\n",
       "  4.351637764932563),\n",
       " (tensor(-0.1153), 'Diabolik Lovers', 4.488091737724199),\n",
       " (tensor(-0.1108), 'Glasslip', 4.596376252891288),\n",
       " (tensor(-0.1075),\n",
       "  'Naruto: Akaki Yotsuba no Clover wo Sagase',\n",
       "  4.476779252110977),\n",
       " (tensor(-0.0852),\n",
       "  'Dragon Ball Z Movie 02: Kono Yo de Ichiban Tsuyoi Yatsu',\n",
       "  4.74),\n",
       " (tensor(-0.0819),\n",
       "  'Naruto Movie 2: Dai Gekitotsu! Maboroshi no Chiteiiseki Dattebayo!',\n",
       "  4.951397712833545),\n",
       " (tensor(-0.0816),\n",
       "  'Naruto Movie 3: Dai Koufun! Mikazuki Jima no Animaru Panikku Dattebayo!',\n",
       "  4.8946115927248),\n",
       " (tensor(-0.0787), 'Corpse Party: Missing Footage', 4.5197811447811445),\n",
       " (tensor(-0.0738), 'Toradora!: SOS!', 4.732433505359269),\n",
       " (tensor(-0.0737),\n",
       "  'Dragon Ball Z Movie 04: Super Saiyajin da Son Gokuu',\n",
       "  4.719033232628399),\n",
       " (tensor(-0.0720),\n",
       "  'Naruto: Dai Katsugeki!! Yuki Hime Shinobu Houjou Dattebayo! Special: Konoha Annual Sports Festival',\n",
       "  4.696438995913602),\n",
       " (tensor(-0.0691), 'Shingeki no Kyojin: Ano Hi Kara', 4.551762523191095),\n",
       " (tensor(-0.0689), 'Mahou Sensou', 4.943461873006669)]"
      ]
     },
     "execution_count": 44,
     "metadata": {},
     "output_type": "execute_result"
    }
   ],
   "source": [
    "sorted(movie_ratings, key=item0)[:15]"
   ]
  },
  {
   "cell_type": "code",
   "execution_count": 55,
   "metadata": {
    "ExecuteTime": {
     "end_time": "2020-05-05T18:27:50.246079Z",
     "start_time": "2020-05-05T18:27:50.177343Z"
    }
   },
   "outputs": [
    {
     "data": {
      "text/plain": [
       "[(tensor(0.7210), 'Steins;Gate', 8.126795623087693),\n",
       " (tensor(0.7093), 'Fullmetal Alchemist: Brotherhood', 8.028933018637584),\n",
       " (tensor(0.6179), 'Hunter x Hunter (2011)', 7.924081632653062),\n",
       " (tensor(0.6179), 'Code Geass: Hangyaku no Lelouch R2', 7.76594340400957),\n",
       " (tensor(0.6112), 'Tengen Toppa Gurren Lagann', 7.709572322490562),\n",
       " (tensor(0.6039), 'Clannad: After Story', 7.835275008401479),\n",
       " (tensor(0.5896), 'Code Geass: Hangyaku no Lelouch', 7.641243956995454),\n",
       " (tensor(0.5892), 'Death Note', 7.556176919166243),\n",
       " (tensor(0.5599), 'Monster', 7.809098824553765),\n",
       " (tensor(0.5571), 'Cowboy Bebop', 7.5585144109871685),\n",
       " (tensor(0.5521), 'Shigatsu wa Kimi no Uso', 7.740262489415749),\n",
       " (tensor(0.5498), 'Great Teacher Onizuka', 7.590835030549898),\n",
       " (tensor(0.5446), 'Gintama', 7.7752312022517085),\n",
       " (tensor(0.5377), 'Mushishi', 7.657909765848087),\n",
       " (tensor(0.5238), 'Kimi no Na wa.', 8.297862664847658),\n",
       " (tensor(0.5120), 'Baccano!', 7.473803071364047),\n",
       " (tensor(0.5024), 'Gintama&#039;', 7.711952082766131),\n",
       " (tensor(0.4994), 'Hajime no Ippo', 7.619047619047619),\n",
       " (tensor(0.4897),\n",
       "  'Ano Hi Mita Hana no Namae wo Bokutachi wa Mada Shiranai.',\n",
       "  7.452303889836991),\n",
       " (tensor(0.4787), 'Shinsekai yori', 7.448165869218501),\n",
       " (tensor(0.4708), 'Katanagatari', 7.354147075418469),\n",
       " (tensor(0.4700), 'Angel Beats!', 7.278666813817459),\n",
       " (tensor(0.4692), 'Ookami Kodomo no Ame to Yuki', 7.539499286548191),\n",
       " (tensor(0.4622), 'Boku dake ga Inai Machi', 7.4827886710239655),\n",
       " (tensor(0.4605), 'Suzumiya Haruhi no Shoushitsu', 7.475563909774436)]"
      ]
     },
     "execution_count": 55,
     "metadata": {},
     "output_type": "execute_result"
    }
   ],
   "source": [
    "sorted(movie_ratings, key=lambda o: o[0], reverse=True)[:25]"
   ]
  },
  {
   "cell_type": "markdown",
   "metadata": {},
   "source": [
    "### Movie weights"
   ]
  },
  {
   "cell_type": "code",
   "execution_count": 46,
   "metadata": {
    "ExecuteTime": {
     "end_time": "2020-05-05T17:29:39.121903Z",
     "start_time": "2020-05-05T17:29:39.106093Z"
    }
   },
   "outputs": [
    {
     "data": {
      "text/plain": [
       "torch.Size([1000, 40])"
      ]
     },
     "execution_count": 46,
     "metadata": {},
     "output_type": "execute_result"
    }
   ],
   "source": [
    "movie_w = learn.weight(top_movies, is_item=True)\n",
    "movie_w.shape"
   ]
  },
  {
   "cell_type": "code",
   "execution_count": 47,
   "metadata": {
    "ExecuteTime": {
     "end_time": "2020-05-05T17:29:40.180169Z",
     "start_time": "2020-05-05T17:29:40.171122Z"
    }
   },
   "outputs": [
    {
     "data": {
      "text/plain": [
       "torch.Size([1000, 3])"
      ]
     },
     "execution_count": 47,
     "metadata": {},
     "output_type": "execute_result"
    }
   ],
   "source": [
    "movie_pca = movie_w.pca(3)\n",
    "movie_pca.shape"
   ]
  },
  {
   "cell_type": "code",
   "execution_count": 48,
   "metadata": {
    "ExecuteTime": {
     "end_time": "2020-05-05T17:29:41.547062Z",
     "start_time": "2020-05-05T17:29:41.538576Z"
    }
   },
   "outputs": [],
   "source": [
    "fac0,fac1,fac2 = movie_pca.t()\n",
    "movie_comp = [(f, i) for f,i in zip(fac0, top_movies)]"
   ]
  },
  {
   "cell_type": "code",
   "execution_count": 49,
   "metadata": {
    "ExecuteTime": {
     "end_time": "2020-05-05T17:29:42.395562Z",
     "start_time": "2020-05-05T17:29:42.344255Z"
    }
   },
   "outputs": [
    {
     "data": {
      "text/plain": [
       "[(tensor(1.6426), 'Pupa'),\n",
       " (tensor(1.5783), 'Boku no Pico'),\n",
       " (tensor(1.0954), 'Glasslip'),\n",
       " (tensor(0.9007), 'Corpse Party: Missing Footage'),\n",
       " (tensor(0.8849), 'Aki-Sora'),\n",
       " (tensor(0.8542), 'Oniichan no Koto nanka Zenzen Suki ja Nai n da kara ne!!'),\n",
       " (tensor(0.8129), 'Toradora!: SOS!'),\n",
       " (tensor(0.7888), 'Tenshi Kinryouku'),\n",
       " (tensor(0.7881),\n",
       "  'Dragon Ball Z Movie 11: Super Senshi Gekiha!! Katsu no wa Ore da'),\n",
       " (tensor(0.7736), 'Okusama ga Seitokaichou!')]"
      ]
     },
     "execution_count": 49,
     "metadata": {},
     "output_type": "execute_result"
    }
   ],
   "source": [
    "sorted(movie_comp, key=itemgetter(0), reverse=True)[:10]"
   ]
  },
  {
   "cell_type": "code",
   "execution_count": 50,
   "metadata": {
    "ExecuteTime": {
     "end_time": "2020-05-05T17:29:43.014325Z",
     "start_time": "2020-05-05T17:29:42.946409Z"
    }
   },
   "outputs": [
    {
     "data": {
      "text/plain": [
       "[(tensor(-1.4599), 'Sen to Chihiro no Kamikakushi'),\n",
       " (tensor(-1.3138), 'Mononoke Hime'),\n",
       " (tensor(-1.2568), 'Howl no Ugoku Shiro'),\n",
       " (tensor(-1.1386), 'Tonari no Totoro'),\n",
       " (tensor(-1.1171), 'Death Note'),\n",
       " (tensor(-1.0695), 'Shingeki no Kyojin'),\n",
       " (tensor(-1.0219), 'Fullmetal Alchemist: Brotherhood'),\n",
       " (tensor(-0.9832), 'Ouran Koukou Host Club'),\n",
       " (tensor(-0.9098), 'Tenkuu no Shiro Laputa'),\n",
       " (tensor(-0.9097), 'Majo no Takkyuubin')]"
      ]
     },
     "execution_count": 50,
     "metadata": {},
     "output_type": "execute_result"
    }
   ],
   "source": [
    "sorted(movie_comp, key=itemgetter(0))[:10]"
   ]
  },
  {
   "cell_type": "code",
   "execution_count": 51,
   "metadata": {
    "ExecuteTime": {
     "end_time": "2020-05-05T17:29:44.311319Z",
     "start_time": "2020-05-05T17:29:44.304604Z"
    }
   },
   "outputs": [],
   "source": [
    "movie_comp = [(f, i) for f,i in zip(fac1, top_movies)]"
   ]
  },
  {
   "cell_type": "code",
   "execution_count": 52,
   "metadata": {
    "ExecuteTime": {
     "end_time": "2020-05-05T17:29:46.052856Z",
     "start_time": "2020-05-05T17:29:45.990419Z"
    }
   },
   "outputs": [
    {
     "data": {
      "text/plain": [
       "[(tensor(2.6077e-08), 'Danshi Koukousei no Nichijou'),\n",
       " (tensor(1.3039e-08), 'Kimi ni Todoke'),\n",
       " (tensor(9.3132e-09), 'Pokemon: Kesshoutou no Teiou Entei'),\n",
       " (tensor(6.5193e-09), 'One Punch Man: Road to Hero'),\n",
       " (tensor(1.8626e-09), 'Clannad'),\n",
       " (tensor(-3.7253e-09), 'Nana'),\n",
       " (tensor(-1.1176e-08), 'Nodame Cantabile'),\n",
       " (tensor(-1.4901e-08), 'Kaichou wa Maid-sama!'),\n",
       " (tensor(-1.4901e-08),\n",
       "  'Mahou Shoujo Madoka★Magica Movie 3: Hangyaku no Monogatari'),\n",
       " (tensor(-1.7695e-08), 'Deadman Wonderland OVA')]"
      ]
     },
     "execution_count": 52,
     "metadata": {},
     "output_type": "execute_result"
    }
   ],
   "source": [
    "sorted(movie_comp, key=itemgetter(0), reverse=True)[:10]"
   ]
  },
  {
   "cell_type": "code",
   "execution_count": 53,
   "metadata": {
    "ExecuteTime": {
     "end_time": "2020-05-05T17:29:48.913469Z",
     "start_time": "2020-05-05T17:29:48.857172Z"
    }
   },
   "outputs": [
    {
     "data": {
      "text/plain": [
       "[(tensor(-3.2224e-07), 'Tokyo Ghoul'),\n",
       " (tensor(-2.2352e-07), 'Erementar Gerad'),\n",
       " (tensor(-2.1979e-07), 'Code Geass: Hangyaku no Lelouch'),\n",
       " (tensor(-2.0862e-07), 'Steins;Gate'),\n",
       " (tensor(-2.0373e-07), 'Grisaia no Kajitsu'),\n",
       " (tensor(-2.0233e-07), 'Break Blade 5: Shisen no Hate'),\n",
       " (tensor(-2.0117e-07), 'Tales of the Abyss'),\n",
       " (tensor(-1.9977e-07), 'Aa! Megami-sama! (TV)'),\n",
       " (tensor(-1.9837e-07), 'Ookami to Koushinryou'),\n",
       " (tensor(-1.9744e-07), 'Fate/stay night')]"
      ]
     },
     "execution_count": 53,
     "metadata": {},
     "output_type": "execute_result"
    }
   ],
   "source": [
    "sorted(movie_comp, key=itemgetter(0))[:10]"
   ]
  },
  {
   "cell_type": "code",
   "execution_count": 54,
   "metadata": {
    "ExecuteTime": {
     "end_time": "2020-05-05T17:29:50.236319Z",
     "start_time": "2020-05-05T17:29:49.805471Z"
    }
   },
   "outputs": [
    {
     "data": {
      "image/png": "[encoded data removed]",
      "text/plain": [
       "<Figure size 1080x1080 with 1 Axes>"
      ]
     },
     "metadata": {
      "needs_background": "light"
     },
     "output_type": "display_data"
    }
   ],
   "source": [
    "idxs = np.random.choice(len(top_movies), 50, replace=False)\n",
    "idxs = list(range(50))\n",
    "X = fac0[idxs]\n",
    "Y = fac2[idxs]\n",
    "plt.figure(figsize=(15,15))\n",
    "plt.scatter(X, Y)\n",
    "for i, x, y in zip(top_movies[idxs], X, Y):\n",
    "    plt.text(x,y,i, color=np.random.rand(3)*0.7, fontsize=11)\n",
    "plt.show()"
   ]
  },
  {
   "cell_type": "code",
   "execution_count": null,
   "metadata": {},
   "outputs": [],
   "source": []
  }
 ],
 "metadata": {
  "kernelspec": {
   "display_name": "Python 3",
   "language": "python",
   "name": "python3"
  },
  "language_info": {
   "codemirror_mode": {
    "name": "ipython",
    "version": 3
   },
   "file_extension": ".py",
   "mimetype": "text/x-python",
   "name": "python",
   "nbconvert_exporter": "python",
   "pygments_lexer": "ipython3",
   "version": "3.6.9"
  }
 },
 "nbformat": 4,
 "nbformat_minor": 2
}
